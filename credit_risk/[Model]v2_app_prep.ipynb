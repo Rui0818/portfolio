{
 "cells": [
  {
   "cell_type": "code",
   "execution_count": 2,
   "id": "f4f3052b",
   "metadata": {},
   "outputs": [],
   "source": [
    "import pandas as pd\n",
    "import numpy as np\n",
    "# For data visualization\n",
    "import matplotlib.pyplot as plt\n",
    "# For models\n",
    "from sklearn.model_selection import train_test_split\n",
    "from sklearn.metrics import (\n",
    "    accuracy_score, confusion_matrix, classification_report, \n",
    "    roc_auc_score, roc_curve, auc,\n",
    "    plot_confusion_matrix, plot_roc_curve\n",
    ")\n",
    "from xgboost import XGBClassifier\n",
    "import pickle"
   ]
  },
  {
   "cell_type": "code",
   "execution_count": null,
   "id": "5fbea6cb",
   "metadata": {},
   "outputs": [],
   "source": []
  },
  {
   "cell_type": "code",
   "execution_count": 2,
   "id": "704c752e",
   "metadata": {},
   "outputs": [],
   "source": [
    "import xgboost"
   ]
  },
  {
   "cell_type": "code",
   "execution_count": 85,
   "id": "d55a6bbe",
   "metadata": {},
   "outputs": [
    {
     "data": {
      "text/plain": [
       "'1.3.3'"
      ]
     },
     "execution_count": 85,
     "metadata": {},
     "output_type": "execute_result"
    }
   ],
   "source": [
    "xgboost.__version__"
   ]
  },
  {
   "cell_type": "code",
   "execution_count": 77,
   "id": "1c1bda86",
   "metadata": {},
   "outputs": [
    {
     "data": {
      "text/plain": [
       "'1.20.1'"
      ]
     },
     "execution_count": 77,
     "metadata": {},
     "output_type": "execute_result"
    }
   ],
   "source": [
    "np.__version__"
   ]
  },
  {
   "cell_type": "code",
   "execution_count": 78,
   "id": "83419939",
   "metadata": {
    "scrolled": true
   },
   "outputs": [
    {
     "data": {
      "text/plain": [
       "'1.2.4'"
      ]
     },
     "execution_count": 78,
     "metadata": {},
     "output_type": "execute_result"
    }
   ],
   "source": [
    "pd.__version__"
   ]
  },
  {
   "cell_type": "code",
   "execution_count": 58,
   "id": "614dddb7",
   "metadata": {},
   "outputs": [],
   "source": [
    "loan = pd.read_csv('loan_v1.csv')"
   ]
  },
  {
   "cell_type": "code",
   "execution_count": null,
   "id": "ac00b92a",
   "metadata": {},
   "outputs": [],
   "source": []
  },
  {
   "cell_type": "code",
   "execution_count": null,
   "id": "d9dab6c5",
   "metadata": {},
   "outputs": [],
   "source": []
  },
  {
   "cell_type": "code",
   "execution_count": 59,
   "id": "47b00f64",
   "metadata": {
    "scrolled": true
   },
   "outputs": [
    {
     "data": {
      "text/html": [
       "<div>\n",
       "<style scoped>\n",
       "    .dataframe tbody tr th:only-of-type {\n",
       "        vertical-align: middle;\n",
       "    }\n",
       "\n",
       "    .dataframe tbody tr th {\n",
       "        vertical-align: top;\n",
       "    }\n",
       "\n",
       "    .dataframe thead th {\n",
       "        text-align: right;\n",
       "    }\n",
       "</style>\n",
       "<table border=\"1\" class=\"dataframe\">\n",
       "  <thead>\n",
       "    <tr style=\"text-align: right;\">\n",
       "      <th></th>\n",
       "      <th>loan_amnt</th>\n",
       "      <th>term</th>\n",
       "      <th>int_rate</th>\n",
       "      <th>sub_grade</th>\n",
       "      <th>home_ownership</th>\n",
       "      <th>annual_inc</th>\n",
       "      <th>verification_status</th>\n",
       "      <th>purpose</th>\n",
       "      <th>addr_state</th>\n",
       "      <th>dti</th>\n",
       "      <th>...</th>\n",
       "      <th>pub_rec</th>\n",
       "      <th>revol_bal</th>\n",
       "      <th>revol_util</th>\n",
       "      <th>initial_list_status</th>\n",
       "      <th>application_type</th>\n",
       "      <th>mort_acc</th>\n",
       "      <th>pub_rec_bankruptcies</th>\n",
       "      <th>loan_status_flag</th>\n",
       "      <th>fico</th>\n",
       "      <th>earliest_cr_line_y</th>\n",
       "    </tr>\n",
       "  </thead>\n",
       "  <tbody>\n",
       "    <tr>\n",
       "      <th>0</th>\n",
       "      <td>5000.0</td>\n",
       "      <td>36</td>\n",
       "      <td>10.65</td>\n",
       "      <td>B2</td>\n",
       "      <td>RENT</td>\n",
       "      <td>24000.0</td>\n",
       "      <td>Verified</td>\n",
       "      <td>credit_card</td>\n",
       "      <td>AZ</td>\n",
       "      <td>27.65</td>\n",
       "      <td>...</td>\n",
       "      <td>0.0</td>\n",
       "      <td>13648.0</td>\n",
       "      <td>83.7</td>\n",
       "      <td>f</td>\n",
       "      <td>Individual</td>\n",
       "      <td>2.0</td>\n",
       "      <td>0.0</td>\n",
       "      <td>0</td>\n",
       "      <td>737.0</td>\n",
       "      <td>36</td>\n",
       "    </tr>\n",
       "    <tr>\n",
       "      <th>1</th>\n",
       "      <td>2500.0</td>\n",
       "      <td>60</td>\n",
       "      <td>15.27</td>\n",
       "      <td>C4</td>\n",
       "      <td>RENT</td>\n",
       "      <td>30000.0</td>\n",
       "      <td>Source Verified</td>\n",
       "      <td>car</td>\n",
       "      <td>GA</td>\n",
       "      <td>1.00</td>\n",
       "      <td>...</td>\n",
       "      <td>0.0</td>\n",
       "      <td>1687.0</td>\n",
       "      <td>9.4</td>\n",
       "      <td>f</td>\n",
       "      <td>Individual</td>\n",
       "      <td>2.0</td>\n",
       "      <td>0.0</td>\n",
       "      <td>1</td>\n",
       "      <td>742.0</td>\n",
       "      <td>22</td>\n",
       "    </tr>\n",
       "    <tr>\n",
       "      <th>2</th>\n",
       "      <td>2400.0</td>\n",
       "      <td>36</td>\n",
       "      <td>15.96</td>\n",
       "      <td>C5</td>\n",
       "      <td>RENT</td>\n",
       "      <td>12252.0</td>\n",
       "      <td>Not Verified</td>\n",
       "      <td>small_business</td>\n",
       "      <td>IL</td>\n",
       "      <td>8.72</td>\n",
       "      <td>...</td>\n",
       "      <td>0.0</td>\n",
       "      <td>2956.0</td>\n",
       "      <td>98.5</td>\n",
       "      <td>f</td>\n",
       "      <td>Individual</td>\n",
       "      <td>2.0</td>\n",
       "      <td>0.0</td>\n",
       "      <td>0</td>\n",
       "      <td>737.0</td>\n",
       "      <td>20</td>\n",
       "    </tr>\n",
       "    <tr>\n",
       "      <th>3</th>\n",
       "      <td>10000.0</td>\n",
       "      <td>36</td>\n",
       "      <td>13.49</td>\n",
       "      <td>C1</td>\n",
       "      <td>RENT</td>\n",
       "      <td>49200.0</td>\n",
       "      <td>Source Verified</td>\n",
       "      <td>other</td>\n",
       "      <td>CA</td>\n",
       "      <td>20.00</td>\n",
       "      <td>...</td>\n",
       "      <td>0.0</td>\n",
       "      <td>5598.0</td>\n",
       "      <td>21.0</td>\n",
       "      <td>f</td>\n",
       "      <td>Individual</td>\n",
       "      <td>2.0</td>\n",
       "      <td>0.0</td>\n",
       "      <td>0</td>\n",
       "      <td>692.0</td>\n",
       "      <td>25</td>\n",
       "    </tr>\n",
       "    <tr>\n",
       "      <th>4</th>\n",
       "      <td>3000.0</td>\n",
       "      <td>60</td>\n",
       "      <td>12.69</td>\n",
       "      <td>B5</td>\n",
       "      <td>RENT</td>\n",
       "      <td>80000.0</td>\n",
       "      <td>Source Verified</td>\n",
       "      <td>other</td>\n",
       "      <td>OR</td>\n",
       "      <td>17.94</td>\n",
       "      <td>...</td>\n",
       "      <td>0.0</td>\n",
       "      <td>27783.0</td>\n",
       "      <td>53.9</td>\n",
       "      <td>f</td>\n",
       "      <td>Individual</td>\n",
       "      <td>2.0</td>\n",
       "      <td>0.0</td>\n",
       "      <td>0</td>\n",
       "      <td>697.0</td>\n",
       "      <td>25</td>\n",
       "    </tr>\n",
       "  </tbody>\n",
       "</table>\n",
       "<p>5 rows × 21 columns</p>\n",
       "</div>"
      ],
      "text/plain": [
       "   loan_amnt  term  int_rate sub_grade home_ownership  annual_inc  \\\n",
       "0     5000.0    36     10.65        B2           RENT     24000.0   \n",
       "1     2500.0    60     15.27        C4           RENT     30000.0   \n",
       "2     2400.0    36     15.96        C5           RENT     12252.0   \n",
       "3    10000.0    36     13.49        C1           RENT     49200.0   \n",
       "4     3000.0    60     12.69        B5           RENT     80000.0   \n",
       "\n",
       "  verification_status         purpose addr_state    dti  ...  pub_rec  \\\n",
       "0            Verified     credit_card         AZ  27.65  ...      0.0   \n",
       "1     Source Verified             car         GA   1.00  ...      0.0   \n",
       "2        Not Verified  small_business         IL   8.72  ...      0.0   \n",
       "3     Source Verified           other         CA  20.00  ...      0.0   \n",
       "4     Source Verified           other         OR  17.94  ...      0.0   \n",
       "\n",
       "   revol_bal  revol_util  initial_list_status application_type mort_acc  \\\n",
       "0    13648.0        83.7                    f       Individual      2.0   \n",
       "1     1687.0         9.4                    f       Individual      2.0   \n",
       "2     2956.0        98.5                    f       Individual      2.0   \n",
       "3     5598.0        21.0                    f       Individual      2.0   \n",
       "4    27783.0        53.9                    f       Individual      2.0   \n",
       "\n",
       "   pub_rec_bankruptcies  loan_status_flag   fico  earliest_cr_line_y  \n",
       "0                   0.0                 0  737.0                  36  \n",
       "1                   0.0                 1  742.0                  22  \n",
       "2                   0.0                 0  737.0                  20  \n",
       "3                   0.0                 0  692.0                  25  \n",
       "4                   0.0                 0  697.0                  25  \n",
       "\n",
       "[5 rows x 21 columns]"
      ]
     },
     "execution_count": 59,
     "metadata": {},
     "output_type": "execute_result"
    }
   ],
   "source": [
    "loan.drop('Unnamed: 0',axis=1, inplace=True)\n",
    "loan.head()"
   ]
  },
  {
   "cell_type": "markdown",
   "id": "746862bf",
   "metadata": {},
   "source": [
    "## **Create Dummy Variables**"
   ]
  },
  {
   "cell_type": "code",
   "execution_count": 60,
   "id": "197f557b",
   "metadata": {
    "scrolled": true
   },
   "outputs": [
    {
     "data": {
      "text/plain": [
       "['sub_grade',\n",
       " 'home_ownership',\n",
       " 'verification_status',\n",
       " 'purpose',\n",
       " 'addr_state',\n",
       " 'initial_list_status',\n",
       " 'application_type']"
      ]
     },
     "execution_count": 60,
     "metadata": {},
     "output_type": "execute_result"
    }
   ],
   "source": [
    "#Find all the categorical variables\n",
    "dummy = [column for column in loan.columns if loan[column].dtype == object]\n",
    "dummy"
   ]
  },
  {
   "cell_type": "code",
   "execution_count": 61,
   "id": "60a4e558",
   "metadata": {
    "scrolled": true
   },
   "outputs": [
    {
     "data": {
      "text/html": [
       "<div>\n",
       "<style scoped>\n",
       "    .dataframe tbody tr th:only-of-type {\n",
       "        vertical-align: middle;\n",
       "    }\n",
       "\n",
       "    .dataframe tbody tr th {\n",
       "        vertical-align: top;\n",
       "    }\n",
       "\n",
       "    .dataframe thead th {\n",
       "        text-align: right;\n",
       "    }\n",
       "</style>\n",
       "<table border=\"1\" class=\"dataframe\">\n",
       "  <thead>\n",
       "    <tr style=\"text-align: right;\">\n",
       "      <th></th>\n",
       "      <th>sub_grade</th>\n",
       "      <th>home_ownership</th>\n",
       "      <th>verification_status</th>\n",
       "      <th>purpose</th>\n",
       "      <th>addr_state</th>\n",
       "      <th>initial_list_status</th>\n",
       "      <th>application_type</th>\n",
       "    </tr>\n",
       "  </thead>\n",
       "  <tbody>\n",
       "    <tr>\n",
       "      <th>0</th>\n",
       "      <td>B2</td>\n",
       "      <td>RENT</td>\n",
       "      <td>Verified</td>\n",
       "      <td>credit_card</td>\n",
       "      <td>AZ</td>\n",
       "      <td>f</td>\n",
       "      <td>Individual</td>\n",
       "    </tr>\n",
       "    <tr>\n",
       "      <th>1</th>\n",
       "      <td>C4</td>\n",
       "      <td>RENT</td>\n",
       "      <td>Source Verified</td>\n",
       "      <td>car</td>\n",
       "      <td>GA</td>\n",
       "      <td>f</td>\n",
       "      <td>Individual</td>\n",
       "    </tr>\n",
       "    <tr>\n",
       "      <th>2</th>\n",
       "      <td>C5</td>\n",
       "      <td>RENT</td>\n",
       "      <td>Not Verified</td>\n",
       "      <td>small_business</td>\n",
       "      <td>IL</td>\n",
       "      <td>f</td>\n",
       "      <td>Individual</td>\n",
       "    </tr>\n",
       "    <tr>\n",
       "      <th>3</th>\n",
       "      <td>C1</td>\n",
       "      <td>RENT</td>\n",
       "      <td>Source Verified</td>\n",
       "      <td>other</td>\n",
       "      <td>CA</td>\n",
       "      <td>f</td>\n",
       "      <td>Individual</td>\n",
       "    </tr>\n",
       "    <tr>\n",
       "      <th>4</th>\n",
       "      <td>B5</td>\n",
       "      <td>RENT</td>\n",
       "      <td>Source Verified</td>\n",
       "      <td>other</td>\n",
       "      <td>OR</td>\n",
       "      <td>f</td>\n",
       "      <td>Individual</td>\n",
       "    </tr>\n",
       "  </tbody>\n",
       "</table>\n",
       "</div>"
      ],
      "text/plain": [
       "  sub_grade home_ownership verification_status         purpose addr_state  \\\n",
       "0        B2           RENT            Verified     credit_card         AZ   \n",
       "1        C4           RENT     Source Verified             car         GA   \n",
       "2        C5           RENT        Not Verified  small_business         IL   \n",
       "3        C1           RENT     Source Verified           other         CA   \n",
       "4        B5           RENT     Source Verified           other         OR   \n",
       "\n",
       "  initial_list_status application_type  \n",
       "0                   f       Individual  \n",
       "1                   f       Individual  \n",
       "2                   f       Individual  \n",
       "3                   f       Individual  \n",
       "4                   f       Individual  "
      ]
     },
     "execution_count": 61,
     "metadata": {},
     "output_type": "execute_result"
    }
   ],
   "source": [
    "loan[dummy].head()"
   ]
  },
  {
   "cell_type": "markdown",
   "id": "3e78e0a6",
   "metadata": {},
   "source": [
    "## Some preparation for Streamlit"
   ]
  },
  {
   "cell_type": "code",
   "execution_count": 62,
   "id": "a138c9d0",
   "metadata": {},
   "outputs": [
    {
     "name": "stdout",
     "output_type": "stream",
     "text": [
      "sub_grade ['A1', 'A2', 'A3', 'A4', 'A5', 'B1', 'B2', 'B3', 'B4', 'B5', 'C1', 'C2', 'C3', 'C4', 'C5', 'D1', 'D2', 'D3', 'D4', 'D5', 'E1', 'E2', 'E3', 'E4', 'E5', 'F1', 'F2', 'F3', 'F4', 'F5', 'G1', 'G2', 'G3', 'G4', 'G5']\n",
      "home_ownership ['MORTGAGE', 'OTHER', 'OWN', 'RENT']\n",
      "verification_status ['Not Verified', 'Source Verified', 'Verified']\n",
      "purpose ['car', 'credit_card', 'debt_consolidation', 'educational', 'home_improvement', 'house', 'major_purchase', 'medical', 'moving', 'other', 'renewable_energy', 'small_business', 'vacation', 'wedding']\n",
      "addr_state ['AK', 'AL', 'AR', 'AZ', 'CA', 'CO', 'CT', 'DC', 'DE', 'FL', 'GA', 'HI', 'IA', 'ID', 'IL', 'IN', 'KS', 'KY', 'LA', 'MA', 'MD', 'ME', 'MI', 'MN', 'MO', 'MS', 'MT', 'NC', 'ND', 'NE', 'NH', 'NJ', 'NM', 'NV', 'NY', 'OH', 'OK', 'OR', 'PA', 'RI', 'SC', 'SD', 'TN', 'TX', 'UT', 'VA', 'VT', 'WA', 'WI', 'WV', 'WY']\n",
      "initial_list_status ['f', 'w']\n",
      "application_type ['Individual', 'Joint App']\n"
     ]
    }
   ],
   "source": [
    "for var in dummy:\n",
    "    print(var, sorted(loan[var].unique()))"
   ]
  },
  {
   "cell_type": "code",
   "execution_count": 40,
   "id": "5148240a",
   "metadata": {
    "scrolled": false
   },
   "outputs": [
    {
     "data": {
      "text/plain": [
       "Index(['loan_amnt', 'term', 'int_rate', 'annual_inc', 'dti', 'open_acc',\n",
       "       'pub_rec', 'revol_bal', 'revol_util', 'mort_acc',\n",
       "       'pub_rec_bankruptcies', 'loan_status_flag', 'fico',\n",
       "       'earliest_cr_line_y'],\n",
       "      dtype='object')"
      ]
     },
     "execution_count": 40,
     "metadata": {},
     "output_type": "execute_result"
    }
   ],
   "source": [
    "loan[[col for col in loan.columns if col not in dummy]].columns"
   ]
  },
  {
   "cell_type": "code",
   "execution_count": 41,
   "id": "7261ce8e",
   "metadata": {},
   "outputs": [
    {
     "name": "stdout",
     "output_type": "stream",
     "text": [
      "loan_amnt= st.sidebar.number_input('loan_amnt')\n",
      "term= st.sidebar.number_input('term')\n",
      "int_rate= st.sidebar.number_input('int_rate')\n",
      "annual_inc= st.sidebar.number_input('annual_inc')\n",
      "dti= st.sidebar.number_input('dti')\n",
      "open_acc= st.sidebar.number_input('open_acc')\n",
      "pub_rec= st.sidebar.number_input('pub_rec')\n",
      "revol_bal= st.sidebar.number_input('revol_bal')\n",
      "revol_util= st.sidebar.number_input('revol_util')\n",
      "mort_acc= st.sidebar.number_input('mort_acc')\n",
      "pub_rec_bankruptcies= st.sidebar.number_input('pub_rec_bankruptcies')\n",
      "loan_status_flag= st.sidebar.number_input('loan_status_flag')\n",
      "fico= st.sidebar.number_input('fico')\n",
      "earliest_cr_line_y= st.sidebar.number_input('earliest_cr_line_y')\n"
     ]
    }
   ],
   "source": [
    "for var in loan[[col for col in loan.columns if col not in dummy]].columns:\n",
    "    print(var + \"= st.sidebar.number_input('\" + var +  \"')\")"
   ]
  },
  {
   "cell_type": "code",
   "execution_count": 44,
   "id": "14650567",
   "metadata": {},
   "outputs": [
    {
     "name": "stdout",
     "output_type": "stream",
     "text": [
      "'loan_amnt': loan_amnt,\n",
      "'term': term,\n",
      "'int_rate': int_rate,\n",
      "'sub_grade': sub_grade,\n",
      "'home_ownership': home_ownership,\n",
      "'annual_inc': annual_inc,\n",
      "'verification_status': verification_status,\n",
      "'purpose': purpose,\n",
      "'addr_state': addr_state,\n",
      "'dti': dti,\n",
      "'open_acc': open_acc,\n",
      "'pub_rec': pub_rec,\n",
      "'revol_bal': revol_bal,\n",
      "'revol_util': revol_util,\n",
      "'initial_list_status': initial_list_status,\n",
      "'application_type': application_type,\n",
      "'mort_acc': mort_acc,\n",
      "'pub_rec_bankruptcies': pub_rec_bankruptcies,\n",
      "'loan_status_flag': loan_status_flag,\n",
      "'fico': fico,\n",
      "'earliest_cr_line_y': earliest_cr_line_y,\n"
     ]
    }
   ],
   "source": [
    "for col in loan.columns:\n",
    "    print(\"'\"+col+\"': \"+ col + \",\")"
   ]
  },
  {
   "cell_type": "code",
   "execution_count": null,
   "id": "8487b6e1",
   "metadata": {},
   "outputs": [],
   "source": []
  },
  {
   "cell_type": "code",
   "execution_count": null,
   "id": "5b564f21",
   "metadata": {},
   "outputs": [],
   "source": []
  },
  {
   "cell_type": "code",
   "execution_count": 36,
   "id": "88a0aadf",
   "metadata": {},
   "outputs": [
    {
     "data": {
      "text/plain": [
       "(1857132, 21)"
      ]
     },
     "execution_count": 36,
     "metadata": {},
     "output_type": "execute_result"
    }
   ],
   "source": [
    "loan.shape"
   ]
  },
  {
   "cell_type": "code",
   "execution_count": 45,
   "id": "f8f84b82",
   "metadata": {},
   "outputs": [],
   "source": [
    "# loan = pd.get_dummies(loan, columns=dummy, drop_first=True)"
   ]
  },
  {
   "cell_type": "code",
   "execution_count": 50,
   "id": "032fd654",
   "metadata": {
    "scrolled": true
   },
   "outputs": [
    {
     "name": "stdout",
     "output_type": "stream",
     "text": [
      "'loan_amnt','term','int_rate','annual_inc','dti','open_acc','pub_rec','revol_bal','revol_util','mort_acc','pub_rec_bankruptcies','loan_status_flag','fico','earliest_cr_line_y','sub_grade_A2','sub_grade_A3','sub_grade_A4','sub_grade_A5','sub_grade_B1','sub_grade_B2','sub_grade_B3','sub_grade_B4','sub_grade_B5','sub_grade_C1','sub_grade_C2','sub_grade_C3','sub_grade_C4','sub_grade_C5','sub_grade_D1','sub_grade_D2','sub_grade_D3','sub_grade_D4','sub_grade_D5','sub_grade_E1','sub_grade_E2','sub_grade_E3','sub_grade_E4','sub_grade_E5','sub_grade_F1','sub_grade_F2','sub_grade_F3','sub_grade_F4','sub_grade_F5','sub_grade_G1','sub_grade_G2','sub_grade_G3','sub_grade_G4','sub_grade_G5','home_ownership_OTHER','home_ownership_OWN','home_ownership_RENT','verification_status_Source Verified','verification_status_Verified','purpose_credit_card','purpose_debt_consolidation','purpose_educational','purpose_home_improvement','purpose_house','purpose_major_purchase','purpose_medical','purpose_moving','purpose_other','purpose_renewable_energy','purpose_small_business','purpose_vacation','purpose_wedding','addr_state_AL','addr_state_AR','addr_state_AZ','addr_state_CA','addr_state_CO','addr_state_CT','addr_state_DC','addr_state_DE','addr_state_FL','addr_state_GA','addr_state_HI','addr_state_IA','addr_state_ID','addr_state_IL','addr_state_IN','addr_state_KS','addr_state_KY','addr_state_LA','addr_state_MA','addr_state_MD','addr_state_ME','addr_state_MI','addr_state_MN','addr_state_MO','addr_state_MS','addr_state_MT','addr_state_NC','addr_state_ND','addr_state_NE','addr_state_NH','addr_state_NJ','addr_state_NM','addr_state_NV','addr_state_NY','addr_state_OH','addr_state_OK','addr_state_OR','addr_state_PA','addr_state_RI','addr_state_SC','addr_state_SD','addr_state_TN','addr_state_TX','addr_state_UT','addr_state_VA','addr_state_VT','addr_state_WA','addr_state_WI','addr_state_WV','addr_state_WY','initial_list_status_w','application_type_Joint App',"
     ]
    }
   ],
   "source": [
    "for col in loan.columns:\n",
    "    print(\"'\"+col+\"',\", end = \"\")"
   ]
  },
  {
   "cell_type": "code",
   "execution_count": 52,
   "id": "601a5dcd",
   "metadata": {},
   "outputs": [],
   "source": [
    "dummy_col_list = ['sub_grade_A2','sub_grade_A3','sub_grade_A4','sub_grade_A5','sub_grade_B1','sub_grade_B2','sub_grade_B3','sub_grade_B4','sub_grade_B5','sub_grade_C1','sub_grade_C2','sub_grade_C3','sub_grade_C4','sub_grade_C5','sub_grade_D1','sub_grade_D2','sub_grade_D3','sub_grade_D4','sub_grade_D5','sub_grade_E1','sub_grade_E2','sub_grade_E3','sub_grade_E4','sub_grade_E5','sub_grade_F1','sub_grade_F2','sub_grade_F3','sub_grade_F4','sub_grade_F5','sub_grade_G1','sub_grade_G2','sub_grade_G3','sub_grade_G4','sub_grade_G5','home_ownership_OTHER','home_ownership_OWN','home_ownership_RENT','verification_status_Source Verified','verification_status_Verified','purpose_credit_card','purpose_debt_consolidation','purpose_educational','purpose_home_improvement','purpose_house','purpose_major_purchase','purpose_medical','purpose_moving','purpose_other','purpose_renewable_energy','purpose_small_business','purpose_vacation','purpose_wedding','addr_state_AL','addr_state_AR','addr_state_AZ','addr_state_CA','addr_state_CO','addr_state_CT','addr_state_DC','addr_state_DE','addr_state_FL','addr_state_GA','addr_state_HI','addr_state_IA','addr_state_ID','addr_state_IL','addr_state_IN','addr_state_KS','addr_state_KY','addr_state_LA','addr_state_MA','addr_state_MD','addr_state_ME','addr_state_MI','addr_state_MN','addr_state_MO','addr_state_MS','addr_state_MT','addr_state_NC','addr_state_ND','addr_state_NE','addr_state_NH','addr_state_NJ','addr_state_NM','addr_state_NV','addr_state_NY','addr_state_OH','addr_state_OK','addr_state_OR','addr_state_PA','addr_state_RI','addr_state_SC','addr_state_SD','addr_state_TN','addr_state_TX','addr_state_UT','addr_state_VA','addr_state_VT','addr_state_WA','addr_state_WI','addr_state_WV','addr_state_WY','initial_list_status_w','application_type_Joint App']\n",
    "dummy_raw_list = ['sub_grade',\n",
    " 'home_ownership',\n",
    " 'verification_status',\n",
    " 'purpose',\n",
    " 'addr_state',\n",
    " 'initial_list_status',\n",
    " 'application_type']\n"
   ]
  },
  {
   "cell_type": "code",
   "execution_count": 63,
   "id": "fa9e2781",
   "metadata": {},
   "outputs": [],
   "source": [
    "categorical_list = ['sub_grade',\n",
    " 'home_ownership',\n",
    " 'verification_status',\n",
    " 'purpose',\n",
    " 'addr_state',\n",
    " 'initial_list_status',\n",
    " 'application_type']\n",
    "\n",
    "\n",
    "data = {}\n",
    "for var in categorical_list:\n",
    "    data[var] = loan[var].unique()\n",
    "\n"
   ]
  },
  {
   "cell_type": "code",
   "execution_count": 64,
   "id": "90cb26c0",
   "metadata": {},
   "outputs": [
    {
     "data": {
      "text/plain": [
       "{'sub_grade': array(['B2', 'C4', 'C5', 'C1', 'B5', 'A4', 'E1', 'F2', 'C3', 'B1', 'D1',\n",
       "        'A1', 'B3', 'B4', 'C2', 'D2', 'A3', 'A5', 'D5', 'A2', 'E4', 'D3',\n",
       "        'D4', 'F3', 'E3', 'F4', 'F1', 'E5', 'G4', 'E2', 'G3', 'G2', 'G1',\n",
       "        'F5', 'G5'], dtype=object),\n",
       " 'home_ownership': array(['RENT', 'OWN', 'MORTGAGE', 'OTHER'], dtype=object),\n",
       " 'verification_status': array(['Verified', 'Source Verified', 'Not Verified'], dtype=object),\n",
       " 'purpose': array(['credit_card', 'car', 'small_business', 'other', 'wedding',\n",
       "        'debt_consolidation', 'home_improvement', 'major_purchase',\n",
       "        'medical', 'moving', 'vacation', 'house', 'renewable_energy',\n",
       "        'educational'], dtype=object),\n",
       " 'addr_state': array(['AZ', 'GA', 'IL', 'CA', 'OR', 'NC', 'TX', 'VA', 'MO', 'CT', 'UT',\n",
       "        'FL', 'NY', 'PA', 'MN', 'NJ', 'KY', 'OH', 'SC', 'RI', 'LA', 'MA',\n",
       "        'WA', 'WI', 'AL', 'CO', 'KS', 'NV', 'AK', 'MD', 'WV', 'VT', 'MI',\n",
       "        'DC', 'SD', 'NH', 'AR', 'NM', 'MT', 'HI', 'WY', 'OK', 'DE', 'MS',\n",
       "        'TN', 'IA', 'NE', 'ID', 'IN', 'ME', 'ND'], dtype=object),\n",
       " 'initial_list_status': array(['f', 'w'], dtype=object),\n",
       " 'application_type': array(['Individual', 'Joint App'], dtype=object)}"
      ]
     },
     "execution_count": 64,
     "metadata": {},
     "output_type": "execute_result"
    }
   ],
   "source": [
    "data"
   ]
  },
  {
   "cell_type": "code",
   "execution_count": 69,
   "id": "e8155dfc",
   "metadata": {},
   "outputs": [
    {
     "data": {
      "text/plain": [
       "True"
      ]
     },
     "execution_count": 69,
     "metadata": {},
     "output_type": "execute_result"
    }
   ],
   "source": [
    "loan.iloc[0,:]['sub_grade'] + '_' in ['B2_']"
   ]
  },
  {
   "cell_type": "markdown",
   "id": "f89fdd18",
   "metadata": {},
   "source": [
    "## Downsampling"
   ]
  },
  {
   "cell_type": "code",
   "execution_count": 42,
   "id": "0b01ad90",
   "metadata": {
    "scrolled": true
   },
   "outputs": [
    {
     "data": {
      "text/plain": [
       "0.19489137013416385"
      ]
     },
     "execution_count": 42,
     "metadata": {},
     "output_type": "execute_result"
    }
   ],
   "source": [
    "loan['loan_status_flag'].mean()"
   ]
  },
  {
   "cell_type": "code",
   "execution_count": 8,
   "id": "79a939b6",
   "metadata": {},
   "outputs": [],
   "source": [
    "loan_positive = loan[loan['loan_status_flag']==1]\n",
    "loan_negative = loan[loan['loan_status_flag']==0]"
   ]
  },
  {
   "cell_type": "code",
   "execution_count": 9,
   "id": "aa029e54",
   "metadata": {},
   "outputs": [
    {
     "data": {
      "text/plain": [
       "((361939, 118), (1495193, 118))"
      ]
     },
     "execution_count": 9,
     "metadata": {},
     "output_type": "execute_result"
    }
   ],
   "source": [
    "loan_positive.shape, loan_negative.shape"
   ]
  },
  {
   "cell_type": "code",
   "execution_count": 10,
   "id": "6e89ddb9",
   "metadata": {},
   "outputs": [],
   "source": [
    "loan_negative_sample = loan_negative.sample(n=loan_positive.shape[0], random_state=2021)"
   ]
  },
  {
   "cell_type": "code",
   "execution_count": 11,
   "id": "dce62330",
   "metadata": {},
   "outputs": [
    {
     "data": {
      "text/plain": [
       "((361939, 118), (361939, 118))"
      ]
     },
     "execution_count": 11,
     "metadata": {},
     "output_type": "execute_result"
    }
   ],
   "source": [
    "loan_positive.shape, loan_negative_sample.shape"
   ]
  },
  {
   "cell_type": "code",
   "execution_count": 12,
   "id": "3a5a21b3",
   "metadata": {},
   "outputs": [],
   "source": [
    "loan_downsample = pd.concat([loan_positive, loan_negative_sample])"
   ]
  },
  {
   "cell_type": "code",
   "execution_count": 13,
   "id": "7832ca86",
   "metadata": {},
   "outputs": [
    {
     "data": {
      "text/plain": [
       "(723878, 118)"
      ]
     },
     "execution_count": 13,
     "metadata": {},
     "output_type": "execute_result"
    }
   ],
   "source": [
    "loan_downsample.shape"
   ]
  },
  {
   "cell_type": "code",
   "execution_count": 14,
   "id": "bcd62e17",
   "metadata": {},
   "outputs": [],
   "source": [
    "X_down = loan_downsample.drop('loan_status_flag', axis=1)\n",
    "y_down = loan_downsample['loan_status_flag']\n",
    "X_down_train, X_down_test, y_down_train, y_down_test = train_test_split(X_down, y_down, test_size=0.2,stratify=y_down, random_state=2021)"
   ]
  },
  {
   "cell_type": "markdown",
   "id": "3d93d352",
   "metadata": {},
   "source": [
    "# **Models Building**\n",
    "\n",
    "First, define a function to output accuracy scor, classification report and confusion matrix."
   ]
  },
  {
   "cell_type": "code",
   "execution_count": 15,
   "id": "b8495590",
   "metadata": {},
   "outputs": [],
   "source": [
    "# Best after search\n",
    "xgb_v2 = XGBClassifier(base_score=0.5, booster='gbtree', colsample_bylevel=1,\n",
    "              colsample_bynode=1, colsample_bytree=1, gamma=0, gpu_id=-1,\n",
    "              importance_type='gain', interaction_constraints='',\n",
    "              learning_rate=0.6947205003833099, max_delta_step=0, max_depth=2,\n",
    "              min_child_weight=1,\n",
    "              n_estimators=400, n_jobs=-1, num_parallel_tree=1, random_state=0,\n",
    "              reg_alpha=0, reg_lambda=1, scale_pos_weight=1,\n",
    "              subsample=0.9956886580631629, tree_method='exact',\n",
    "              validate_parameters=1, verbosity=None)"
   ]
  },
  {
   "cell_type": "code",
   "execution_count": 16,
   "id": "d0a721ee",
   "metadata": {},
   "outputs": [
    {
     "name": "stderr",
     "output_type": "stream",
     "text": [
      "/Users/pandora/opt/anaconda3/lib/python3.8/site-packages/xgboost/sklearn.py:888: UserWarning: The use of label encoder in XGBClassifier is deprecated and will be removed in a future release. To remove this warning, do the following: 1) Pass option use_label_encoder=False when constructing XGBClassifier object; and 2) Encode your labels (y) as integers starting with 0, i.e. 0, 1, 2, ..., [num_class - 1].\n",
      "  warnings.warn(label_encoder_deprecation_msg, UserWarning)\n"
     ]
    },
    {
     "name": "stdout",
     "output_type": "stream",
     "text": [
      "[15:09:23] WARNING: /opt/concourse/worker/volumes/live/7a2b9f41-3287-451b-6691-43e9a6c0910f/volume/xgboost-split_1619728204606/work/src/learner.cc:1061: Starting in XGBoost 1.3.0, the default evaluation metric used with the objective 'binary:logistic' was changed from 'error' to 'logloss'. Explicitly set eval_metric if you'd like to restore the old behavior.\n"
     ]
    },
    {
     "data": {
      "text/plain": [
       "XGBClassifier(base_score=0.5, booster='gbtree', colsample_bylevel=1,\n",
       "              colsample_bynode=1, colsample_bytree=1, gamma=0, gpu_id=-1,\n",
       "              importance_type='gain', interaction_constraints='',\n",
       "              learning_rate=0.6947205003833099, max_delta_step=0, max_depth=2,\n",
       "              min_child_weight=1, missing=nan, monotone_constraints='()',\n",
       "              n_estimators=400, n_jobs=-1, num_parallel_tree=1, random_state=0,\n",
       "              reg_alpha=0, reg_lambda=1, scale_pos_weight=1,\n",
       "              subsample=0.9956886580631629, tree_method='exact',\n",
       "              validate_parameters=1, verbosity=None)"
      ]
     },
     "execution_count": 16,
     "metadata": {},
     "output_type": "execute_result"
    }
   ],
   "source": [
    "xgb_v2.fit(X_down_train, y_down_train)"
   ]
  },
  {
   "cell_type": "code",
   "execution_count": 17,
   "id": "174b4d72",
   "metadata": {},
   "outputs": [],
   "source": [
    "def output(model, xtrain, ytrain, xtest, ytest):\n",
    "    test_pred = model.predict(xtest)\n",
    "    train_pred = model.predict(xtrain)\n",
    "    test_pred_prob = model.predict_proba(xtest)\n",
    "    train_pred_prob = model.predict_proba(xtrain)\n",
    "    # The roc_auc_score need to feed in y_true and y_score\n",
    "    # https://scikit-learn.org/stable/modules/generated/sklearn.metrics.roc_auc_score.html?highlight=roc_auc_score#sklearn.metrics.roc_auc_score\n",
    "    train_roc_score = np.round(roc_auc_score(ytrain, train_pred_prob[:, 1], average='micro'),4)\n",
    "    test_roc_score = np.round(roc_auc_score(ytest, test_pred_prob[:, 1], average='micro'),4)    \n",
    "    train_acc_score = np.round(accuracy_score(ytrain, train_pred),4)\n",
    "    test_acc_score = np.round(accuracy_score(ytest, test_pred),4)\n",
    "    print('ROC score on train data:', train_roc_score)\n",
    "    print('ROC score on test data:', test_roc_score)\n",
    "    print('Accuracy score on train data:', train_acc_score)\n",
    "    print('Accuracy score on test data:', test_acc_score)\n",
    "    print('Classification Report:\\n',classification_report(ytest, test_pred))\n",
    "    print('Confusion Matrix:\\n', confusion_matrix(ytest, test_pred))\n",
    "    return (train_roc_score,test_roc_score,train_acc_score, test_acc_score)"
   ]
  },
  {
   "cell_type": "code",
   "execution_count": 18,
   "id": "c7c816fd",
   "metadata": {},
   "outputs": [
    {
     "name": "stdout",
     "output_type": "stream",
     "text": [
      "ROC score on train data: 0.723\n",
      "ROC score on test data: 0.7189\n",
      "Accuracy score on train data: 0.6623\n",
      "Accuracy score on test data: 0.6584\n",
      "Classification Report:\n",
      "               precision    recall  f1-score   support\n",
      "\n",
      "           0       0.66      0.64      0.65     72388\n",
      "           1       0.65      0.68      0.66     72388\n",
      "\n",
      "    accuracy                           0.66    144776\n",
      "   macro avg       0.66      0.66      0.66    144776\n",
      "weighted avg       0.66      0.66      0.66    144776\n",
      "\n",
      "Confusion Matrix:\n",
      " [[46345 26043]\n",
      " [23416 48972]]\n"
     ]
    }
   ],
   "source": [
    "perf_xgb_v2 = output(xgb_v2, X_down_train, y_down_train, X_down_test, y_down_test)"
   ]
  },
  {
   "cell_type": "code",
   "execution_count": 19,
   "id": "40653c71",
   "metadata": {},
   "outputs": [
    {
     "data": {
      "text/plain": [
       "Text(0.5, 1.0, 'Confusion Matrix of Logistic Regression')"
      ]
     },
     "execution_count": 19,
     "metadata": {},
     "output_type": "execute_result"
    },
    {
     "data": {
      "image/png": "[encoded data removed]",
      "text/plain": [
       "<Figure size 432x288 with 2 Axes>"
      ]
     },
     "metadata": {
      "needs_background": "light"
     },
     "output_type": "display_data"
    }
   ],
   "source": [
    "plot_confusion_matrix(\n",
    "    xgb_v2, X_down_test, y_down_test, cmap='Oranges', \n",
    "    normalize='true',\n",
    "    display_labels=['Fully Paid','Charged Off'])\n",
    "plt.title('Confusion Matrix of Logistic Regression')"
   ]
  },
  {
   "cell_type": "code",
   "execution_count": 20,
   "id": "5caa0ccf",
   "metadata": {},
   "outputs": [],
   "source": [
    "pickle.dump(xgb_v2, open(\"loan_xgb.pkl\", 'wb'))"
   ]
  },
  {
   "cell_type": "code",
   "execution_count": 21,
   "id": "f8113a27",
   "metadata": {},
   "outputs": [
    {
     "data": {
      "text/html": [
       "<div>\n",
       "<style scoped>\n",
       "    .dataframe tbody tr th:only-of-type {\n",
       "        vertical-align: middle;\n",
       "    }\n",
       "\n",
       "    .dataframe tbody tr th {\n",
       "        vertical-align: top;\n",
       "    }\n",
       "\n",
       "    .dataframe thead th {\n",
       "        text-align: right;\n",
       "    }\n",
       "</style>\n",
       "<table border=\"1\" class=\"dataframe\">\n",
       "  <thead>\n",
       "    <tr style=\"text-align: right;\">\n",
       "      <th></th>\n",
       "      <th>loan_amnt</th>\n",
       "      <th>term</th>\n",
       "      <th>int_rate</th>\n",
       "      <th>annual_inc</th>\n",
       "      <th>dti</th>\n",
       "      <th>open_acc</th>\n",
       "      <th>pub_rec</th>\n",
       "      <th>revol_bal</th>\n",
       "      <th>revol_util</th>\n",
       "      <th>mort_acc</th>\n",
       "      <th>...</th>\n",
       "      <th>addr_state_TX</th>\n",
       "      <th>addr_state_UT</th>\n",
       "      <th>addr_state_VA</th>\n",
       "      <th>addr_state_VT</th>\n",
       "      <th>addr_state_WA</th>\n",
       "      <th>addr_state_WI</th>\n",
       "      <th>addr_state_WV</th>\n",
       "      <th>addr_state_WY</th>\n",
       "      <th>initial_list_status_w</th>\n",
       "      <th>application_type_Joint App</th>\n",
       "    </tr>\n",
       "  </thead>\n",
       "  <tbody>\n",
       "    <tr>\n",
       "      <th>1786306</th>\n",
       "      <td>3000.0</td>\n",
       "      <td>36</td>\n",
       "      <td>30.94</td>\n",
       "      <td>79000.0</td>\n",
       "      <td>1.52</td>\n",
       "      <td>7.0</td>\n",
       "      <td>0.0</td>\n",
       "      <td>1671.0</td>\n",
       "      <td>13.3</td>\n",
       "      <td>0.0</td>\n",
       "      <td>...</td>\n",
       "      <td>0</td>\n",
       "      <td>0</td>\n",
       "      <td>0</td>\n",
       "      <td>0</td>\n",
       "      <td>0</td>\n",
       "      <td>0</td>\n",
       "      <td>0</td>\n",
       "      <td>0</td>\n",
       "      <td>1</td>\n",
       "      <td>0</td>\n",
       "    </tr>\n",
       "    <tr>\n",
       "      <th>1202688</th>\n",
       "      <td>30000.0</td>\n",
       "      <td>36</td>\n",
       "      <td>13.33</td>\n",
       "      <td>110000.0</td>\n",
       "      <td>12.21</td>\n",
       "      <td>10.0</td>\n",
       "      <td>1.0</td>\n",
       "      <td>17211.0</td>\n",
       "      <td>56.2</td>\n",
       "      <td>1.0</td>\n",
       "      <td>...</td>\n",
       "      <td>0</td>\n",
       "      <td>0</td>\n",
       "      <td>0</td>\n",
       "      <td>0</td>\n",
       "      <td>0</td>\n",
       "      <td>0</td>\n",
       "      <td>0</td>\n",
       "      <td>0</td>\n",
       "      <td>0</td>\n",
       "      <td>0</td>\n",
       "    </tr>\n",
       "    <tr>\n",
       "      <th>763365</th>\n",
       "      <td>5800.0</td>\n",
       "      <td>36</td>\n",
       "      <td>16.99</td>\n",
       "      <td>85000.0</td>\n",
       "      <td>17.02</td>\n",
       "      <td>17.0</td>\n",
       "      <td>3.0</td>\n",
       "      <td>8215.0</td>\n",
       "      <td>53.3</td>\n",
       "      <td>0.0</td>\n",
       "      <td>...</td>\n",
       "      <td>0</td>\n",
       "      <td>0</td>\n",
       "      <td>0</td>\n",
       "      <td>0</td>\n",
       "      <td>0</td>\n",
       "      <td>0</td>\n",
       "      <td>0</td>\n",
       "      <td>0</td>\n",
       "      <td>1</td>\n",
       "      <td>0</td>\n",
       "    </tr>\n",
       "    <tr>\n",
       "      <th>727991</th>\n",
       "      <td>5400.0</td>\n",
       "      <td>36</td>\n",
       "      <td>12.99</td>\n",
       "      <td>31680.0</td>\n",
       "      <td>16.21</td>\n",
       "      <td>33.0</td>\n",
       "      <td>0.0</td>\n",
       "      <td>2923.0</td>\n",
       "      <td>48.7</td>\n",
       "      <td>0.0</td>\n",
       "      <td>...</td>\n",
       "      <td>0</td>\n",
       "      <td>0</td>\n",
       "      <td>0</td>\n",
       "      <td>0</td>\n",
       "      <td>0</td>\n",
       "      <td>0</td>\n",
       "      <td>0</td>\n",
       "      <td>0</td>\n",
       "      <td>0</td>\n",
       "      <td>0</td>\n",
       "    </tr>\n",
       "    <tr>\n",
       "      <th>723333</th>\n",
       "      <td>12325.0</td>\n",
       "      <td>36</td>\n",
       "      <td>14.49</td>\n",
       "      <td>31000.0</td>\n",
       "      <td>28.88</td>\n",
       "      <td>17.0</td>\n",
       "      <td>0.0</td>\n",
       "      <td>15503.0</td>\n",
       "      <td>82.0</td>\n",
       "      <td>0.0</td>\n",
       "      <td>...</td>\n",
       "      <td>0</td>\n",
       "      <td>0</td>\n",
       "      <td>0</td>\n",
       "      <td>0</td>\n",
       "      <td>0</td>\n",
       "      <td>0</td>\n",
       "      <td>0</td>\n",
       "      <td>0</td>\n",
       "      <td>1</td>\n",
       "      <td>0</td>\n",
       "    </tr>\n",
       "    <tr>\n",
       "      <th>1360342</th>\n",
       "      <td>13000.0</td>\n",
       "      <td>36</td>\n",
       "      <td>8.39</td>\n",
       "      <td>130000.0</td>\n",
       "      <td>4.51</td>\n",
       "      <td>15.0</td>\n",
       "      <td>0.0</td>\n",
       "      <td>10743.0</td>\n",
       "      <td>39.5</td>\n",
       "      <td>1.0</td>\n",
       "      <td>...</td>\n",
       "      <td>0</td>\n",
       "      <td>0</td>\n",
       "      <td>0</td>\n",
       "      <td>0</td>\n",
       "      <td>0</td>\n",
       "      <td>0</td>\n",
       "      <td>0</td>\n",
       "      <td>0</td>\n",
       "      <td>1</td>\n",
       "      <td>0</td>\n",
       "    </tr>\n",
       "    <tr>\n",
       "      <th>510352</th>\n",
       "      <td>30000.0</td>\n",
       "      <td>60</td>\n",
       "      <td>30.17</td>\n",
       "      <td>124000.0</td>\n",
       "      <td>25.69</td>\n",
       "      <td>25.0</td>\n",
       "      <td>0.0</td>\n",
       "      <td>114818.0</td>\n",
       "      <td>66.5</td>\n",
       "      <td>2.0</td>\n",
       "      <td>...</td>\n",
       "      <td>0</td>\n",
       "      <td>0</td>\n",
       "      <td>0</td>\n",
       "      <td>0</td>\n",
       "      <td>0</td>\n",
       "      <td>0</td>\n",
       "      <td>0</td>\n",
       "      <td>0</td>\n",
       "      <td>1</td>\n",
       "      <td>0</td>\n",
       "    </tr>\n",
       "    <tr>\n",
       "      <th>1663794</th>\n",
       "      <td>24000.0</td>\n",
       "      <td>60</td>\n",
       "      <td>14.99</td>\n",
       "      <td>83000.0</td>\n",
       "      <td>6.75</td>\n",
       "      <td>8.0</td>\n",
       "      <td>0.0</td>\n",
       "      <td>1411.0</td>\n",
       "      <td>3.9</td>\n",
       "      <td>2.0</td>\n",
       "      <td>...</td>\n",
       "      <td>0</td>\n",
       "      <td>0</td>\n",
       "      <td>0</td>\n",
       "      <td>0</td>\n",
       "      <td>0</td>\n",
       "      <td>0</td>\n",
       "      <td>0</td>\n",
       "      <td>0</td>\n",
       "      <td>1</td>\n",
       "      <td>0</td>\n",
       "    </tr>\n",
       "    <tr>\n",
       "      <th>1785688</th>\n",
       "      <td>2000.0</td>\n",
       "      <td>36</td>\n",
       "      <td>13.59</td>\n",
       "      <td>60000.0</td>\n",
       "      <td>0.80</td>\n",
       "      <td>6.0</td>\n",
       "      <td>0.0</td>\n",
       "      <td>1238.0</td>\n",
       "      <td>24.8</td>\n",
       "      <td>0.0</td>\n",
       "      <td>...</td>\n",
       "      <td>0</td>\n",
       "      <td>0</td>\n",
       "      <td>0</td>\n",
       "      <td>0</td>\n",
       "      <td>0</td>\n",
       "      <td>0</td>\n",
       "      <td>0</td>\n",
       "      <td>0</td>\n",
       "      <td>1</td>\n",
       "      <td>0</td>\n",
       "    </tr>\n",
       "    <tr>\n",
       "      <th>848124</th>\n",
       "      <td>15125.0</td>\n",
       "      <td>36</td>\n",
       "      <td>18.92</td>\n",
       "      <td>60000.0</td>\n",
       "      <td>4.36</td>\n",
       "      <td>6.0</td>\n",
       "      <td>0.0</td>\n",
       "      <td>4590.0</td>\n",
       "      <td>68.5</td>\n",
       "      <td>0.0</td>\n",
       "      <td>...</td>\n",
       "      <td>0</td>\n",
       "      <td>0</td>\n",
       "      <td>0</td>\n",
       "      <td>0</td>\n",
       "      <td>0</td>\n",
       "      <td>0</td>\n",
       "      <td>0</td>\n",
       "      <td>0</td>\n",
       "      <td>0</td>\n",
       "      <td>0</td>\n",
       "    </tr>\n",
       "  </tbody>\n",
       "</table>\n",
       "<p>10 rows × 117 columns</p>\n",
       "</div>"
      ],
      "text/plain": [
       "         loan_amnt  term  int_rate  annual_inc    dti  open_acc  pub_rec  \\\n",
       "1786306     3000.0    36     30.94     79000.0   1.52       7.0      0.0   \n",
       "1202688    30000.0    36     13.33    110000.0  12.21      10.0      1.0   \n",
       "763365      5800.0    36     16.99     85000.0  17.02      17.0      3.0   \n",
       "727991      5400.0    36     12.99     31680.0  16.21      33.0      0.0   \n",
       "723333     12325.0    36     14.49     31000.0  28.88      17.0      0.0   \n",
       "1360342    13000.0    36      8.39    130000.0   4.51      15.0      0.0   \n",
       "510352     30000.0    60     30.17    124000.0  25.69      25.0      0.0   \n",
       "1663794    24000.0    60     14.99     83000.0   6.75       8.0      0.0   \n",
       "1785688     2000.0    36     13.59     60000.0   0.80       6.0      0.0   \n",
       "848124     15125.0    36     18.92     60000.0   4.36       6.0      0.0   \n",
       "\n",
       "         revol_bal  revol_util  mort_acc  ...  addr_state_TX  addr_state_UT  \\\n",
       "1786306     1671.0        13.3       0.0  ...              0              0   \n",
       "1202688    17211.0        56.2       1.0  ...              0              0   \n",
       "763365      8215.0        53.3       0.0  ...              0              0   \n",
       "727991      2923.0        48.7       0.0  ...              0              0   \n",
       "723333     15503.0        82.0       0.0  ...              0              0   \n",
       "1360342    10743.0        39.5       1.0  ...              0              0   \n",
       "510352    114818.0        66.5       2.0  ...              0              0   \n",
       "1663794     1411.0         3.9       2.0  ...              0              0   \n",
       "1785688     1238.0        24.8       0.0  ...              0              0   \n",
       "848124      4590.0        68.5       0.0  ...              0              0   \n",
       "\n",
       "         addr_state_VA  addr_state_VT  addr_state_WA  addr_state_WI  \\\n",
       "1786306              0              0              0              0   \n",
       "1202688              0              0              0              0   \n",
       "763365               0              0              0              0   \n",
       "727991               0              0              0              0   \n",
       "723333               0              0              0              0   \n",
       "1360342              0              0              0              0   \n",
       "510352               0              0              0              0   \n",
       "1663794              0              0              0              0   \n",
       "1785688              0              0              0              0   \n",
       "848124               0              0              0              0   \n",
       "\n",
       "         addr_state_WV  addr_state_WY  initial_list_status_w  \\\n",
       "1786306              0              0                      1   \n",
       "1202688              0              0                      0   \n",
       "763365               0              0                      1   \n",
       "727991               0              0                      0   \n",
       "723333               0              0                      1   \n",
       "1360342              0              0                      1   \n",
       "510352               0              0                      1   \n",
       "1663794              0              0                      1   \n",
       "1785688              0              0                      1   \n",
       "848124               0              0                      0   \n",
       "\n",
       "         application_type_Joint App  \n",
       "1786306                           0  \n",
       "1202688                           0  \n",
       "763365                            0  \n",
       "727991                            0  \n",
       "723333                            0  \n",
       "1360342                           0  \n",
       "510352                            0  \n",
       "1663794                           0  \n",
       "1785688                           0  \n",
       "848124                            0  \n",
       "\n",
       "[10 rows x 117 columns]"
      ]
     },
     "execution_count": 21,
     "metadata": {},
     "output_type": "execute_result"
    }
   ],
   "source": [
    "X_down_test[:10]"
   ]
  },
  {
   "cell_type": "code",
   "execution_count": 22,
   "id": "e0aa0cdb",
   "metadata": {},
   "outputs": [
    {
     "data": {
      "text/html": [
       "<div>\n",
       "<style scoped>\n",
       "    .dataframe tbody tr th:only-of-type {\n",
       "        vertical-align: middle;\n",
       "    }\n",
       "\n",
       "    .dataframe tbody tr th {\n",
       "        vertical-align: top;\n",
       "    }\n",
       "\n",
       "    .dataframe thead th {\n",
       "        text-align: right;\n",
       "    }\n",
       "</style>\n",
       "<table border=\"1\" class=\"dataframe\">\n",
       "  <thead>\n",
       "    <tr style=\"text-align: right;\">\n",
       "      <th></th>\n",
       "      <th>loan_amnt</th>\n",
       "      <th>term</th>\n",
       "      <th>int_rate</th>\n",
       "      <th>annual_inc</th>\n",
       "      <th>dti</th>\n",
       "      <th>open_acc</th>\n",
       "      <th>pub_rec</th>\n",
       "      <th>revol_bal</th>\n",
       "      <th>revol_util</th>\n",
       "      <th>mort_acc</th>\n",
       "      <th>...</th>\n",
       "      <th>addr_state_TX</th>\n",
       "      <th>addr_state_UT</th>\n",
       "      <th>addr_state_VA</th>\n",
       "      <th>addr_state_VT</th>\n",
       "      <th>addr_state_WA</th>\n",
       "      <th>addr_state_WI</th>\n",
       "      <th>addr_state_WV</th>\n",
       "      <th>addr_state_WY</th>\n",
       "      <th>initial_list_status_w</th>\n",
       "      <th>application_type_Joint App</th>\n",
       "    </tr>\n",
       "  </thead>\n",
       "  <tbody>\n",
       "    <tr>\n",
       "      <th>0</th>\n",
       "      <td>5000.0</td>\n",
       "      <td>36</td>\n",
       "      <td>10.65</td>\n",
       "      <td>24000.0</td>\n",
       "      <td>27.65</td>\n",
       "      <td>3.0</td>\n",
       "      <td>0.0</td>\n",
       "      <td>13648.0</td>\n",
       "      <td>83.7</td>\n",
       "      <td>2.0</td>\n",
       "      <td>...</td>\n",
       "      <td>0</td>\n",
       "      <td>0</td>\n",
       "      <td>0</td>\n",
       "      <td>0</td>\n",
       "      <td>0</td>\n",
       "      <td>0</td>\n",
       "      <td>0</td>\n",
       "      <td>0</td>\n",
       "      <td>0</td>\n",
       "      <td>0</td>\n",
       "    </tr>\n",
       "    <tr>\n",
       "      <th>1</th>\n",
       "      <td>2500.0</td>\n",
       "      <td>60</td>\n",
       "      <td>15.27</td>\n",
       "      <td>30000.0</td>\n",
       "      <td>1.00</td>\n",
       "      <td>3.0</td>\n",
       "      <td>0.0</td>\n",
       "      <td>1687.0</td>\n",
       "      <td>9.4</td>\n",
       "      <td>2.0</td>\n",
       "      <td>...</td>\n",
       "      <td>0</td>\n",
       "      <td>0</td>\n",
       "      <td>0</td>\n",
       "      <td>0</td>\n",
       "      <td>0</td>\n",
       "      <td>0</td>\n",
       "      <td>0</td>\n",
       "      <td>0</td>\n",
       "      <td>0</td>\n",
       "      <td>0</td>\n",
       "    </tr>\n",
       "    <tr>\n",
       "      <th>2</th>\n",
       "      <td>2400.0</td>\n",
       "      <td>36</td>\n",
       "      <td>15.96</td>\n",
       "      <td>12252.0</td>\n",
       "      <td>8.72</td>\n",
       "      <td>2.0</td>\n",
       "      <td>0.0</td>\n",
       "      <td>2956.0</td>\n",
       "      <td>98.5</td>\n",
       "      <td>2.0</td>\n",
       "      <td>...</td>\n",
       "      <td>0</td>\n",
       "      <td>0</td>\n",
       "      <td>0</td>\n",
       "      <td>0</td>\n",
       "      <td>0</td>\n",
       "      <td>0</td>\n",
       "      <td>0</td>\n",
       "      <td>0</td>\n",
       "      <td>0</td>\n",
       "      <td>0</td>\n",
       "    </tr>\n",
       "    <tr>\n",
       "      <th>3</th>\n",
       "      <td>10000.0</td>\n",
       "      <td>36</td>\n",
       "      <td>13.49</td>\n",
       "      <td>49200.0</td>\n",
       "      <td>20.00</td>\n",
       "      <td>10.0</td>\n",
       "      <td>0.0</td>\n",
       "      <td>5598.0</td>\n",
       "      <td>21.0</td>\n",
       "      <td>2.0</td>\n",
       "      <td>...</td>\n",
       "      <td>0</td>\n",
       "      <td>0</td>\n",
       "      <td>0</td>\n",
       "      <td>0</td>\n",
       "      <td>0</td>\n",
       "      <td>0</td>\n",
       "      <td>0</td>\n",
       "      <td>0</td>\n",
       "      <td>0</td>\n",
       "      <td>0</td>\n",
       "    </tr>\n",
       "    <tr>\n",
       "      <th>4</th>\n",
       "      <td>3000.0</td>\n",
       "      <td>60</td>\n",
       "      <td>12.69</td>\n",
       "      <td>80000.0</td>\n",
       "      <td>17.94</td>\n",
       "      <td>15.0</td>\n",
       "      <td>0.0</td>\n",
       "      <td>27783.0</td>\n",
       "      <td>53.9</td>\n",
       "      <td>2.0</td>\n",
       "      <td>...</td>\n",
       "      <td>0</td>\n",
       "      <td>0</td>\n",
       "      <td>0</td>\n",
       "      <td>0</td>\n",
       "      <td>0</td>\n",
       "      <td>0</td>\n",
       "      <td>0</td>\n",
       "      <td>0</td>\n",
       "      <td>0</td>\n",
       "      <td>0</td>\n",
       "    </tr>\n",
       "  </tbody>\n",
       "</table>\n",
       "<p>5 rows × 118 columns</p>\n",
       "</div>"
      ],
      "text/plain": [
       "   loan_amnt  term  int_rate  annual_inc    dti  open_acc  pub_rec  revol_bal  \\\n",
       "0     5000.0    36     10.65     24000.0  27.65       3.0      0.0    13648.0   \n",
       "1     2500.0    60     15.27     30000.0   1.00       3.0      0.0     1687.0   \n",
       "2     2400.0    36     15.96     12252.0   8.72       2.0      0.0     2956.0   \n",
       "3    10000.0    36     13.49     49200.0  20.00      10.0      0.0     5598.0   \n",
       "4     3000.0    60     12.69     80000.0  17.94      15.0      0.0    27783.0   \n",
       "\n",
       "   revol_util  mort_acc  ...  addr_state_TX  addr_state_UT  addr_state_VA  \\\n",
       "0        83.7       2.0  ...              0              0              0   \n",
       "1         9.4       2.0  ...              0              0              0   \n",
       "2        98.5       2.0  ...              0              0              0   \n",
       "3        21.0       2.0  ...              0              0              0   \n",
       "4        53.9       2.0  ...              0              0              0   \n",
       "\n",
       "   addr_state_VT  addr_state_WA  addr_state_WI  addr_state_WV  addr_state_WY  \\\n",
       "0              0              0              0              0              0   \n",
       "1              0              0              0              0              0   \n",
       "2              0              0              0              0              0   \n",
       "3              0              0              0              0              0   \n",
       "4              0              0              0              0              0   \n",
       "\n",
       "   initial_list_status_w  application_type_Joint App  \n",
       "0                      0                           0  \n",
       "1                      0                           0  \n",
       "2                      0                           0  \n",
       "3                      0                           0  \n",
       "4                      0                           0  \n",
       "\n",
       "[5 rows x 118 columns]"
      ]
     },
     "execution_count": 22,
     "metadata": {},
     "output_type": "execute_result"
    }
   ],
   "source": [
    "loan.head()"
   ]
  },
  {
   "cell_type": "code",
   "execution_count": 75,
   "id": "9574fdaf",
   "metadata": {},
   "outputs": [
    {
     "name": "stdout",
     "output_type": "stream",
     "text": [
      "'loan_amnt','term','int_rate','annual_inc','dti','open_acc','pub_rec','revol_bal','revol_util','mort_acc','pub_rec_bankruptcies','fico','earliest_cr_line_y','sub_grade_A2','sub_grade_A3','sub_grade_A4','sub_grade_A5','sub_grade_B1','sub_grade_B2','sub_grade_B3','sub_grade_B4','sub_grade_B5','sub_grade_C1','sub_grade_C2','sub_grade_C3','sub_grade_C4','sub_grade_C5','sub_grade_D1','sub_grade_D2','sub_grade_D3','sub_grade_D4','sub_grade_D5','sub_grade_E1','sub_grade_E2','sub_grade_E3','sub_grade_E4','sub_grade_E5','sub_grade_F1','sub_grade_F2','sub_grade_F3','sub_grade_F4','sub_grade_F5','sub_grade_G1','sub_grade_G2','sub_grade_G3','sub_grade_G4','sub_grade_G5','home_ownership_OTHER','home_ownership_OWN','home_ownership_RENT','verification_status_Source Verified','verification_status_Verified','purpose_credit_card','purpose_debt_consolidation','purpose_educational','purpose_home_improvement','purpose_house','purpose_major_purchase','purpose_medical','purpose_moving','purpose_other','purpose_renewable_energy','purpose_small_business','purpose_vacation','purpose_wedding','addr_state_AL','addr_state_AR','addr_state_AZ','addr_state_CA','addr_state_CO','addr_state_CT','addr_state_DC','addr_state_DE','addr_state_FL','addr_state_GA','addr_state_HI','addr_state_IA','addr_state_ID','addr_state_IL','addr_state_IN','addr_state_KS','addr_state_KY','addr_state_LA','addr_state_MA','addr_state_MD','addr_state_ME','addr_state_MI','addr_state_MN','addr_state_MO','addr_state_MS','addr_state_MT','addr_state_NC','addr_state_ND','addr_state_NE','addr_state_NH','addr_state_NJ','addr_state_NM','addr_state_NV','addr_state_NY','addr_state_OH','addr_state_OK','addr_state_OR','addr_state_PA','addr_state_RI','addr_state_SC','addr_state_SD','addr_state_TN','addr_state_TX','addr_state_UT','addr_state_VA','addr_state_VT','addr_state_WA','addr_state_WI','addr_state_WV','addr_state_WY','initial_list_status_w','application_type_Joint App',"
     ]
    }
   ],
   "source": [
    "for col in X_down_test.columns:\n",
    "    print(\"'\" + col + \"',\", end = '')"
   ]
  },
  {
   "cell_type": "code",
   "execution_count": 3,
   "id": "c0386883",
   "metadata": {},
   "outputs": [],
   "source": [
    "load_clf = pickle.load(open('loan_xgb.pkl', 'rb'))"
   ]
  },
  {
   "cell_type": "code",
   "execution_count": 8,
   "id": "389305d7",
   "metadata": {},
   "outputs": [],
   "source": [
    "from xgboost import plot_importance"
   ]
  },
  {
   "cell_type": "code",
   "execution_count": 10,
   "id": "5d0b8da3",
   "metadata": {},
   "outputs": [
    {
     "data": {
      "text/plain": [
       "<AxesSubplot:title={'center':'Feature importance'}, xlabel='F score', ylabel='Features'>"
      ]
     },
     "execution_count": 10,
     "metadata": {},
     "output_type": "execute_result"
    },
    {
     "data": {
      "image/png": "[encoded data removed]",
      "text/plain": [
       "<Figure size 432x288 with 1 Axes>"
      ]
     },
     "metadata": {
      "needs_background": "light"
     },
     "output_type": "display_data"
    }
   ],
   "source": [
    "plot_importance(load_clf, max_num_features=10)"
   ]
  },
  {
   "cell_type": "code",
   "execution_count": null,
   "id": "d10c7ca2",
   "metadata": {},
   "outputs": [],
   "source": []
  }
 ],
 "metadata": {
  "kernelspec": {
   "display_name": "geo_env",
   "language": "python",
   "name": "python3"
  },
  "language_info": {
   "codemirror_mode": {
    "name": "ipython",
    "version": 3
   },
   "file_extension": ".py",
   "mimetype": "text/x-python",
   "name": "python",
   "nbconvert_exporter": "python",
   "pygments_lexer": "ipython3",
   "version": "3.9.2 | packaged by conda-forge | (default, Feb 21 2021, 04:59:43) [MSC v.1916 64 bit (AMD64)]"
  },
  "vscode": {
   "interpreter": {
    "hash": "83626e55e21445e1e5d5befdc26fc8f3322c934d9f53c49309c25d9a5dffbf77"
   }
  }
 },
 "nbformat": 4,
 "nbformat_minor": 5
}
