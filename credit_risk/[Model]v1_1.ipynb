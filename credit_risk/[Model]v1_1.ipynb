{
 "cells": [
  {
   "cell_type": "markdown",
   "metadata": {},
   "source": [
    "## Modeling"
   ]
  },
  {
   "cell_type": "code",
   "execution_count": 1,
   "id": "f4f3052b",
   "metadata": {},
   "outputs": [],
   "source": [
    "import pandas as pd\n",
    "import numpy as np\n",
    "import zipfile\n",
    "# For data visualization\n",
    "import matplotlib.pyplot as plt\n",
    "import seaborn as sns\n",
    "plt.style.use('ggplot')\n",
    "# import plotly.offline as po\n",
    "# import plotly.graph_objs as go\n",
    "\n",
    "# For models\n",
    "from sklearn.model_selection import train_test_split, RandomizedSearchCV\n",
    "from sklearn.preprocessing import MinMaxScaler\n",
    "from sklearn.metrics import (\n",
    "    accuracy_score, confusion_matrix, classification_report, \n",
    "    roc_auc_score, roc_curve, auc, precision_recall_curve,\n",
    "    plot_confusion_matrix, plot_roc_curve\n",
    ")\n",
    "from sklearn.linear_model import LogisticRegression\n",
    "from sklearn.ensemble import RandomForestClassifier\n",
    "from xgboost import XGBClassifier"
   ]
  },
  {
   "cell_type": "code",
   "execution_count": 2,
   "id": "614dddb7",
   "metadata": {},
   "outputs": [
    {
     "data": {
      "text/html": [
       "<div>\n",
       "<style scoped>\n",
       "    .dataframe tbody tr th:only-of-type {\n",
       "        vertical-align: middle;\n",
       "    }\n",
       "\n",
       "    .dataframe tbody tr th {\n",
       "        vertical-align: top;\n",
       "    }\n",
       "\n",
       "    .dataframe thead th {\n",
       "        text-align: right;\n",
       "    }\n",
       "</style>\n",
       "<table border=\"1\" class=\"dataframe\">\n",
       "  <thead>\n",
       "    <tr style=\"text-align: right;\">\n",
       "      <th></th>\n",
       "      <th>Unnamed: 0</th>\n",
       "      <th>loan_amnt</th>\n",
       "      <th>term</th>\n",
       "      <th>int_rate</th>\n",
       "      <th>sub_grade</th>\n",
       "      <th>home_ownership</th>\n",
       "      <th>annual_inc</th>\n",
       "      <th>verification_status</th>\n",
       "      <th>purpose</th>\n",
       "      <th>addr_state</th>\n",
       "      <th>...</th>\n",
       "      <th>pub_rec</th>\n",
       "      <th>revol_bal</th>\n",
       "      <th>revol_util</th>\n",
       "      <th>initial_list_status</th>\n",
       "      <th>application_type</th>\n",
       "      <th>mort_acc</th>\n",
       "      <th>pub_rec_bankruptcies</th>\n",
       "      <th>loan_status_flag</th>\n",
       "      <th>fico</th>\n",
       "      <th>earliest_cr_line_y</th>\n",
       "    </tr>\n",
       "  </thead>\n",
       "  <tbody>\n",
       "    <tr>\n",
       "      <th>0</th>\n",
       "      <td>0</td>\n",
       "      <td>5000.0</td>\n",
       "      <td>36</td>\n",
       "      <td>10.65</td>\n",
       "      <td>B2</td>\n",
       "      <td>RENT</td>\n",
       "      <td>24000.0</td>\n",
       "      <td>Verified</td>\n",
       "      <td>credit_card</td>\n",
       "      <td>AZ</td>\n",
       "      <td>...</td>\n",
       "      <td>0.0</td>\n",
       "      <td>13648.0</td>\n",
       "      <td>83.7</td>\n",
       "      <td>f</td>\n",
       "      <td>Individual</td>\n",
       "      <td>2.0</td>\n",
       "      <td>0.0</td>\n",
       "      <td>0.0</td>\n",
       "      <td>737.0</td>\n",
       "      <td>36</td>\n",
       "    </tr>\n",
       "    <tr>\n",
       "      <th>1</th>\n",
       "      <td>1</td>\n",
       "      <td>2500.0</td>\n",
       "      <td>60</td>\n",
       "      <td>15.27</td>\n",
       "      <td>C4</td>\n",
       "      <td>RENT</td>\n",
       "      <td>30000.0</td>\n",
       "      <td>Source Verified</td>\n",
       "      <td>car</td>\n",
       "      <td>GA</td>\n",
       "      <td>...</td>\n",
       "      <td>0.0</td>\n",
       "      <td>1687.0</td>\n",
       "      <td>9.4</td>\n",
       "      <td>f</td>\n",
       "      <td>Individual</td>\n",
       "      <td>2.0</td>\n",
       "      <td>0.0</td>\n",
       "      <td>1.0</td>\n",
       "      <td>742.0</td>\n",
       "      <td>22</td>\n",
       "    </tr>\n",
       "    <tr>\n",
       "      <th>2</th>\n",
       "      <td>2</td>\n",
       "      <td>2400.0</td>\n",
       "      <td>36</td>\n",
       "      <td>15.96</td>\n",
       "      <td>C5</td>\n",
       "      <td>RENT</td>\n",
       "      <td>12252.0</td>\n",
       "      <td>Not Verified</td>\n",
       "      <td>small_business</td>\n",
       "      <td>IL</td>\n",
       "      <td>...</td>\n",
       "      <td>0.0</td>\n",
       "      <td>2956.0</td>\n",
       "      <td>98.5</td>\n",
       "      <td>f</td>\n",
       "      <td>Individual</td>\n",
       "      <td>2.0</td>\n",
       "      <td>0.0</td>\n",
       "      <td>0.0</td>\n",
       "      <td>737.0</td>\n",
       "      <td>20</td>\n",
       "    </tr>\n",
       "    <tr>\n",
       "      <th>3</th>\n",
       "      <td>3</td>\n",
       "      <td>10000.0</td>\n",
       "      <td>36</td>\n",
       "      <td>13.49</td>\n",
       "      <td>C1</td>\n",
       "      <td>RENT</td>\n",
       "      <td>49200.0</td>\n",
       "      <td>Source Verified</td>\n",
       "      <td>other</td>\n",
       "      <td>CA</td>\n",
       "      <td>...</td>\n",
       "      <td>0.0</td>\n",
       "      <td>5598.0</td>\n",
       "      <td>21.0</td>\n",
       "      <td>f</td>\n",
       "      <td>Individual</td>\n",
       "      <td>2.0</td>\n",
       "      <td>0.0</td>\n",
       "      <td>0.0</td>\n",
       "      <td>692.0</td>\n",
       "      <td>25</td>\n",
       "    </tr>\n",
       "    <tr>\n",
       "      <th>4</th>\n",
       "      <td>4</td>\n",
       "      <td>3000.0</td>\n",
       "      <td>60</td>\n",
       "      <td>12.69</td>\n",
       "      <td>B5</td>\n",
       "      <td>RENT</td>\n",
       "      <td>80000.0</td>\n",
       "      <td>Source Verified</td>\n",
       "      <td>other</td>\n",
       "      <td>OR</td>\n",
       "      <td>...</td>\n",
       "      <td>0.0</td>\n",
       "      <td>27783.0</td>\n",
       "      <td>53.9</td>\n",
       "      <td>f</td>\n",
       "      <td>Individual</td>\n",
       "      <td>2.0</td>\n",
       "      <td>0.0</td>\n",
       "      <td>0.0</td>\n",
       "      <td>697.0</td>\n",
       "      <td>25</td>\n",
       "    </tr>\n",
       "  </tbody>\n",
       "</table>\n",
       "<p>5 rows × 22 columns</p>\n",
       "</div>"
      ],
      "text/plain": [
       "   Unnamed: 0  loan_amnt  term  int_rate sub_grade home_ownership  annual_inc  \\\n",
       "0           0     5000.0    36     10.65        B2           RENT     24000.0   \n",
       "1           1     2500.0    60     15.27        C4           RENT     30000.0   \n",
       "2           2     2400.0    36     15.96        C5           RENT     12252.0   \n",
       "3           3    10000.0    36     13.49        C1           RENT     49200.0   \n",
       "4           4     3000.0    60     12.69        B5           RENT     80000.0   \n",
       "\n",
       "  verification_status         purpose addr_state  ...  pub_rec  revol_bal  \\\n",
       "0            Verified     credit_card         AZ  ...      0.0    13648.0   \n",
       "1     Source Verified             car         GA  ...      0.0     1687.0   \n",
       "2        Not Verified  small_business         IL  ...      0.0     2956.0   \n",
       "3     Source Verified           other         CA  ...      0.0     5598.0   \n",
       "4     Source Verified           other         OR  ...      0.0    27783.0   \n",
       "\n",
       "   revol_util  initial_list_status  application_type mort_acc  \\\n",
       "0        83.7                    f        Individual      2.0   \n",
       "1         9.4                    f        Individual      2.0   \n",
       "2        98.5                    f        Individual      2.0   \n",
       "3        21.0                    f        Individual      2.0   \n",
       "4        53.9                    f        Individual      2.0   \n",
       "\n",
       "  pub_rec_bankruptcies  loan_status_flag   fico  earliest_cr_line_y  \n",
       "0                  0.0               0.0  737.0                  36  \n",
       "1                  0.0               1.0  742.0                  22  \n",
       "2                  0.0               0.0  737.0                  20  \n",
       "3                  0.0               0.0  692.0                  25  \n",
       "4                  0.0               0.0  697.0                  25  \n",
       "\n",
       "[5 rows x 22 columns]"
      ]
     },
     "execution_count": 2,
     "metadata": {},
     "output_type": "execute_result"
    }
   ],
   "source": [
    "loan = pd.read_csv('loan.csv')\n",
    "\n",
    "loan.head()"
   ]
  },
  {
   "cell_type": "code",
   "execution_count": 3,
   "id": "274bf6ae",
   "metadata": {},
   "outputs": [
    {
     "data": {
      "text/plain": [
       "Index(['Unnamed: 0', 'loan_amnt', 'term', 'int_rate', 'sub_grade',\n",
       "       'home_ownership', 'annual_inc', 'verification_status', 'purpose',\n",
       "       'addr_state', 'dti', 'open_acc', 'pub_rec', 'revol_bal', 'revol_util',\n",
       "       'initial_list_status', 'application_type', 'mort_acc',\n",
       "       'pub_rec_bankruptcies', 'loan_status_flag', 'fico',\n",
       "       'earliest_cr_line_y'],\n",
       "      dtype='object')"
      ]
     },
     "execution_count": 3,
     "metadata": {},
     "output_type": "execute_result"
    }
   ],
   "source": [
    "loan.columns"
   ]
  },
  {
   "cell_type": "code",
   "execution_count": 4,
   "id": "47b00f64",
   "metadata": {},
   "outputs": [],
   "source": [
    "loan.drop('Unnamed: 0',axis=1, inplace=True)"
   ]
  },
  {
   "cell_type": "code",
   "execution_count": 5,
   "id": "8cf302b4",
   "metadata": {},
   "outputs": [
    {
     "data": {
      "text/plain": [
       "(746121, 21)"
      ]
     },
     "execution_count": 5,
     "metadata": {},
     "output_type": "execute_result"
    }
   ],
   "source": [
    "loan.shape"
   ]
  },
  {
   "cell_type": "markdown",
   "id": "746862bf",
   "metadata": {},
   "source": [
    "## **Create One-hot encoding for categorical features**"
   ]
  },
  {
   "cell_type": "code",
   "execution_count": 6,
   "id": "197f557b",
   "metadata": {},
   "outputs": [
    {
     "data": {
      "text/plain": [
       "['sub_grade',\n",
       " 'home_ownership',\n",
       " 'verification_status',\n",
       " 'purpose',\n",
       " 'addr_state',\n",
       " 'initial_list_status',\n",
       " 'application_type']"
      ]
     },
     "execution_count": 6,
     "metadata": {},
     "output_type": "execute_result"
    }
   ],
   "source": [
    "#Find all the categorical variables\n",
    "dummy = [column for column in loan.columns if loan[column].dtype == object]\n",
    "dummy"
   ]
  },
  {
   "cell_type": "code",
   "execution_count": 7,
   "id": "f8f84b82",
   "metadata": {},
   "outputs": [],
   "source": [
    "loan = pd.get_dummies(loan, columns=dummy, drop_first=True)"
   ]
  },
  {
   "cell_type": "code",
   "execution_count": 8,
   "id": "d6c8209c",
   "metadata": {},
   "outputs": [],
   "source": [
    "# plt.figure(figsize=(7,16))\n",
    "# loan.corr().loan_status_flag.sort_values()[:-1].plot.barh()\n",
    "# plt.title('Correlation of Charged Off with Features')"
   ]
  },
  {
   "cell_type": "markdown",
   "id": "1fa67efa",
   "metadata": {},
   "source": [
    "## **Train Test Split**"
   ]
  },
  {
   "cell_type": "code",
   "execution_count": 9,
   "id": "dc69bfe6",
   "metadata": {},
   "outputs": [],
   "source": [
    "X = loan.drop('loan_status_flag', axis=1)\n",
    "y = loan['loan_status_flag']"
   ]
  },
  {
   "cell_type": "code",
   "execution_count": 10,
   "metadata": {
    "scrolled": true
   },
   "outputs": [
    {
     "data": {
      "text/plain": [
       "0.19900257464942014"
      ]
     },
     "execution_count": 10,
     "metadata": {},
     "output_type": "execute_result"
    }
   ],
   "source": [
    "y.mean()"
   ]
  },
  {
   "cell_type": "markdown",
   "metadata": {},
   "source": [
    "The ratio of negative and positive is about 4:1. After spliting the file, will do a downsampling version of the training set."
   ]
  },
  {
   "cell_type": "code",
   "execution_count": 11,
   "id": "697faae3",
   "metadata": {},
   "outputs": [],
   "source": [
    "X_train, X_test, y_train, y_test = train_test_split(X, y, test_size=0.2,stratify=y, random_state=42)"
   ]
  },
  {
   "cell_type": "code",
   "execution_count": 12,
   "metadata": {},
   "outputs": [
    {
     "data": {
      "text/plain": [
       "pandas.core.frame.DataFrame"
      ]
     },
     "execution_count": 12,
     "metadata": {},
     "output_type": "execute_result"
    }
   ],
   "source": [
    "type(X_train)"
   ]
  },
  {
   "cell_type": "code",
   "execution_count": 13,
   "metadata": {},
   "outputs": [],
   "source": [
    "Xy_train = pd.concat([X_train, y_train], axis = 1)"
   ]
  },
  {
   "cell_type": "code",
   "execution_count": 14,
   "metadata": {},
   "outputs": [],
   "source": [
    "DOWN_SAMPLE_RATE=0.25"
   ]
  },
  {
   "cell_type": "code",
   "execution_count": 15,
   "metadata": {},
   "outputs": [],
   "source": [
    "Xy_train_down = pd.concat([Xy_train[Xy_train['loan_status_flag']==0].sample(frac=DOWN_SAMPLE_RATE),\\\n",
    "                           Xy_train[Xy_train['loan_status_flag']==1]], axis=0)"
   ]
  },
  {
   "cell_type": "code",
   "execution_count": 16,
   "metadata": {},
   "outputs": [
    {
     "data": {
      "text/plain": [
       "0.49843902111517674"
      ]
     },
     "execution_count": 16,
     "metadata": {},
     "output_type": "execute_result"
    }
   ],
   "source": [
    "Xy_train_down.loan_status_flag.mean()"
   ]
  },
  {
   "cell_type": "markdown",
   "metadata": {},
   "source": [
    "The label ratio is 1:1 now."
   ]
  },
  {
   "cell_type": "code",
   "execution_count": 17,
   "metadata": {},
   "outputs": [],
   "source": [
    "X_train_down = Xy_train_down.drop('loan_status_flag', axis=1)\n",
    "y_train_down = Xy_train_down['loan_status_flag']"
   ]
  },
  {
   "cell_type": "code",
   "execution_count": 18,
   "id": "70bf19db",
   "metadata": {
    "scrolled": false
   },
   "outputs": [
    {
     "name": "stdout",
     "output_type": "stream",
     "text": [
      "X_train.shape:  (596896, 117)\n",
      "y_train.shape:  (596896,)\n",
      "X_train_down.shape:  (238312, 117)\n",
      "y_train_down.shape:  (238312,)\n",
      "X_test.shape:   (149225, 117)\n",
      "y_test.shape:   (149225,)\n"
     ]
    }
   ],
   "source": [
    "print(\"X_train.shape: \", X_train.shape)\n",
    "print(\"y_train.shape: \", y_train.shape)\n",
    "print(\"X_train_down.shape: \", X_train_down.shape)\n",
    "print(\"y_train_down.shape: \", y_train_down.shape)\n",
    "print(\"X_test.shape:  \", X_test.shape)\n",
    "print(\"y_test.shape:  \", y_test.shape)"
   ]
  },
  {
   "cell_type": "markdown",
   "id": "3d93d352",
   "metadata": {},
   "source": [
    "# **Models Building**\n",
    "\n",
    "First, define a function to output accuracy score, classification report and confusion matrix."
   ]
  },
  {
   "cell_type": "code",
   "execution_count": 19,
   "id": "174b4d72",
   "metadata": {},
   "outputs": [],
   "source": [
    "def output(model, xtrain, ytrain, xvalid, yvalid):\n",
    "    # pred\n",
    "    valid_pred = model.predict(xvalid)\n",
    "    train_pred = model.predict(xtrain)\n",
    "    valid_pred_prob = model.predict_proba(xvalid)\n",
    "    train_pred_prob = model.predict_proba(xtrain)\n",
    "    # calculate roc-auc and pr-auc\n",
    "    train_roc_auc = roc_auc_score(ytrain, train_pred_prob[:, 1], average='micro')\n",
    "    valid_roc_auc = roc_auc_score(yvalid, valid_pred_prob[:, 1], average='micro')\n",
    "    train_precision, train_recall, _ = precision_recall_curve(ytrain, train_pred_prob[:, 1])\n",
    "    valid_precision, valid_recall, _ = precision_recall_curve(yvalid, valid_pred_prob[:, 1])\n",
    "    train_pr_auc = auc(train_recall, train_precision)\n",
    "    valid_pr_auc = auc(valid_recall, valid_precision)\n",
    "    # report\n",
    "    print(f'ROC-AUC on train data {train_roc_auc:.4f} and on validation data {valid_roc_auc:.4f}')\n",
    "    print(f'PR-AUC on train data {train_pr_auc:.4f} and on validation data {valid_pr_auc:.4f}')\n",
    "    print('----------')\n",
    "    print('Classification Report:\\n',classification_report(yvalid, valid_pred))\n",
    "    print('----------')\n",
    "    print('Confusion Matrix:\\n', confusion_matrix(yvalid, valid_pred))\n",
    "    return (train_roc_auc,valid_roc_auc,train_pr_auc, valid_pr_auc)"
   ]
  },
  {
   "cell_type": "code",
   "execution_count": 20,
   "id": "b4625128",
   "metadata": {},
   "outputs": [],
   "source": [
    "# prediction_model_list = ['Logistic Regression', 'Random Forest Classifier','XGBoost Classifier']\n",
    "# cols = pd.MultiIndex.from_product([['ROC Score','Accuracy Score'],['Train','Test']])\n",
    "# score = pd.DataFrame(columns=cols, index=prediction_model_list)"
   ]
  },
  {
   "cell_type": "markdown",
   "id": "45314e55",
   "metadata": {},
   "source": [
    "## 1. Logistic Regression"
   ]
  },
  {
   "cell_type": "markdown",
   "id": "4b472e8f",
   "metadata": {},
   "source": [
    "### 1.1 Naive logistic regression"
   ]
  },
  {
   "cell_type": "code",
   "execution_count": 21,
   "id": "102a6f8d",
   "metadata": {},
   "outputs": [
    {
     "data": {
      "text/plain": [
       "LogisticRegression(max_iter=1000)"
      ]
     },
     "execution_count": 21,
     "metadata": {},
     "output_type": "execute_result"
    }
   ],
   "source": [
    "# lr_v0: no scaler\n",
    "lr_v0 = LogisticRegression(max_iter=1000)\n",
    "lr_v0.fit(X_train, y_train)"
   ]
  },
  {
   "cell_type": "code",
   "execution_count": 22,
   "id": "7c1dd5fc",
   "metadata": {},
   "outputs": [
    {
     "name": "stdout",
     "output_type": "stream",
     "text": [
      "ROC-AUC on train data 0.6854 and on validation data 0.6878\n",
      "PR-AUC on train data 0.3435 and on validation data 0.3452\n",
      "----------\n",
      "Classification Report:\n",
      "               precision    recall  f1-score   support\n",
      "\n",
      "         0.0       0.81      0.99      0.89    119529\n",
      "         1.0       0.51      0.04      0.08     29696\n",
      "\n",
      "    accuracy                           0.80    149225\n",
      "   macro avg       0.66      0.52      0.49    149225\n",
      "weighted avg       0.75      0.80      0.73    149225\n",
      "\n",
      "----------\n",
      "Confusion Matrix:\n",
      " [[118251   1278]\n",
      " [ 28366   1330]]\n"
     ]
    }
   ],
   "source": [
    "perf_lr_v0 = output(lr_v0, X_train, y_train, X_test, y_test) "
   ]
  },
  {
   "cell_type": "markdown",
   "id": "747bcb5f",
   "metadata": {},
   "source": [
    "### 1.2 MinMaxScaler to normalize the features\n",
    "\n",
    "Next, we try to use the `MinMaxScaler` to normalize the data before feeding them into the model"
   ]
  },
  {
   "cell_type": "code",
   "execution_count": 23,
   "id": "b72f2575",
   "metadata": {},
   "outputs": [],
   "source": [
    "# we need to use normalized train data in Logistic Regression\n",
    "scaler = MinMaxScaler()\n",
    "X_train_n = scaler.fit_transform(X_train)\n",
    "X_test_n = scaler.transform(X_test)"
   ]
  },
  {
   "cell_type": "code",
   "execution_count": 24,
   "id": "bc30fe5d",
   "metadata": {},
   "outputs": [
    {
     "data": {
      "text/plain": [
       "LogisticRegression(max_iter=1000)"
      ]
     },
     "execution_count": 24,
     "metadata": {},
     "output_type": "execute_result"
    }
   ],
   "source": [
    "lr_v1 = LogisticRegression(max_iter=1000)\n",
    "lr_v1.fit(X_train_n, y_train)"
   ]
  },
  {
   "cell_type": "code",
   "execution_count": 25,
   "id": "87dc4e81",
   "metadata": {
    "scrolled": true
   },
   "outputs": [
    {
     "name": "stdout",
     "output_type": "stream",
     "text": [
      "ROC-AUC on train data 0.6985 and on validation data 0.7004\n",
      "PR-AUC on train data 0.3582 and on validation data 0.3592\n",
      "----------\n",
      "Classification Report:\n",
      "               precision    recall  f1-score   support\n",
      "\n",
      "         0.0       0.81      0.99      0.89    119529\n",
      "         1.0       0.56      0.03      0.06     29696\n",
      "\n",
      "    accuracy                           0.80    149225\n",
      "   macro avg       0.68      0.51      0.48    149225\n",
      "weighted avg       0.76      0.80      0.73    149225\n",
      "\n",
      "----------\n",
      "Confusion Matrix:\n",
      " [[118735    794]\n",
      " [ 28704    992]]\n"
     ]
    }
   ],
   "source": [
    "perf_lr_v1 = output(lr_v1, X_train_n, y_train, X_test_n, y_test) "
   ]
  },
  {
   "cell_type": "markdown",
   "id": "9c1206d3",
   "metadata": {},
   "source": [
    "The ROC-AUC and PR-AUC both saw improvement here."
   ]
  },
  {
   "cell_type": "code",
   "execution_count": 26,
   "id": "ece9e30a",
   "metadata": {},
   "outputs": [],
   "source": [
    "# plot_confusion_matrix(\n",
    "#     lr_v1, X_test_n, y_test, cmap='Oranges',normalize='true',\n",
    "#     display_labels=['Fully Paid','Charged Off'])\n",
    "# plt.title('Confusion Matrix of Logistic Regression')"
   ]
  },
  {
   "cell_type": "markdown",
   "id": "0a0ba182",
   "metadata": {},
   "source": [
    "### 1.3 Downsampling"
   ]
  },
  {
   "cell_type": "code",
   "execution_count": 27,
   "id": "a0e70053",
   "metadata": {},
   "outputs": [
    {
     "data": {
      "text/plain": [
       "LogisticRegression(max_iter=1000)"
      ]
     },
     "execution_count": 27,
     "metadata": {},
     "output_type": "execute_result"
    }
   ],
   "source": [
    "lr_v2 = LogisticRegression(max_iter=1000)\n",
    "lr_v2.fit(X_train_down, y_train_down)"
   ]
  },
  {
   "cell_type": "code",
   "execution_count": 28,
   "id": "49e94bc2",
   "metadata": {
    "scrolled": true
   },
   "outputs": [
    {
     "name": "stdout",
     "output_type": "stream",
     "text": [
      "ROC-AUC on train data 0.6826 and on validation data 0.6853\n",
      "PR-AUC on train data 0.6639 and on validation data 0.3422\n",
      "----------\n",
      "Classification Report:\n",
      "               precision    recall  f1-score   support\n",
      "\n",
      "         0.0       0.87      0.66      0.75    119529\n",
      "         1.0       0.31      0.61      0.41     29696\n",
      "\n",
      "    accuracy                           0.65    149225\n",
      "   macro avg       0.59      0.63      0.58    149225\n",
      "weighted avg       0.76      0.65      0.68    149225\n",
      "\n",
      "----------\n",
      "Confusion Matrix:\n",
      " [[79135 40394]\n",
      " [11704 17992]]\n"
     ]
    }
   ],
   "source": [
    "perf_lr_v2 = output(lr_v2, X_train_down, y_train_down, X_test, y_test) "
   ]
  },
  {
   "cell_type": "markdown",
   "metadata": {},
   "source": [
    "The downsamplign doesn't help with the training. It may need more tuning on the downsampling rate."
   ]
  },
  {
   "cell_type": "markdown",
   "id": "4a0ea1bb",
   "metadata": {},
   "source": [
    "## 2. Random Forest Classifier\n",
    "### 2.1 Naive RF"
   ]
  },
  {
   "cell_type": "code",
   "execution_count": 29,
   "id": "448724cd",
   "metadata": {},
   "outputs": [
    {
     "data": {
      "text/plain": [
       "RandomForestClassifier(n_jobs=-1)"
      ]
     },
     "execution_count": 29,
     "metadata": {},
     "output_type": "execute_result"
    }
   ],
   "source": [
    "rf_v0 = RandomForestClassifier(n_jobs = -1)\n",
    "rf_v0.fit(X_train, y_train)"
   ]
  },
  {
   "cell_type": "code",
   "execution_count": 30,
   "id": "d46e8b43",
   "metadata": {
    "scrolled": true
   },
   "outputs": [
    {
     "name": "stdout",
     "output_type": "stream",
     "text": [
      "ROC-AUC on train data 1.0000 and on validation data 0.7009\n",
      "PR-AUC on train data 1.0000 and on validation data 0.3648\n",
      "----------\n",
      "Classification Report:\n",
      "               precision    recall  f1-score   support\n",
      "\n",
      "         0.0       0.81      0.99      0.89    119529\n",
      "         1.0       0.56      0.05      0.10     29696\n",
      "\n",
      "    accuracy                           0.80    149225\n",
      "   macro avg       0.68      0.52      0.49    149225\n",
      "weighted avg       0.76      0.80      0.73    149225\n",
      "\n",
      "----------\n",
      "Confusion Matrix:\n",
      " [[118290   1239]\n",
      " [ 28137   1559]]\n"
     ]
    }
   ],
   "source": [
    "perf_rf_v0 = output(rf_v0, X_train, y_train, X_test, y_test)"
   ]
  },
  {
   "cell_type": "markdown",
   "id": "d74e457f",
   "metadata": {},
   "source": [
    "### 2.2 Downsampling RF"
   ]
  },
  {
   "cell_type": "code",
   "execution_count": 31,
   "id": "b8a1be3d",
   "metadata": {},
   "outputs": [
    {
     "data": {
      "text/plain": [
       "RandomForestClassifier(n_jobs=-1)"
      ]
     },
     "execution_count": 31,
     "metadata": {},
     "output_type": "execute_result"
    }
   ],
   "source": [
    "rf_v1 = RandomForestClassifier(n_jobs = -1)\n",
    "rf_v1.fit(X_train_down, y_train_down)"
   ]
  },
  {
   "cell_type": "code",
   "execution_count": 32,
   "id": "081c3814",
   "metadata": {},
   "outputs": [
    {
     "data": {
      "text/plain": [
       "(100, 1)"
      ]
     },
     "execution_count": 32,
     "metadata": {},
     "output_type": "execute_result"
    }
   ],
   "source": [
    "rf_v1.n_estimators, rf_v1.min_samples_leaf"
   ]
  },
  {
   "cell_type": "code",
   "execution_count": 33,
   "id": "3eb726d4",
   "metadata": {
    "scrolled": true
   },
   "outputs": [
    {
     "name": "stdout",
     "output_type": "stream",
     "text": [
      "ROC-AUC on train data 1.0000 and on validation data 0.7033\n",
      "PR-AUC on train data 1.0000 and on validation data 0.3602\n",
      "----------\n",
      "Classification Report:\n",
      "               precision    recall  f1-score   support\n",
      "\n",
      "         0.0       0.88      0.64      0.74    119529\n",
      "         1.0       0.31      0.66      0.42     29696\n",
      "\n",
      "    accuracy                           0.64    149225\n",
      "   macro avg       0.60      0.65      0.58    149225\n",
      "weighted avg       0.77      0.64      0.68    149225\n",
      "\n",
      "----------\n",
      "Confusion Matrix:\n",
      " [[76247 43282]\n",
      " [10070 19626]]\n"
     ]
    }
   ],
   "source": [
    "perf_rf_v1 = output(rf_v1, X_train_down, y_train_down, X_test, y_test)"
   ]
  },
  {
   "cell_type": "markdown",
   "metadata": {},
   "source": [
    "## 3. XGBoost "
   ]
  },
  {
   "cell_type": "markdown",
   "metadata": {},
   "source": [
    "### Native run"
   ]
  },
  {
   "cell_type": "code",
   "execution_count": 34,
   "metadata": {
    "scrolled": true
   },
   "outputs": [
    {
     "name": "stdout",
     "output_type": "stream",
     "text": [
      "[08:39:35] WARNING: ..\\src\\learner.cc:1061: Starting in XGBoost 1.3.0, the default evaluation metric used with the objective 'binary:logistic' was changed from 'error' to 'logloss'. Explicitly set eval_metric if you'd like to restore the old behavior.\n"
     ]
    },
    {
     "data": {
      "text/plain": [
       "XGBClassifier(base_score=0.5, booster='gbtree', colsample_bylevel=1,\n",
       "              colsample_bynode=1, colsample_bytree=1, gamma=0, gpu_id=-1,\n",
       "              importance_type='gain', interaction_constraints='',\n",
       "              learning_rate=0.300000012, max_delta_step=0, max_depth=6,\n",
       "              min_child_weight=1, missing=nan, monotone_constraints='()',\n",
       "              n_estimators=100, n_jobs=12, num_parallel_tree=1, random_state=0,\n",
       "              reg_alpha=0, reg_lambda=1, scale_pos_weight=1, subsample=1,\n",
       "              tree_method='exact', use_label_encoder=False,\n",
       "              validate_parameters=1, verbosity=None)"
      ]
     },
     "execution_count": 34,
     "metadata": {},
     "output_type": "execute_result"
    }
   ],
   "source": [
    "xgb_v0= XGBClassifier(use_label_encoder=False)\n",
    "xgb_v0.fit(X_train, y_train)"
   ]
  },
  {
   "cell_type": "code",
   "execution_count": 35,
   "metadata": {},
   "outputs": [
    {
     "name": "stdout",
     "output_type": "stream",
     "text": [
      "ROC-AUC on train data 0.7452 and on validation data 0.7172\n",
      "PR-AUC on train data 0.4325 and on validation data 0.3812\n",
      "----------\n",
      "Classification Report:\n",
      "               precision    recall  f1-score   support\n",
      "\n",
      "         0.0       0.81      0.98      0.89    119529\n",
      "         1.0       0.55      0.08      0.14     29696\n",
      "\n",
      "    accuracy                           0.80    149225\n",
      "   macro avg       0.68      0.53      0.51    149225\n",
      "weighted avg       0.76      0.80      0.74    149225\n",
      "\n",
      "----------\n",
      "Confusion Matrix:\n",
      " [[117579   1950]\n",
      " [ 27326   2370]]\n"
     ]
    }
   ],
   "source": [
    "perf_xgb_v0 = output(xgb_v0, X_train, y_train, X_test, y_test)"
   ]
  },
  {
   "cell_type": "markdown",
   "id": "8ba4fce3",
   "metadata": {},
   "source": [
    "### 3.1 downsampling"
   ]
  },
  {
   "cell_type": "code",
   "execution_count": 36,
   "id": "68b7cebe",
   "metadata": {},
   "outputs": [
    {
     "name": "stdout",
     "output_type": "stream",
     "text": [
      "[08:40:07] WARNING: ..\\src\\learner.cc:1061: Starting in XGBoost 1.3.0, the default evaluation metric used with the objective 'binary:logistic' was changed from 'error' to 'logloss'. Explicitly set eval_metric if you'd like to restore the old behavior.\n"
     ]
    },
    {
     "data": {
      "text/plain": [
       "XGBClassifier(base_score=0.5, booster='gbtree', colsample_bylevel=1,\n",
       "              colsample_bynode=1, colsample_bytree=1, gamma=0, gpu_id=-1,\n",
       "              importance_type='gain', interaction_constraints='',\n",
       "              learning_rate=0.300000012, max_delta_step=0, max_depth=6,\n",
       "              min_child_weight=1, missing=nan, monotone_constraints='()',\n",
       "              n_estimators=100, n_jobs=12, num_parallel_tree=1, random_state=0,\n",
       "              reg_alpha=0, reg_lambda=1, scale_pos_weight=1, subsample=1,\n",
       "              tree_method='exact', use_label_encoder=False,\n",
       "              validate_parameters=1, verbosity=None)"
      ]
     },
     "execution_count": 36,
     "metadata": {},
     "output_type": "execute_result"
    }
   ],
   "source": [
    "xgb_v1= XGBClassifier(use_label_encoder=False)\n",
    "xgb_v1.fit(X_train_down, y_train_down)"
   ]
  },
  {
   "cell_type": "code",
   "execution_count": 37,
   "id": "0ec59269",
   "metadata": {
    "scrolled": true
   },
   "outputs": [
    {
     "name": "stdout",
     "output_type": "stream",
     "text": [
      "ROC-AUC on train data 0.7563 and on validation data 0.7145\n",
      "PR-AUC on train data 0.7469 and on validation data 0.3769\n",
      "----------\n",
      "Classification Report:\n",
      "               precision    recall  f1-score   support\n",
      "\n",
      "         0.0       0.89      0.64      0.74    119529\n",
      "         1.0       0.32      0.67      0.43     29696\n",
      "\n",
      "    accuracy                           0.65    149225\n",
      "   macro avg       0.60      0.66      0.59    149225\n",
      "weighted avg       0.77      0.65      0.68    149225\n",
      "\n",
      "----------\n",
      "Confusion Matrix:\n",
      " [[76664 42865]\n",
      " [ 9813 19883]]\n"
     ]
    }
   ],
   "source": [
    "perf_xgb_v1 = output(xgb_v1, X_train_down, y_train_down, X_test, y_test)"
   ]
  },
  {
   "cell_type": "markdown",
   "id": "21e11a1a",
   "metadata": {},
   "source": [
    "### 3.2 Hyper-parameter tuning\n",
    "Let's try some model tuning using randomized search cv"
   ]
  },
  {
   "cell_type": "code",
   "execution_count": 60,
   "id": "81e5d2c1",
   "metadata": {
    "scrolled": true
   },
   "outputs": [
    {
     "name": "stdout",
     "output_type": "stream",
     "text": [
      "Fitting 3 folds for each of 60 candidates, totalling 180 fits\n"
     ]
    },
    {
     "name": "stderr",
     "output_type": "stream",
     "text": [
      "[Parallel(n_jobs=-1)]: Using backend LokyBackend with 12 concurrent workers.\n",
      "[Parallel(n_jobs=-1)]: Done  26 tasks      | elapsed: 10.4min\n",
      "[Parallel(n_jobs=-1)]: Done 180 out of 180 | elapsed: 69.7min finished\n"
     ]
    },
    {
     "name": "stdout",
     "output_type": "stream",
     "text": [
      "[01:20:01] WARNING: ..\\src\\learner.cc:1061: Starting in XGBoost 1.3.0, the default evaluation metric used with the objective 'binary:logistic' was changed from 'error' to 'logloss'. Explicitly set eval_metric if you'd like to restore the old behavior.\n",
      "Best Parameters: {'learning_rate': 0.3511335924855855, 'max_depth': 3, 'n_estimators': 219, 'subsample': 0.8469015987333157}\n"
     ]
    }
   ],
   "source": [
    "# from scipy import stats\n",
    "# param_grid = dict(\n",
    "#     n_estimators=stats.randint(10, 500),\n",
    "#     max_depth=stats.randint(1, 10),\n",
    "#     learning_rate=stats.uniform(0, 1),\n",
    "#     subsample=stats.uniform(0.5, 1)\n",
    "# )\n",
    "\n",
    "# xgb_clf = XGBClassifier(use_label_encoder=False)\n",
    "# xgb_cv = RandomizedSearchCV(\n",
    "#     xgb_clf, param_grid, cv=3, n_iter=60, \n",
    "#     scoring='roc_auc', n_jobs=-1, verbose=1\n",
    "# )\n",
    "# xgb_cv.fit(X_train, y_train)\n",
    "\n",
    "# best_params = xgb_cv.best_params_\n",
    "# # best_params['tree_method'] = 'gpu_hist'\n",
    "# # # best_params = {'n_estimators': 50, 'tree_method': 'gpu_hist'}\n",
    "# print(f\"Best Parameters: {best_params}\")"
   ]
  },
  {
   "cell_type": "code",
   "execution_count": 38,
   "id": "b8495590",
   "metadata": {},
   "outputs": [],
   "source": [
    "# Best Parameters: {'learning_rate': 0.3511335924855855, 'max_depth': 3, 'n_estimators': 219, 'subsample': 0.8469015987333157}"
   ]
  },
  {
   "cell_type": "code",
   "execution_count": 42,
   "id": "d0a721ee",
   "metadata": {},
   "outputs": [
    {
     "name": "stdout",
     "output_type": "stream",
     "text": [
      "[08:41:44] WARNING: ..\\src\\learner.cc:1061: Starting in XGBoost 1.3.0, the default evaluation metric used with the objective 'binary:logistic' was changed from 'error' to 'logloss'. Explicitly set eval_metric if you'd like to restore the old behavior.\n"
     ]
    },
    {
     "data": {
      "text/plain": [
       "XGBClassifier(base_score=0.5, booster='gbtree', colsample_bylevel=1,\n",
       "              colsample_bynode=1, colsample_bytree=1, gamma=0, gpu_id=-1,\n",
       "              importance_type='gain', interaction_constraints='',\n",
       "              learning_rate=0.3511335924855855, max_delta_step=0, max_depth=3,\n",
       "              min_child_weight=1, missing=nan, monotone_constraints='()',\n",
       "              n_estimators=219, n_jobs=12, num_parallel_tree=1, random_state=0,\n",
       "              reg_alpha=0, reg_lambda=1, scale_pos_weight=1,\n",
       "              subsample=0.8469015987333157, tree_method='exact',\n",
       "              validate_parameters=1, verbosity=None)"
      ]
     },
     "execution_count": 42,
     "metadata": {},
     "output_type": "execute_result"
    }
   ],
   "source": [
    "xgb_v2 = XGBClassifier(learning_rate= 0.3511335924855855, max_depth=3,n_estimators=219, subsample=0.8469015987333157)\n",
    "xgb_v2.fit(X_train, y_train)"
   ]
  },
  {
   "cell_type": "code",
   "execution_count": 43,
   "id": "c7c816fd",
   "metadata": {},
   "outputs": [
    {
     "name": "stdout",
     "output_type": "stream",
     "text": [
      "ROC-AUC on train data 0.7256 and on validation data 0.7179\n",
      "PR-AUC on train data 0.3978 and on validation data 0.3838\n",
      "----------\n",
      "Classification Report:\n",
      "               precision    recall  f1-score   support\n",
      "\n",
      "         0.0       0.81      0.99      0.89    119529\n",
      "         1.0       0.56      0.08      0.13     29696\n",
      "\n",
      "    accuracy                           0.80    149225\n",
      "   macro avg       0.68      0.53      0.51    149225\n",
      "weighted avg       0.76      0.80      0.74    149225\n",
      "\n",
      "----------\n",
      "Confusion Matrix:\n",
      " [[117737   1792]\n",
      " [ 27440   2256]]\n"
     ]
    }
   ],
   "source": [
    "perf_xgb_v2 = output(xgb_v2, X_train, y_train, X_test, y_test)"
   ]
  },
  {
   "cell_type": "markdown",
   "metadata": {},
   "source": [
    "# Summary"
   ]
  },
  {
   "cell_type": "code",
   "execution_count": 44,
   "id": "cbe0789e",
   "metadata": {},
   "outputs": [],
   "source": [
    "perf = [perf_lr_v0, perf_lr_v1, perf_lr_v2, perf_rf_v0, perf_rf_v1, perf_xgb_v0, perf_xgb_v1, perf_xgb_v2]"
   ]
  },
  {
   "cell_type": "code",
   "execution_count": 47,
   "metadata": {},
   "outputs": [
    {
     "data": {
      "text/html": [
       "<div>\n",
       "<style scoped>\n",
       "    .dataframe tbody tr th:only-of-type {\n",
       "        vertical-align: middle;\n",
       "    }\n",
       "\n",
       "    .dataframe tbody tr th {\n",
       "        vertical-align: top;\n",
       "    }\n",
       "\n",
       "    .dataframe thead th {\n",
       "        text-align: right;\n",
       "    }\n",
       "</style>\n",
       "<table border=\"1\" class=\"dataframe\">\n",
       "  <thead>\n",
       "    <tr style=\"text-align: right;\">\n",
       "      <th></th>\n",
       "      <th>train_roc_auc</th>\n",
       "      <th>valid_roc_auc</th>\n",
       "      <th>train_pr_auc</th>\n",
       "      <th>valid_pr_auc</th>\n",
       "    </tr>\n",
       "  </thead>\n",
       "  <tbody>\n",
       "    <tr>\n",
       "      <th>lr_v0</th>\n",
       "      <td>0.685445</td>\n",
       "      <td>0.687843</td>\n",
       "      <td>0.343481</td>\n",
       "      <td>0.345185</td>\n",
       "    </tr>\n",
       "    <tr>\n",
       "      <th>lr_v1</th>\n",
       "      <td>0.698549</td>\n",
       "      <td>0.700377</td>\n",
       "      <td>0.358174</td>\n",
       "      <td>0.359181</td>\n",
       "    </tr>\n",
       "    <tr>\n",
       "      <th>lr_v2</th>\n",
       "      <td>0.682626</td>\n",
       "      <td>0.685333</td>\n",
       "      <td>0.663921</td>\n",
       "      <td>0.342192</td>\n",
       "    </tr>\n",
       "    <tr>\n",
       "      <th>rf_v0</th>\n",
       "      <td>1.000000</td>\n",
       "      <td>0.700888</td>\n",
       "      <td>1.000000</td>\n",
       "      <td>0.364798</td>\n",
       "    </tr>\n",
       "    <tr>\n",
       "      <th>rf_v1</th>\n",
       "      <td>1.000000</td>\n",
       "      <td>0.703348</td>\n",
       "      <td>1.000000</td>\n",
       "      <td>0.360214</td>\n",
       "    </tr>\n",
       "    <tr>\n",
       "      <th>xgb_v0</th>\n",
       "      <td>0.745182</td>\n",
       "      <td>0.717167</td>\n",
       "      <td>0.432497</td>\n",
       "      <td>0.381197</td>\n",
       "    </tr>\n",
       "    <tr>\n",
       "      <th>xgb_v1</th>\n",
       "      <td>0.756257</td>\n",
       "      <td>0.714499</td>\n",
       "      <td>0.746923</td>\n",
       "      <td>0.376853</td>\n",
       "    </tr>\n",
       "    <tr>\n",
       "      <th>xgb_v2</th>\n",
       "      <td>0.725642</td>\n",
       "      <td>0.717896</td>\n",
       "      <td>0.397794</td>\n",
       "      <td>0.383788</td>\n",
       "    </tr>\n",
       "  </tbody>\n",
       "</table>\n",
       "</div>"
      ],
      "text/plain": [
       "        train_roc_auc  valid_roc_auc  train_pr_auc  valid_pr_auc\n",
       "lr_v0        0.685445       0.687843      0.343481      0.345185\n",
       "lr_v1        0.698549       0.700377      0.358174      0.359181\n",
       "lr_v2        0.682626       0.685333      0.663921      0.342192\n",
       "rf_v0        1.000000       0.700888      1.000000      0.364798\n",
       "rf_v1        1.000000       0.703348      1.000000      0.360214\n",
       "xgb_v0       0.745182       0.717167      0.432497      0.381197\n",
       "xgb_v1       0.756257       0.714499      0.746923      0.376853\n",
       "xgb_v2       0.725642       0.717896      0.397794      0.383788"
      ]
     },
     "execution_count": 47,
     "metadata": {},
     "output_type": "execute_result"
    }
   ],
   "source": [
    "df_summary = pd.DataFrame(perf, columns=['train_roc_auc','valid_roc_auc','train_pr_auc', 'valid_pr_auc'])\n",
    "df_summary.index = ['lr_v0', 'lr_v1', 'lr_v2', 'rf_v0', 'rf_v1', 'xgb_v0', 'xgb_v1', 'xgb_v2']\n",
    "df_summary"
   ]
  },
  {
   "cell_type": "markdown",
   "metadata": {},
   "source": [
    "`xgb_v2` has the best performance in terms of roc-auc and pr-auc."
   ]
  },
  {
   "cell_type": "code",
   "execution_count": null,
   "metadata": {},
   "outputs": [],
   "source": []
  }
 ],
 "metadata": {
  "kernelspec": {
   "display_name": "Python 3",
   "language": "python",
   "name": "python3"
  },
  "language_info": {
   "codemirror_mode": {
    "name": "ipython",
    "version": 3
   },
   "file_extension": ".py",
   "mimetype": "text/x-python",
   "name": "python",
   "nbconvert_exporter": "python",
   "pygments_lexer": "ipython3",
   "version": "3.8.5"
  },
  "vscode": {
   "interpreter": {
    "hash": "83626e55e21445e1e5d5befdc26fc8f3322c934d9f53c49309c25d9a5dffbf77"
   }
  }
 },
 "nbformat": 4,
 "nbformat_minor": 5
}
