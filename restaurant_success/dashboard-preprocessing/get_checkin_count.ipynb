{
 "cells": [
  {
   "cell_type": "code",
   "execution_count": 1,
   "id": "a806fe00-2877-4b23-9144-59402ba36e60",
   "metadata": {},
   "outputs": [],
   "source": [
    "import pandas as pd"
   ]
  },
  {
   "cell_type": "code",
   "execution_count": 2,
   "id": "d172b316-c0f4-49c3-94b1-457d6acaad4f",
   "metadata": {},
   "outputs": [],
   "source": [
    "# read the checkin dataset\n",
    "fn = 'yelp_academic_dataset_checkin.json'"
   ]
  },
  {
   "cell_type": "code",
   "execution_count": 3,
   "id": "f614ad32-2b10-40e3-9302-89af1e1771f9",
   "metadata": {},
   "outputs": [],
   "source": [
    "df_checkin = pd.read_json(fn, lines=True)"
   ]
  },
  {
   "cell_type": "code",
   "execution_count": 5,
   "id": "6efb8e3d-9197-4c56-8aa7-9bc165e39429",
   "metadata": {},
   "outputs": [
    {
     "data": {
      "text/html": [
       "<div>\n",
       "<style scoped>\n",
       "    .dataframe tbody tr th:only-of-type {\n",
       "        vertical-align: middle;\n",
       "    }\n",
       "\n",
       "    .dataframe tbody tr th {\n",
       "        vertical-align: top;\n",
       "    }\n",
       "\n",
       "    .dataframe thead th {\n",
       "        text-align: right;\n",
       "    }\n",
       "</style>\n",
       "<table border=\"1\" class=\"dataframe\">\n",
       "  <thead>\n",
       "    <tr style=\"text-align: right;\">\n",
       "      <th></th>\n",
       "      <th>business_id</th>\n",
       "      <th>date</th>\n",
       "    </tr>\n",
       "  </thead>\n",
       "  <tbody>\n",
       "    <tr>\n",
       "      <th>0</th>\n",
       "      <td>--0r8K_AQ4FZfLsX3ZYRDA</td>\n",
       "      <td>2017-09-03 17:13:59</td>\n",
       "    </tr>\n",
       "    <tr>\n",
       "      <th>1</th>\n",
       "      <td>--0zrn43LEaB4jUWTQH_Bg</td>\n",
       "      <td>2010-10-08 22:21:20, 2010-11-01 21:29:14, 2010...</td>\n",
       "    </tr>\n",
       "    <tr>\n",
       "      <th>2</th>\n",
       "      <td>--164t1nclzzmca7eDiJMw</td>\n",
       "      <td>2010-02-26 02:06:53, 2010-02-27 08:00:09, 2010...</td>\n",
       "    </tr>\n",
       "    <tr>\n",
       "      <th>3</th>\n",
       "      <td>--2aF9NhXnNVpDV0KS3xBQ</td>\n",
       "      <td>2014-11-03 16:35:35, 2015-01-30 18:16:03, 2015...</td>\n",
       "    </tr>\n",
       "    <tr>\n",
       "      <th>4</th>\n",
       "      <td>--2mEJ63SC_8_08_jGgVIg</td>\n",
       "      <td>2010-12-15 17:10:46, 2013-12-28 00:27:54, 2015...</td>\n",
       "    </tr>\n",
       "  </tbody>\n",
       "</table>\n",
       "</div>"
      ],
      "text/plain": [
       "              business_id                                               date\n",
       "0  --0r8K_AQ4FZfLsX3ZYRDA                                2017-09-03 17:13:59\n",
       "1  --0zrn43LEaB4jUWTQH_Bg  2010-10-08 22:21:20, 2010-11-01 21:29:14, 2010...\n",
       "2  --164t1nclzzmca7eDiJMw  2010-02-26 02:06:53, 2010-02-27 08:00:09, 2010...\n",
       "3  --2aF9NhXnNVpDV0KS3xBQ  2014-11-03 16:35:35, 2015-01-30 18:16:03, 2015...\n",
       "4  --2mEJ63SC_8_08_jGgVIg  2010-12-15 17:10:46, 2013-12-28 00:27:54, 2015..."
      ]
     },
     "execution_count": 5,
     "metadata": {},
     "output_type": "execute_result"
    }
   ],
   "source": [
    "df_checkin.head()"
   ]
  },
  {
   "cell_type": "code",
   "execution_count": 8,
   "id": "06be89aa-e2d0-4548-ae96-f6c30345b2e1",
   "metadata": {},
   "outputs": [],
   "source": [
    "# split data column and count the times of check in for each business_id\n",
    "df_checkin['date_list'] = df_checkin['date'].str.split(',')"
   ]
  },
  {
   "cell_type": "code",
   "execution_count": 9,
   "id": "e9be5751-4df5-41b8-a896-9ea88842b4f8",
   "metadata": {},
   "outputs": [],
   "source": [
    "df_checkin['count'] = df_checkin['date_list'].apply(len)"
   ]
  },
  {
   "cell_type": "code",
   "execution_count": 10,
   "id": "74585642-66e2-4958-b9ee-1a0401b7b050",
   "metadata": {},
   "outputs": [
    {
     "data": {
      "text/html": [
       "<div>\n",
       "<style scoped>\n",
       "    .dataframe tbody tr th:only-of-type {\n",
       "        vertical-align: middle;\n",
       "    }\n",
       "\n",
       "    .dataframe tbody tr th {\n",
       "        vertical-align: top;\n",
       "    }\n",
       "\n",
       "    .dataframe thead th {\n",
       "        text-align: right;\n",
       "    }\n",
       "</style>\n",
       "<table border=\"1\" class=\"dataframe\">\n",
       "  <thead>\n",
       "    <tr style=\"text-align: right;\">\n",
       "      <th></th>\n",
       "      <th>business_id</th>\n",
       "      <th>date</th>\n",
       "      <th>count</th>\n",
       "      <th>date_list</th>\n",
       "    </tr>\n",
       "  </thead>\n",
       "  <tbody>\n",
       "    <tr>\n",
       "      <th>0</th>\n",
       "      <td>--0r8K_AQ4FZfLsX3ZYRDA</td>\n",
       "      <td>2017-09-03 17:13:59</td>\n",
       "      <td>1</td>\n",
       "      <td>[2017-09-03 17:13:59]</td>\n",
       "    </tr>\n",
       "    <tr>\n",
       "      <th>1</th>\n",
       "      <td>--0zrn43LEaB4jUWTQH_Bg</td>\n",
       "      <td>2010-10-08 22:21:20, 2010-11-01 21:29:14, 2010...</td>\n",
       "      <td>9</td>\n",
       "      <td>[2010-10-08 22:21:20,  2010-11-01 21:29:14,  2...</td>\n",
       "    </tr>\n",
       "    <tr>\n",
       "      <th>2</th>\n",
       "      <td>--164t1nclzzmca7eDiJMw</td>\n",
       "      <td>2010-02-26 02:06:53, 2010-02-27 08:00:09, 2010...</td>\n",
       "      <td>311</td>\n",
       "      <td>[2010-02-26 02:06:53,  2010-02-27 08:00:09,  2...</td>\n",
       "    </tr>\n",
       "    <tr>\n",
       "      <th>3</th>\n",
       "      <td>--2aF9NhXnNVpDV0KS3xBQ</td>\n",
       "      <td>2014-11-03 16:35:35, 2015-01-30 18:16:03, 2015...</td>\n",
       "      <td>8</td>\n",
       "      <td>[2014-11-03 16:35:35,  2015-01-30 18:16:03,  2...</td>\n",
       "    </tr>\n",
       "    <tr>\n",
       "      <th>4</th>\n",
       "      <td>--2mEJ63SC_8_08_jGgVIg</td>\n",
       "      <td>2010-12-15 17:10:46, 2013-12-28 00:27:54, 2015...</td>\n",
       "      <td>4</td>\n",
       "      <td>[2010-12-15 17:10:46,  2013-12-28 00:27:54,  2...</td>\n",
       "    </tr>\n",
       "  </tbody>\n",
       "</table>\n",
       "</div>"
      ],
      "text/plain": [
       "              business_id                                               date  \\\n",
       "0  --0r8K_AQ4FZfLsX3ZYRDA                                2017-09-03 17:13:59   \n",
       "1  --0zrn43LEaB4jUWTQH_Bg  2010-10-08 22:21:20, 2010-11-01 21:29:14, 2010...   \n",
       "2  --164t1nclzzmca7eDiJMw  2010-02-26 02:06:53, 2010-02-27 08:00:09, 2010...   \n",
       "3  --2aF9NhXnNVpDV0KS3xBQ  2014-11-03 16:35:35, 2015-01-30 18:16:03, 2015...   \n",
       "4  --2mEJ63SC_8_08_jGgVIg  2010-12-15 17:10:46, 2013-12-28 00:27:54, 2015...   \n",
       "\n",
       "   count                                          date_list  \n",
       "0      1                              [2017-09-03 17:13:59]  \n",
       "1      9  [2010-10-08 22:21:20,  2010-11-01 21:29:14,  2...  \n",
       "2    311  [2010-02-26 02:06:53,  2010-02-27 08:00:09,  2...  \n",
       "3      8  [2014-11-03 16:35:35,  2015-01-30 18:16:03,  2...  \n",
       "4      4  [2010-12-15 17:10:46,  2013-12-28 00:27:54,  2...  "
      ]
     },
     "execution_count": 10,
     "metadata": {},
     "output_type": "execute_result"
    }
   ],
   "source": [
    "df_checkin.head()"
   ]
  },
  {
   "cell_type": "code",
   "execution_count": 12,
   "id": "11b073e0-dbe2-479e-bd09-8fe54cdf55ca",
   "metadata": {},
   "outputs": [
    {
     "data": {
      "text/html": [
       "<div>\n",
       "<style scoped>\n",
       "    .dataframe tbody tr th:only-of-type {\n",
       "        vertical-align: middle;\n",
       "    }\n",
       "\n",
       "    .dataframe tbody tr th {\n",
       "        vertical-align: top;\n",
       "    }\n",
       "\n",
       "    .dataframe thead th {\n",
       "        text-align: right;\n",
       "    }\n",
       "</style>\n",
       "<table border=\"1\" class=\"dataframe\">\n",
       "  <thead>\n",
       "    <tr style=\"text-align: right;\">\n",
       "      <th></th>\n",
       "      <th>count</th>\n",
       "    </tr>\n",
       "  </thead>\n",
       "  <tbody>\n",
       "    <tr>\n",
       "      <th>count</th>\n",
       "      <td>138876.000000</td>\n",
       "    </tr>\n",
       "    <tr>\n",
       "      <th>mean</th>\n",
       "      <td>134.229759</td>\n",
       "    </tr>\n",
       "    <tr>\n",
       "      <th>std</th>\n",
       "      <td>669.356700</td>\n",
       "    </tr>\n",
       "    <tr>\n",
       "      <th>min</th>\n",
       "      <td>1.000000</td>\n",
       "    </tr>\n",
       "    <tr>\n",
       "      <th>25%</th>\n",
       "      <td>6.000000</td>\n",
       "    </tr>\n",
       "    <tr>\n",
       "      <th>50%</th>\n",
       "      <td>24.000000</td>\n",
       "    </tr>\n",
       "    <tr>\n",
       "      <th>75%</th>\n",
       "      <td>93.000000</td>\n",
       "    </tr>\n",
       "    <tr>\n",
       "      <th>max</th>\n",
       "      <td>150005.000000</td>\n",
       "    </tr>\n",
       "  </tbody>\n",
       "</table>\n",
       "</div>"
      ],
      "text/plain": [
       "               count\n",
       "count  138876.000000\n",
       "mean      134.229759\n",
       "std       669.356700\n",
       "min         1.000000\n",
       "25%         6.000000\n",
       "50%        24.000000\n",
       "75%        93.000000\n",
       "max    150005.000000"
      ]
     },
     "execution_count": 12,
     "metadata": {},
     "output_type": "execute_result"
    }
   ],
   "source": [
    "df_checkin[['count']].describe()"
   ]
  },
  {
   "cell_type": "code",
   "execution_count": 13,
   "id": "44bab324-89b7-4f60-8bad-841850fbfd4b",
   "metadata": {},
   "outputs": [],
   "source": [
    "df_out = df_checkin[['business_id', 'count']]"
   ]
  },
  {
   "cell_type": "markdown",
   "id": "9a3a493b-c347-44cd-b5a3-6c080c51bd15",
   "metadata": {},
   "source": [
    "## Only keep MA business"
   ]
  },
  {
   "cell_type": "code",
   "execution_count": 15,
   "id": "ed4aef85-9529-432e-b3e5-fd604309d828",
   "metadata": {},
   "outputs": [],
   "source": [
    "#read the business dataset\n",
    "df_bus = pd.read_json('yelp_academic_dataset_business.json', lines=True)"
   ]
  },
  {
   "cell_type": "code",
   "execution_count": 17,
   "id": "b73cfa25-9961-483f-9b73-4ca014d841ba",
   "metadata": {},
   "outputs": [
    {
     "data": {
      "text/html": [
       "<div>\n",
       "<style scoped>\n",
       "    .dataframe tbody tr th:only-of-type {\n",
       "        vertical-align: middle;\n",
       "    }\n",
       "\n",
       "    .dataframe tbody tr th {\n",
       "        vertical-align: top;\n",
       "    }\n",
       "\n",
       "    .dataframe thead th {\n",
       "        text-align: right;\n",
       "    }\n",
       "</style>\n",
       "<table border=\"1\" class=\"dataframe\">\n",
       "  <thead>\n",
       "    <tr style=\"text-align: right;\">\n",
       "      <th></th>\n",
       "      <th>business_id</th>\n",
       "      <th>name</th>\n",
       "      <th>address</th>\n",
       "      <th>city</th>\n",
       "      <th>state</th>\n",
       "      <th>postal_code</th>\n",
       "      <th>latitude</th>\n",
       "      <th>longitude</th>\n",
       "      <th>stars</th>\n",
       "      <th>review_count</th>\n",
       "      <th>is_open</th>\n",
       "      <th>attributes</th>\n",
       "      <th>categories</th>\n",
       "      <th>hours</th>\n",
       "    </tr>\n",
       "  </thead>\n",
       "  <tbody>\n",
       "    <tr>\n",
       "      <th>0</th>\n",
       "      <td>6iYb2HFDywm3zjuRg0shjw</td>\n",
       "      <td>Oskar Blues Taproom</td>\n",
       "      <td>921 Pearl St</td>\n",
       "      <td>Boulder</td>\n",
       "      <td>CO</td>\n",
       "      <td>80302</td>\n",
       "      <td>40.017544</td>\n",
       "      <td>-105.283348</td>\n",
       "      <td>4.0</td>\n",
       "      <td>86</td>\n",
       "      <td>1</td>\n",
       "      <td>{'RestaurantsTableService': 'True', 'WiFi': 'u...</td>\n",
       "      <td>Gastropubs, Food, Beer Gardens, Restaurants, B...</td>\n",
       "      <td>{'Monday': '11:0-23:0', 'Tuesday': '11:0-23:0'...</td>\n",
       "    </tr>\n",
       "    <tr>\n",
       "      <th>1</th>\n",
       "      <td>tCbdrRPZA0oiIYSmHG3J0w</td>\n",
       "      <td>Flying Elephants at PDX</td>\n",
       "      <td>7000 NE Airport Way</td>\n",
       "      <td>Portland</td>\n",
       "      <td>OR</td>\n",
       "      <td>97218</td>\n",
       "      <td>45.588906</td>\n",
       "      <td>-122.593331</td>\n",
       "      <td>4.0</td>\n",
       "      <td>126</td>\n",
       "      <td>1</td>\n",
       "      <td>{'RestaurantsTakeOut': 'True', 'RestaurantsAtt...</td>\n",
       "      <td>Salad, Soup, Sandwiches, Delis, Restaurants, C...</td>\n",
       "      <td>{'Monday': '5:0-18:0', 'Tuesday': '5:0-17:0', ...</td>\n",
       "    </tr>\n",
       "    <tr>\n",
       "      <th>2</th>\n",
       "      <td>bvN78flM8NLprQ1a1y5dRg</td>\n",
       "      <td>The Reclaimory</td>\n",
       "      <td>4720 Hawthorne Ave</td>\n",
       "      <td>Portland</td>\n",
       "      <td>OR</td>\n",
       "      <td>97214</td>\n",
       "      <td>45.511907</td>\n",
       "      <td>-122.613693</td>\n",
       "      <td>4.5</td>\n",
       "      <td>13</td>\n",
       "      <td>1</td>\n",
       "      <td>{'BusinessAcceptsCreditCards': 'True', 'Restau...</td>\n",
       "      <td>Antiques, Fashion, Used, Vintage &amp; Consignment...</td>\n",
       "      <td>{'Thursday': '11:0-18:0', 'Friday': '11:0-18:0...</td>\n",
       "    </tr>\n",
       "  </tbody>\n",
       "</table>\n",
       "</div>"
      ],
      "text/plain": [
       "              business_id                     name              address  \\\n",
       "0  6iYb2HFDywm3zjuRg0shjw      Oskar Blues Taproom         921 Pearl St   \n",
       "1  tCbdrRPZA0oiIYSmHG3J0w  Flying Elephants at PDX  7000 NE Airport Way   \n",
       "2  bvN78flM8NLprQ1a1y5dRg           The Reclaimory   4720 Hawthorne Ave   \n",
       "\n",
       "       city state postal_code   latitude   longitude  stars  review_count  \\\n",
       "0   Boulder    CO       80302  40.017544 -105.283348    4.0            86   \n",
       "1  Portland    OR       97218  45.588906 -122.593331    4.0           126   \n",
       "2  Portland    OR       97214  45.511907 -122.613693    4.5            13   \n",
       "\n",
       "   is_open                                         attributes  \\\n",
       "0        1  {'RestaurantsTableService': 'True', 'WiFi': 'u...   \n",
       "1        1  {'RestaurantsTakeOut': 'True', 'RestaurantsAtt...   \n",
       "2        1  {'BusinessAcceptsCreditCards': 'True', 'Restau...   \n",
       "\n",
       "                                          categories  \\\n",
       "0  Gastropubs, Food, Beer Gardens, Restaurants, B...   \n",
       "1  Salad, Soup, Sandwiches, Delis, Restaurants, C...   \n",
       "2  Antiques, Fashion, Used, Vintage & Consignment...   \n",
       "\n",
       "                                               hours  \n",
       "0  {'Monday': '11:0-23:0', 'Tuesday': '11:0-23:0'...  \n",
       "1  {'Monday': '5:0-18:0', 'Tuesday': '5:0-17:0', ...  \n",
       "2  {'Thursday': '11:0-18:0', 'Friday': '11:0-18:0...  "
      ]
     },
     "execution_count": 17,
     "metadata": {},
     "output_type": "execute_result"
    }
   ],
   "source": [
    "df_bus.head(3)"
   ]
  },
  {
   "cell_type": "code",
   "execution_count": 20,
   "id": "2bae93a9-55ca-4351-87f3-091fb82bf3eb",
   "metadata": {},
   "outputs": [],
   "source": [
    "#select business_id which state is in MA\n",
    "ma_business_list = df_bus[df_bus['state']=='MA']['business_id'].tolist()"
   ]
  },
  {
   "cell_type": "code",
   "execution_count": 22,
   "id": "cf29458d-a481-4645-bfa3-eaf8e52cdb36",
   "metadata": {},
   "outputs": [
    {
     "data": {
      "text/plain": [
       "36012"
      ]
     },
     "execution_count": 22,
     "metadata": {},
     "output_type": "execute_result"
    }
   ],
   "source": [
    "len(ma_business_list)"
   ]
  },
  {
   "cell_type": "code",
   "execution_count": 24,
   "id": "ba25cf12-cc6f-4836-b03d-e72ea3c8e63c",
   "metadata": {},
   "outputs": [],
   "source": [
    "#select checkin count which business_id is in MA\n",
    "df_out_ma = df_out[df_out['business_id'].isin(ma_business_list)]"
   ]
  },
  {
   "cell_type": "code",
   "execution_count": 26,
   "id": "794086cc-ed41-4908-acd7-fb8c386d547f",
   "metadata": {},
   "outputs": [],
   "source": [
    "df_out_ma.reset_index(drop=True, inplace=True)"
   ]
  },
  {
   "cell_type": "code",
   "execution_count": 27,
   "id": "1a38f9ef-b4df-4604-831b-6adbf59351bd",
   "metadata": {},
   "outputs": [
    {
     "data": {
      "text/html": [
       "<div>\n",
       "<style scoped>\n",
       "    .dataframe tbody tr th:only-of-type {\n",
       "        vertical-align: middle;\n",
       "    }\n",
       "\n",
       "    .dataframe tbody tr th {\n",
       "        vertical-align: top;\n",
       "    }\n",
       "\n",
       "    .dataframe thead th {\n",
       "        text-align: right;\n",
       "    }\n",
       "</style>\n",
       "<table border=\"1\" class=\"dataframe\">\n",
       "  <thead>\n",
       "    <tr style=\"text-align: right;\">\n",
       "      <th></th>\n",
       "      <th>business_id</th>\n",
       "      <th>count</th>\n",
       "    </tr>\n",
       "  </thead>\n",
       "  <tbody>\n",
       "    <tr>\n",
       "      <th>0</th>\n",
       "      <td>--DzGwfuJH12DjYz95VW0Q</td>\n",
       "      <td>2</td>\n",
       "    </tr>\n",
       "    <tr>\n",
       "      <th>1</th>\n",
       "      <td>--JuLhLvq3gyjNnXT9Q95w</td>\n",
       "      <td>1</td>\n",
       "    </tr>\n",
       "    <tr>\n",
       "      <th>2</th>\n",
       "      <td>--fFGOHU7mjZ670MkFJeFA</td>\n",
       "      <td>18</td>\n",
       "    </tr>\n",
       "    <tr>\n",
       "      <th>3</th>\n",
       "      <td>--hkbIWgBKBOZq4VcNwdhQ</td>\n",
       "      <td>1204</td>\n",
       "    </tr>\n",
       "    <tr>\n",
       "      <th>4</th>\n",
       "      <td>--iiZK8pW7kC2Tr2PdQrQw</td>\n",
       "      <td>43</td>\n",
       "    </tr>\n",
       "    <tr>\n",
       "      <th>...</th>\n",
       "      <td>...</td>\n",
       "      <td>...</td>\n",
       "    </tr>\n",
       "    <tr>\n",
       "      <th>29393</th>\n",
       "      <td>zzW7_Vlp9LwfNhpdxT1umw</td>\n",
       "      <td>1</td>\n",
       "    </tr>\n",
       "    <tr>\n",
       "      <th>29394</th>\n",
       "      <td>zzYJ9sVxW7WtyzjIw4Kxdw</td>\n",
       "      <td>1</td>\n",
       "    </tr>\n",
       "    <tr>\n",
       "      <th>29395</th>\n",
       "      <td>zzapa0IpbAUV-Fk7vxxmjA</td>\n",
       "      <td>1</td>\n",
       "    </tr>\n",
       "    <tr>\n",
       "      <th>29396</th>\n",
       "      <td>zzcdycb7S42VnnZkwE4yNA</td>\n",
       "      <td>28</td>\n",
       "    </tr>\n",
       "    <tr>\n",
       "      <th>29397</th>\n",
       "      <td>zzngBb9MoGpkFe8tfowvvA</td>\n",
       "      <td>127</td>\n",
       "    </tr>\n",
       "  </tbody>\n",
       "</table>\n",
       "<p>29398 rows × 2 columns</p>\n",
       "</div>"
      ],
      "text/plain": [
       "                  business_id  count\n",
       "0      --DzGwfuJH12DjYz95VW0Q      2\n",
       "1      --JuLhLvq3gyjNnXT9Q95w      1\n",
       "2      --fFGOHU7mjZ670MkFJeFA     18\n",
       "3      --hkbIWgBKBOZq4VcNwdhQ   1204\n",
       "4      --iiZK8pW7kC2Tr2PdQrQw     43\n",
       "...                       ...    ...\n",
       "29393  zzW7_Vlp9LwfNhpdxT1umw      1\n",
       "29394  zzYJ9sVxW7WtyzjIw4Kxdw      1\n",
       "29395  zzapa0IpbAUV-Fk7vxxmjA      1\n",
       "29396  zzcdycb7S42VnnZkwE4yNA     28\n",
       "29397  zzngBb9MoGpkFe8tfowvvA    127\n",
       "\n",
       "[29398 rows x 2 columns]"
      ]
     },
     "execution_count": 27,
     "metadata": {},
     "output_type": "execute_result"
    }
   ],
   "source": [
    "df_out_ma"
   ]
  },
  {
   "cell_type": "code",
   "execution_count": 29,
   "id": "34f688ff-cade-433e-8138-a1ae8afc7abe",
   "metadata": {},
   "outputs": [],
   "source": [
    "#output the dataset as .csv\n",
    "out_fn = 'checkin_count_ma.csv'"
   ]
  },
  {
   "cell_type": "code",
   "execution_count": 30,
   "id": "b59a01a2-9fb4-4bed-926b-1d3844316e70",
   "metadata": {},
   "outputs": [],
   "source": [
    "df_out_ma.to_csv(out_fn, index=False)"
   ]
  }
 ],
 "metadata": {
  "kernelspec": {
   "display_name": "Python 3 (ipykernel)",
   "language": "python",
   "name": "python3"
  },
  "language_info": {
   "codemirror_mode": {
    "name": "ipython",
    "version": 3
   },
   "file_extension": ".py",
   "mimetype": "text/x-python",
   "name": "python",
   "nbconvert_exporter": "python",
   "pygments_lexer": "ipython3",
   "version": "3.8.13"
  }
 },
 "nbformat": 4,
 "nbformat_minor": 5
}
