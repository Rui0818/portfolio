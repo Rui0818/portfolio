{
 "cells": [
  {
   "cell_type": "code",
   "execution_count": 12,
   "id": "f95a3eba-3022-4183-a890-ff5ddf277f63",
   "metadata": {},
   "outputs": [],
   "source": [
    "import pandas as pd\n",
    "import pymysql\n",
    "import json\n",
    "import matplotlib.pyplot as plt\n",
    "import seaborn as sns\n",
    "from textblob import TextBlob\n",
    "import re"
   ]
  },
  {
   "cell_type": "code",
   "execution_count": 4,
   "id": "aa951ab7-e348-41ed-9121-f99a71b041bc",
   "metadata": {},
   "outputs": [],
   "source": [
    "def setup_query():\n",
    "    #connect the database\n",
    "    return pymysql.connect(host=\"yelp.ciyx8eht0ylz.us-east-1.rds.amazonaws.com\", \n",
    "                         port=3306, \n",
    "                         user=\"melody\", \n",
    "                         password=\"19931206Wr.\", \n",
    "                         database=\"yelp\", \n",
    "                         charset='utf8')"
   ]
  },
  {
   "cell_type": "code",
   "execution_count": 5,
   "id": "2e166441-bfba-49f6-94d9-43463e37142a",
   "metadata": {},
   "outputs": [],
   "source": [
    "con = setup_query()"
   ]
  },
  {
   "cell_type": "code",
   "execution_count": 6,
   "id": "7f71f66c-258f-4879-87cc-b4d061e3b314",
   "metadata": {},
   "outputs": [],
   "source": [
    "q_review = \"\"\"\n",
    "select * from review\n",
    "\"\"\"\n",
    "df_review = pd.read_sql(q_review, con)"
   ]
  },
  {
   "cell_type": "code",
   "execution_count": 8,
   "id": "ce273cec-d6b3-404d-bfe4-eef6ec3e2b23",
   "metadata": {},
   "outputs": [
    {
     "data": {
      "text/plain": [
       "(618150, 9)"
      ]
     },
     "execution_count": 8,
     "metadata": {},
     "output_type": "execute_result"
    }
   ],
   "source": [
    "df_review.shape"
   ]
  },
  {
   "cell_type": "code",
   "execution_count": 7,
   "id": "289fbbcf-2efb-449b-8ae2-6baf3ef9fa4c",
   "metadata": {},
   "outputs": [
    {
     "data": {
      "text/html": [
       "<div>\n",
       "<style scoped>\n",
       "    .dataframe tbody tr th:only-of-type {\n",
       "        vertical-align: middle;\n",
       "    }\n",
       "\n",
       "    .dataframe tbody tr th {\n",
       "        vertical-align: top;\n",
       "    }\n",
       "\n",
       "    .dataframe thead th {\n",
       "        text-align: right;\n",
       "    }\n",
       "</style>\n",
       "<table border=\"1\" class=\"dataframe\">\n",
       "  <thead>\n",
       "    <tr style=\"text-align: right;\">\n",
       "      <th></th>\n",
       "      <th>review_id</th>\n",
       "      <th>user_id</th>\n",
       "      <th>business_id</th>\n",
       "      <th>stars</th>\n",
       "      <th>useful</th>\n",
       "      <th>funny</th>\n",
       "      <th>cool</th>\n",
       "      <th>text</th>\n",
       "      <th>date</th>\n",
       "    </tr>\n",
       "  </thead>\n",
       "  <tbody>\n",
       "    <tr>\n",
       "      <th>0</th>\n",
       "      <td>---aTjqbJIOFlMokl4KHCw</td>\n",
       "      <td>ZbvQy4QtGkeofAO_kgadCQ</td>\n",
       "      <td>m1ertlgQIxAl74D7nCsvbQ</td>\n",
       "      <td>2</td>\n",
       "      <td>0</td>\n",
       "      <td>0</td>\n",
       "      <td>0</td>\n",
       "      <td>!!!Caution!!! This is a long thorough review. ...</td>\n",
       "      <td>2019-01-13 03:48:54</td>\n",
       "    </tr>\n",
       "    <tr>\n",
       "      <th>1</th>\n",
       "      <td>---Q6MewoDKsudsf6HFjxA</td>\n",
       "      <td>7SgH7aavrDBjL2DbVyDGoQ</td>\n",
       "      <td>GprFEGAr8pcOF9_CgWoY8w</td>\n",
       "      <td>3</td>\n",
       "      <td>0</td>\n",
       "      <td>0</td>\n",
       "      <td>0</td>\n",
       "      <td>The food was great, but the service was ridicu...</td>\n",
       "      <td>2010-01-12 20:51:05</td>\n",
       "    </tr>\n",
       "    <tr>\n",
       "      <th>2</th>\n",
       "      <td>---Z8ZHQEBD6WR2HYHmv7w</td>\n",
       "      <td>zVOQKegNfeYn7oX221GKFA</td>\n",
       "      <td>jdSwCr-q5sihRK7_ZKrt0w</td>\n",
       "      <td>5</td>\n",
       "      <td>1</td>\n",
       "      <td>0</td>\n",
       "      <td>1</td>\n",
       "      <td>I love this store. Perfect selection of small ...</td>\n",
       "      <td>2011-02-13 09:43:22</td>\n",
       "    </tr>\n",
       "    <tr>\n",
       "      <th>3</th>\n",
       "      <td>--05HWh3tFtXAjTV4vquHg</td>\n",
       "      <td>nt5VdYXo6k3awwPvE55xLA</td>\n",
       "      <td>uSM_sCp22BJWeatTDl6ODA</td>\n",
       "      <td>5</td>\n",
       "      <td>0</td>\n",
       "      <td>0</td>\n",
       "      <td>1</td>\n",
       "      <td>Harvest is such a hidden gem. This restaurant ...</td>\n",
       "      <td>2012-08-24 14:39:25</td>\n",
       "    </tr>\n",
       "    <tr>\n",
       "      <th>4</th>\n",
       "      <td>--0o-hiiY45Wx6hqNz7dJg</td>\n",
       "      <td>a5aVVq8WKIiaNoL5hvixEQ</td>\n",
       "      <td>WGZTd7vRoCeMnoqipcDoZw</td>\n",
       "      <td>1</td>\n",
       "      <td>0</td>\n",
       "      <td>0</td>\n",
       "      <td>0</td>\n",
       "      <td>Netblazr refused to connect me, for an undiscl...</td>\n",
       "      <td>2013-07-04 19:33:07</td>\n",
       "    </tr>\n",
       "  </tbody>\n",
       "</table>\n",
       "</div>"
      ],
      "text/plain": [
       "                review_id                 user_id             business_id  \\\n",
       "0  ---aTjqbJIOFlMokl4KHCw  ZbvQy4QtGkeofAO_kgadCQ  m1ertlgQIxAl74D7nCsvbQ   \n",
       "1  ---Q6MewoDKsudsf6HFjxA  7SgH7aavrDBjL2DbVyDGoQ  GprFEGAr8pcOF9_CgWoY8w   \n",
       "2  ---Z8ZHQEBD6WR2HYHmv7w  zVOQKegNfeYn7oX221GKFA  jdSwCr-q5sihRK7_ZKrt0w   \n",
       "3  --05HWh3tFtXAjTV4vquHg  nt5VdYXo6k3awwPvE55xLA  uSM_sCp22BJWeatTDl6ODA   \n",
       "4  --0o-hiiY45Wx6hqNz7dJg  a5aVVq8WKIiaNoL5hvixEQ  WGZTd7vRoCeMnoqipcDoZw   \n",
       "\n",
       "   stars  useful  funny  cool  \\\n",
       "0      2       0      0     0   \n",
       "1      3       0      0     0   \n",
       "2      5       1      0     1   \n",
       "3      5       0      0     1   \n",
       "4      1       0      0     0   \n",
       "\n",
       "                                                text                 date  \n",
       "0  !!!Caution!!! This is a long thorough review. ...  2019-01-13 03:48:54  \n",
       "1  The food was great, but the service was ridicu...  2010-01-12 20:51:05  \n",
       "2  I love this store. Perfect selection of small ...  2011-02-13 09:43:22  \n",
       "3  Harvest is such a hidden gem. This restaurant ...  2012-08-24 14:39:25  \n",
       "4  Netblazr refused to connect me, for an undiscl...  2013-07-04 19:33:07  "
      ]
     },
     "execution_count": 7,
     "metadata": {},
     "output_type": "execute_result"
    }
   ],
   "source": [
    "df_review.head()"
   ]
  },
  {
   "cell_type": "code",
   "execution_count": 13,
   "id": "261c8747-895b-4a17-bb7a-8b34ed6b6838",
   "metadata": {},
   "outputs": [],
   "source": [
    "#clean the text\n",
    "\n",
    "#create a function to clean the review text\n",
    "def cleanText(text):\n",
    "    text = re.sub(r'https?:\\/\\/\\S+','',text) #remove hyper link\n",
    "    return text\n",
    "\n",
    "#cleaning the text\n",
    "df_review['text_clean']=df_review['text'].apply(cleanText)\n"
   ]
  },
  {
   "cell_type": "code",
   "execution_count": 14,
   "id": "04024d9b-37d9-4163-961a-14ee00568dec",
   "metadata": {},
   "outputs": [],
   "source": [
    "def getPolarity(text):\n",
    "    return TextBlob(text).sentiment.polarity\n",
    "\n",
    "#create a new column\n",
    "df_review['polarity'] = df_review['text_clean'].apply(getPolarity)"
   ]
  },
  {
   "cell_type": "code",
   "execution_count": 17,
   "id": "616e6b27-aee2-45bc-9ea1-732381730214",
   "metadata": {},
   "outputs": [],
   "source": [
    "df_out = df_review[['business_id', 'polarity']]"
   ]
  },
  {
   "cell_type": "code",
   "execution_count": 20,
   "id": "79d70f23-50fd-482c-8235-10636ce509b5",
   "metadata": {},
   "outputs": [],
   "source": [
    "df_out_1 = df_out.groupby('business_id')['polarity'].mean().reset_index()"
   ]
  },
  {
   "cell_type": "code",
   "execution_count": 21,
   "id": "565c910a-c16c-4a6f-a84c-f09d51c0d952",
   "metadata": {},
   "outputs": [
    {
     "data": {
      "text/html": [
       "<div>\n",
       "<style scoped>\n",
       "    .dataframe tbody tr th:only-of-type {\n",
       "        vertical-align: middle;\n",
       "    }\n",
       "\n",
       "    .dataframe tbody tr th {\n",
       "        vertical-align: top;\n",
       "    }\n",
       "\n",
       "    .dataframe thead th {\n",
       "        text-align: right;\n",
       "    }\n",
       "</style>\n",
       "<table border=\"1\" class=\"dataframe\">\n",
       "  <thead>\n",
       "    <tr style=\"text-align: right;\">\n",
       "      <th></th>\n",
       "      <th>business_id</th>\n",
       "      <th>polarity</th>\n",
       "    </tr>\n",
       "  </thead>\n",
       "  <tbody>\n",
       "    <tr>\n",
       "      <th>0</th>\n",
       "      <td>--4INAzazK6omgf3mY3dfw</td>\n",
       "      <td>0.166670</td>\n",
       "    </tr>\n",
       "    <tr>\n",
       "      <th>1</th>\n",
       "      <td>--DzGwfuJH12DjYz95VW0Q</td>\n",
       "      <td>0.028775</td>\n",
       "    </tr>\n",
       "    <tr>\n",
       "      <th>2</th>\n",
       "      <td>--JuLhLvq3gyjNnXT9Q95w</td>\n",
       "      <td>0.299733</td>\n",
       "    </tr>\n",
       "    <tr>\n",
       "      <th>3</th>\n",
       "      <td>--iiZK8pW7kC2Tr2PdQrQw</td>\n",
       "      <td>0.212830</td>\n",
       "    </tr>\n",
       "    <tr>\n",
       "      <th>4</th>\n",
       "      <td>--nH9kKRMf25i2KREVXKtw</td>\n",
       "      <td>0.238304</td>\n",
       "    </tr>\n",
       "    <tr>\n",
       "      <th>...</th>\n",
       "      <td>...</td>\n",
       "      <td>...</td>\n",
       "    </tr>\n",
       "    <tr>\n",
       "      <th>10843</th>\n",
       "      <td>zwTNO76yQ2HsMLqBzyRmjg</td>\n",
       "      <td>0.305493</td>\n",
       "    </tr>\n",
       "    <tr>\n",
       "      <th>10844</th>\n",
       "      <td>zwvr3vLc36uOi5gUHi_e6Q</td>\n",
       "      <td>0.376158</td>\n",
       "    </tr>\n",
       "    <tr>\n",
       "      <th>10845</th>\n",
       "      <td>zxbkDCJ85JHgC8CWcdMCZw</td>\n",
       "      <td>0.273750</td>\n",
       "    </tr>\n",
       "    <tr>\n",
       "      <th>10846</th>\n",
       "      <td>zyTo1jeo7206-eAYkEMKiA</td>\n",
       "      <td>0.192713</td>\n",
       "    </tr>\n",
       "    <tr>\n",
       "      <th>10847</th>\n",
       "      <td>zzYJ9sVxW7WtyzjIw4Kxdw</td>\n",
       "      <td>0.190380</td>\n",
       "    </tr>\n",
       "  </tbody>\n",
       "</table>\n",
       "<p>10848 rows × 2 columns</p>\n",
       "</div>"
      ],
      "text/plain": [
       "                  business_id  polarity\n",
       "0      --4INAzazK6omgf3mY3dfw  0.166670\n",
       "1      --DzGwfuJH12DjYz95VW0Q  0.028775\n",
       "2      --JuLhLvq3gyjNnXT9Q95w  0.299733\n",
       "3      --iiZK8pW7kC2Tr2PdQrQw  0.212830\n",
       "4      --nH9kKRMf25i2KREVXKtw  0.238304\n",
       "...                       ...       ...\n",
       "10843  zwTNO76yQ2HsMLqBzyRmjg  0.305493\n",
       "10844  zwvr3vLc36uOi5gUHi_e6Q  0.376158\n",
       "10845  zxbkDCJ85JHgC8CWcdMCZw  0.273750\n",
       "10846  zyTo1jeo7206-eAYkEMKiA  0.192713\n",
       "10847  zzYJ9sVxW7WtyzjIw4Kxdw  0.190380\n",
       "\n",
       "[10848 rows x 2 columns]"
      ]
     },
     "execution_count": 21,
     "metadata": {},
     "output_type": "execute_result"
    }
   ],
   "source": [
    "df_out_1"
   ]
  },
  {
   "cell_type": "code",
   "execution_count": 23,
   "id": "906372e3-5760-4598-8a52-6da77e4fa92d",
   "metadata": {},
   "outputs": [],
   "source": [
    "df_out_1.to_csv('data/review_score_ma.csv',index=False)"
   ]
  }
 ],
 "metadata": {
  "kernelspec": {
   "display_name": "Python 3",
   "language": "python",
   "name": "python3"
  },
  "language_info": {
   "codemirror_mode": {
    "name": "ipython",
    "version": 3
   },
   "file_extension": ".py",
   "mimetype": "text/x-python",
   "name": "python",
   "nbconvert_exporter": "python",
   "pygments_lexer": "ipython3",
   "version": "3.8.8"
  }
 },
 "nbformat": 4,
 "nbformat_minor": 5
}
