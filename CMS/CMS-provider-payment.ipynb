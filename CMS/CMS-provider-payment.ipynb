{
 "cells": [
  {
   "cell_type": "markdown",
   "id": "02770eac",
   "metadata": {},
   "source": [
    "#  CMS provider payment and coverage analysis\n",
    "This project undertakes a comprehensive examination of variations in payments and coverage across different states, drawing on data from the [Centers for Medicare and Medicaid Services](https://data.cms.gov/provider-summary-by-type-of-service/medicare-inpatient-hospitals/medicare-inpatient-hospitals-by-provider). \n",
    "\n",
    "We have meticulously processed the Medicare Inpatient Hospitals data at the hospital level to analyze the statistical characteristics of payments, coverage, and their geographical distribution, using the R programming language.\n",
    "\n",
    "Data dictionary: https://data.cms.gov/resources/medicare-inpatient-hospitals-by-provider-data-dictionary"
   ]
  },
  {
   "cell_type": "code",
   "execution_count": 2,
   "id": "8d980e06",
   "metadata": {
    "vscode": {
     "languageId": "r"
    }
   },
   "outputs": [],
   "source": [
    "library(tidyverse)\n",
    "library(lubridate)     "
   ]
  },
  {
   "cell_type": "code",
   "execution_count": 3,
   "id": "1e885f04",
   "metadata": {
    "vscode": {
     "languageId": "r"
    }
   },
   "outputs": [],
   "source": [
    "data18 <- read.csv(\"Medicare_Inpatient_Hospitals_by_Provider_2018.csv\", stringsAsFactors = FALSE, dec=\",\")\n",
    "data19 <- read.csv(\"Medicare_Inpatient_Hospitals_by_Provider_2019.csv\", stringsAsFactors = FALSE, dec=\",\")\n",
    "data20 <- read.csv(\"Medicare_Inpatient_Hospitals_by_Provider_2020.csv\", stringsAsFactors = FALSE, dec=\",\")\n",
    "data21 <- read.csv(\"Medicare_Inpatient_Hospitals_by_Provider_2021.csv\", stringsAsFactors = FALSE, dec=\",\")"
   ]
  },
  {
   "cell_type": "code",
   "execution_count": 4,
   "id": "130e4e7e",
   "metadata": {
    "vscode": {
     "languageId": "r"
    }
   },
   "outputs": [
    {
     "data": {
      "text/html": [
       "<table>\n",
       "<thead><tr><th scope=col>Rndrng_Prvdr_CCN</th><th scope=col>Rndrng_Prvdr_Org_Name</th><th scope=col>Rndrng_Prvdr_St</th><th scope=col>Rndrng_Prvdr_City</th><th scope=col>Rndrng_Prvdr_Zip5</th><th scope=col>Rndrng_Prvdr_State_Abrvtn</th><th scope=col>Tot_Submtd_Cvrd_Chrg</th><th scope=col>Tot_Pymt_Amt</th><th scope=col>Tot_Mdcr_Pymt_Amt</th><th scope=col>Tot_Dschrgs</th><th scope=col>...</th><th scope=col>Bene_CC_Dprssn_Pct</th><th scope=col>Bene_CC_Dbts_Pct</th><th scope=col>Bene_CC_Hyplpdma_Pct</th><th scope=col>Bene_CC_Hyprtnsn_Pct</th><th scope=col>Bene_CC_IHD_Pct</th><th scope=col>Bene_CC_Opo_Pct</th><th scope=col>Bene_CC_RAOA_Pct</th><th scope=col>Bene_CC_Sz_Pct</th><th scope=col>Bene_CC_Strok_Pct</th><th scope=col>Bene_Avg_Risk_Scre</th></tr></thead>\n",
       "<tbody>\n",
       "\t<tr><td>10001                           </td><td>SOUTHEAST ALABAMA MEDICAL CENTER</td><td>1108 ROSS CLARK CIRCLE          </td><td>DOTHAN                          </td><td>36301                           </td><td>AL                              </td><td>365240728                       </td><td>75848592                        </td><td>65634615                        </td><td>6996                            </td><td>...                             </td><td>0.419821606                     </td><td>0.479286422                     </td><td>0.748860258                     </td><td>0.75                            </td><td>0.595837463                     </td><td>0.1296333                       </td><td>0.578196234                     </td><td>0.088800793                     </td><td>0.18592666                      </td><td>2.086595113                     </td></tr>\n",
       "\t<tr><td>10005                           </td><td>MARSHALL MEDICAL CENTER SOUTH   </td><td>2505 U S HIGHWAY 431 NORTH      </td><td>BOAZ                            </td><td>35957                           </td><td>AL                              </td><td> 58327634                       </td><td>24745522                        </td><td>19899502                        </td><td>3071                            </td><td>...                             </td><td>0.396052632                     </td><td>0.438157895                     </td><td>0.666666667                     </td><td>0.75                            </td><td>0.535964912                     </td><td>0.114473684                     </td><td>0.585087719                     </td><td>0.075877193                     </td><td>0.154385965                     </td><td>1.761785808                     </td></tr>\n",
       "\t<tr><td>10006                           </td><td>NORTH ALABAMA MEDICAL CENTER    </td><td>1701 VETERANS DRIVE             </td><td>FLORENCE                        </td><td>35630                           </td><td>AL                              </td><td>216511653                       </td><td>46577016                        </td><td>38613206                        </td><td>5178                            </td><td>...                             </td><td>0.37254902                      </td><td>0.4409115                       </td><td>0.725490196                     </td><td>0.75                            </td><td>0.609167992                     </td><td>0.1118177                       </td><td>0.563063063                     </td><td>0.05590885                      </td><td>0.142289348                     </td><td>1.889106769                     </td></tr>\n",
       "\t<tr><td>10007                           </td><td>MIZELL MEMORIAL HOSPITAL        </td><td>702 N MAIN ST                   </td><td>OPP                             </td><td>36467                           </td><td>AL                              </td><td>  9790291                       </td><td> 4604338                        </td><td> 3832272                        </td><td> 707                            </td><td>...                             </td><td>0.381930185                     </td><td>0.431211499                     </td><td>0.556468173                     </td><td>0.75                            </td><td>0.605749487                     </td><td>0.09650924                      </td><td>0.53798768                      </td><td>0.135523614                     </td><td>0.151950719                     </td><td>1.803546271                     </td></tr>\n",
       "\t<tr><td>10008                           </td><td>CRENSHAW COMMUNITY HOSPITAL     </td><td>101 HOSPITAL CIRCLE             </td><td>LUVERNE                         </td><td>36049                           </td><td>AL                              </td><td>  3100435                       </td><td> 1424941                        </td><td> 1209627                        </td><td> 171                            </td><td>...                             </td><td>0.276119403                     </td><td>0.417910448                     </td><td>0.582089552                     </td><td>0.75                            </td><td>0.567164179                     </td><td>0.067164179                     </td><td>0.559701493                     </td><td>0.097014925                     </td><td>0.119402985                     </td><td>1.731700249                     </td></tr>\n",
       "\t<tr><td>10011                           </td><td>ST VINCENT'S EAST               </td><td>50 MEDICAL PARK EAST DRIVE      </td><td>BIRMINGHAM                      </td><td>35235                           </td><td>AL                              </td><td>163559892                       </td><td>34234753                        </td><td>28624702                        </td><td>2932                            </td><td>...                             </td><td>0.405721717                     </td><td>0.450801907                     </td><td>0.680104031                     </td><td>0.75                            </td><td>0.576939749                     </td><td>0.081924577                     </td><td>0.44863459                      </td><td>0.098396186                     </td><td>0.133506719                     </td><td>2.052724473                     </td></tr>\n",
       "</tbody>\n",
       "</table>\n"
      ],
      "text/latex": [
       "\\begin{tabular}{r|lllllllllllllllllllllllllllllllllllllllllllll}\n",
       " Rndrng\\_Prvdr\\_CCN & Rndrng\\_Prvdr\\_Org\\_Name & Rndrng\\_Prvdr\\_St & Rndrng\\_Prvdr\\_City & Rndrng\\_Prvdr\\_Zip5 & Rndrng\\_Prvdr\\_State\\_Abrvtn & Tot\\_Submtd\\_Cvrd\\_Chrg & Tot\\_Pymt\\_Amt & Tot\\_Mdcr\\_Pymt\\_Amt & Tot\\_Dschrgs & ... & Bene\\_CC\\_Dprssn\\_Pct & Bene\\_CC\\_Dbts\\_Pct & Bene\\_CC\\_Hyplpdma\\_Pct & Bene\\_CC\\_Hyprtnsn\\_Pct & Bene\\_CC\\_IHD\\_Pct & Bene\\_CC\\_Opo\\_Pct & Bene\\_CC\\_RAOA\\_Pct & Bene\\_CC\\_Sz\\_Pct & Bene\\_CC\\_Strok\\_Pct & Bene\\_Avg\\_Risk\\_Scre\\\\\n",
       "\\hline\n",
       "\t 10001                            & SOUTHEAST ALABAMA MEDICAL CENTER & 1108 ROSS CLARK CIRCLE           & DOTHAN                           & 36301                            & AL                               & 365240728                        & 75848592                         & 65634615                         & 6996                             & ...                              & 0.419821606                      & 0.479286422                      & 0.748860258                      & 0.75                             & 0.595837463                      & 0.1296333                        & 0.578196234                      & 0.088800793                      & 0.18592666                       & 2.086595113                     \\\\\n",
       "\t 10005                            & MARSHALL MEDICAL CENTER SOUTH    & 2505 U S HIGHWAY 431 NORTH       & BOAZ                             & 35957                            & AL                               &  58327634                        & 24745522                         & 19899502                         & 3071                             & ...                              & 0.396052632                      & 0.438157895                      & 0.666666667                      & 0.75                             & 0.535964912                      & 0.114473684                      & 0.585087719                      & 0.075877193                      & 0.154385965                      & 1.761785808                     \\\\\n",
       "\t 10006                            & NORTH ALABAMA MEDICAL CENTER     & 1701 VETERANS DRIVE              & FLORENCE                         & 35630                            & AL                               & 216511653                        & 46577016                         & 38613206                         & 5178                             & ...                              & 0.37254902                       & 0.4409115                        & 0.725490196                      & 0.75                             & 0.609167992                      & 0.1118177                        & 0.563063063                      & 0.05590885                       & 0.142289348                      & 1.889106769                     \\\\\n",
       "\t 10007                            & MIZELL MEMORIAL HOSPITAL         & 702 N MAIN ST                    & OPP                              & 36467                            & AL                               &   9790291                        &  4604338                         &  3832272                         &  707                             & ...                              & 0.381930185                      & 0.431211499                      & 0.556468173                      & 0.75                             & 0.605749487                      & 0.09650924                       & 0.53798768                       & 0.135523614                      & 0.151950719                      & 1.803546271                     \\\\\n",
       "\t 10008                            & CRENSHAW COMMUNITY HOSPITAL      & 101 HOSPITAL CIRCLE              & LUVERNE                          & 36049                            & AL                               &   3100435                        &  1424941                         &  1209627                         &  171                             & ...                              & 0.276119403                      & 0.417910448                      & 0.582089552                      & 0.75                             & 0.567164179                      & 0.067164179                      & 0.559701493                      & 0.097014925                      & 0.119402985                      & 1.731700249                     \\\\\n",
       "\t 10011                            & ST VINCENT'S EAST                & 50 MEDICAL PARK EAST DRIVE       & BIRMINGHAM                       & 35235                            & AL                               & 163559892                        & 34234753                         & 28624702                         & 2932                             & ...                              & 0.405721717                      & 0.450801907                      & 0.680104031                      & 0.75                             & 0.576939749                      & 0.081924577                      & 0.44863459                       & 0.098396186                      & 0.133506719                      & 2.052724473                     \\\\\n",
       "\\end{tabular}\n"
      ],
      "text/markdown": [
       "\n",
       "| Rndrng_Prvdr_CCN | Rndrng_Prvdr_Org_Name | Rndrng_Prvdr_St | Rndrng_Prvdr_City | Rndrng_Prvdr_Zip5 | Rndrng_Prvdr_State_Abrvtn | Tot_Submtd_Cvrd_Chrg | Tot_Pymt_Amt | Tot_Mdcr_Pymt_Amt | Tot_Dschrgs | ... | Bene_CC_Dprssn_Pct | Bene_CC_Dbts_Pct | Bene_CC_Hyplpdma_Pct | Bene_CC_Hyprtnsn_Pct | Bene_CC_IHD_Pct | Bene_CC_Opo_Pct | Bene_CC_RAOA_Pct | Bene_CC_Sz_Pct | Bene_CC_Strok_Pct | Bene_Avg_Risk_Scre |\n",
       "|---|---|---|---|---|---|---|---|---|---|---|---|---|---|---|---|---|---|---|---|---|\n",
       "| 10001                            | SOUTHEAST ALABAMA MEDICAL CENTER | 1108 ROSS CLARK CIRCLE           | DOTHAN                           | 36301                            | AL                               | 365240728                        | 75848592                         | 65634615                         | 6996                             | ...                              | 0.419821606                      | 0.479286422                      | 0.748860258                      | 0.75                             | 0.595837463                      | 0.1296333                        | 0.578196234                      | 0.088800793                      | 0.18592666                       | 2.086595113                      |\n",
       "| 10005                            | MARSHALL MEDICAL CENTER SOUTH    | 2505 U S HIGHWAY 431 NORTH       | BOAZ                             | 35957                            | AL                               |  58327634                        | 24745522                         | 19899502                         | 3071                             | ...                              | 0.396052632                      | 0.438157895                      | 0.666666667                      | 0.75                             | 0.535964912                      | 0.114473684                      | 0.585087719                      | 0.075877193                      | 0.154385965                      | 1.761785808                      |\n",
       "| 10006                            | NORTH ALABAMA MEDICAL CENTER     | 1701 VETERANS DRIVE              | FLORENCE                         | 35630                            | AL                               | 216511653                        | 46577016                         | 38613206                         | 5178                             | ...                              | 0.37254902                       | 0.4409115                        | 0.725490196                      | 0.75                             | 0.609167992                      | 0.1118177                        | 0.563063063                      | 0.05590885                       | 0.142289348                      | 1.889106769                      |\n",
       "| 10007                            | MIZELL MEMORIAL HOSPITAL         | 702 N MAIN ST                    | OPP                              | 36467                            | AL                               |   9790291                        |  4604338                         |  3832272                         |  707                             | ...                              | 0.381930185                      | 0.431211499                      | 0.556468173                      | 0.75                             | 0.605749487                      | 0.09650924                       | 0.53798768                       | 0.135523614                      | 0.151950719                      | 1.803546271                      |\n",
       "| 10008                            | CRENSHAW COMMUNITY HOSPITAL      | 101 HOSPITAL CIRCLE              | LUVERNE                          | 36049                            | AL                               |   3100435                        |  1424941                         |  1209627                         |  171                             | ...                              | 0.276119403                      | 0.417910448                      | 0.582089552                      | 0.75                             | 0.567164179                      | 0.067164179                      | 0.559701493                      | 0.097014925                      | 0.119402985                      | 1.731700249                      |\n",
       "| 10011                            | ST VINCENT'S EAST                | 50 MEDICAL PARK EAST DRIVE       | BIRMINGHAM                       | 35235                            | AL                               | 163559892                        | 34234753                         | 28624702                         | 2932                             | ...                              | 0.405721717                      | 0.450801907                      | 0.680104031                      | 0.75                             | 0.576939749                      | 0.081924577                      | 0.44863459                       | 0.098396186                      | 0.133506719                      | 2.052724473                      |\n",
       "\n"
      ],
      "text/plain": [
       "  Rndrng_Prvdr_CCN Rndrng_Prvdr_Org_Name            Rndrng_Prvdr_St           \n",
       "1 10001            SOUTHEAST ALABAMA MEDICAL CENTER 1108 ROSS CLARK CIRCLE    \n",
       "2 10005            MARSHALL MEDICAL CENTER SOUTH    2505 U S HIGHWAY 431 NORTH\n",
       "3 10006            NORTH ALABAMA MEDICAL CENTER     1701 VETERANS DRIVE       \n",
       "4 10007            MIZELL MEMORIAL HOSPITAL         702 N MAIN ST             \n",
       "5 10008            CRENSHAW COMMUNITY HOSPITAL      101 HOSPITAL CIRCLE       \n",
       "6 10011            ST VINCENT'S EAST                50 MEDICAL PARK EAST DRIVE\n",
       "  Rndrng_Prvdr_City Rndrng_Prvdr_Zip5 Rndrng_Prvdr_State_Abrvtn\n",
       "1 DOTHAN            36301             AL                       \n",
       "2 BOAZ              35957             AL                       \n",
       "3 FLORENCE          35630             AL                       \n",
       "4 OPP               36467             AL                       \n",
       "5 LUVERNE           36049             AL                       \n",
       "6 BIRMINGHAM        35235             AL                       \n",
       "  Tot_Submtd_Cvrd_Chrg Tot_Pymt_Amt Tot_Mdcr_Pymt_Amt Tot_Dschrgs ...\n",
       "1 365240728            75848592     65634615          6996        ...\n",
       "2  58327634            24745522     19899502          3071        ...\n",
       "3 216511653            46577016     38613206          5178        ...\n",
       "4   9790291             4604338      3832272           707        ...\n",
       "5   3100435             1424941      1209627           171        ...\n",
       "6 163559892            34234753     28624702          2932        ...\n",
       "  Bene_CC_Dprssn_Pct Bene_CC_Dbts_Pct Bene_CC_Hyplpdma_Pct Bene_CC_Hyprtnsn_Pct\n",
       "1 0.419821606        0.479286422      0.748860258          0.75                \n",
       "2 0.396052632        0.438157895      0.666666667          0.75                \n",
       "3 0.37254902         0.4409115        0.725490196          0.75                \n",
       "4 0.381930185        0.431211499      0.556468173          0.75                \n",
       "5 0.276119403        0.417910448      0.582089552          0.75                \n",
       "6 0.405721717        0.450801907      0.680104031          0.75                \n",
       "  Bene_CC_IHD_Pct Bene_CC_Opo_Pct Bene_CC_RAOA_Pct Bene_CC_Sz_Pct\n",
       "1 0.595837463     0.1296333       0.578196234      0.088800793   \n",
       "2 0.535964912     0.114473684     0.585087719      0.075877193   \n",
       "3 0.609167992     0.1118177       0.563063063      0.05590885    \n",
       "4 0.605749487     0.09650924      0.53798768       0.135523614   \n",
       "5 0.567164179     0.067164179     0.559701493      0.097014925   \n",
       "6 0.576939749     0.081924577     0.44863459       0.098396186   \n",
       "  Bene_CC_Strok_Pct Bene_Avg_Risk_Scre\n",
       "1 0.18592666        2.086595113       \n",
       "2 0.154385965       1.761785808       \n",
       "3 0.142289348       1.889106769       \n",
       "4 0.151950719       1.803546271       \n",
       "5 0.119402985       1.731700249       \n",
       "6 0.133506719       2.052724473       "
      ]
     },
     "metadata": {},
     "output_type": "display_data"
    }
   ],
   "source": [
    "head(data18)"
   ]
  },
  {
   "cell_type": "markdown",
   "id": "142bb968",
   "metadata": {},
   "source": [
    "Adding Year variable to the datasets"
   ]
  },
  {
   "cell_type": "code",
   "execution_count": 5,
   "id": "8b561122",
   "metadata": {
    "vscode": {
     "languageId": "r"
    }
   },
   "outputs": [],
   "source": [
    "data18$Year <- 2018\n",
    "data19$Year <- 2019\n",
    "data20$Year <- 2020\n",
    "data21$Year <- 2021"
   ]
  },
  {
   "cell_type": "markdown",
   "id": "ba3d4f70",
   "metadata": {},
   "source": [
    "I will combine the datasets with rbind. rbind combines datasets by rows. (In order to combine the datasets, the number and the names of the columns must be the same in the datasets)"
   ]
  },
  {
   "cell_type": "code",
   "execution_count": 6,
   "id": "b8f8d3ce",
   "metadata": {
    "vscode": {
     "languageId": "r"
    }
   },
   "outputs": [
    {
     "data": {
      "text/html": [
       "<ol class=list-inline>\n",
       "\t<li>12737</li>\n",
       "\t<li>46</li>\n",
       "</ol>\n"
      ],
      "text/latex": [
       "\\begin{enumerate*}\n",
       "\\item 12737\n",
       "\\item 46\n",
       "\\end{enumerate*}\n"
      ],
      "text/markdown": [
       "1. 12737\n",
       "2. 46\n",
       "\n",
       "\n"
      ],
      "text/plain": [
       "[1] 12737    46"
      ]
     },
     "metadata": {},
     "output_type": "display_data"
    }
   ],
   "source": [
    "df <- rbind(data18, data19, data20, data21)\n",
    "dim(df)"
   ]
  },
  {
   "cell_type": "markdown",
   "id": "c7803628",
   "metadata": {},
   "source": [
    "Compute two ratios:\n",
    "- ratio_paid_submit = Total Payment Amount / Total Covered Charges\n",
    "- ratio_medicare = Total Medicare Payment Amount / Total Payment Amount"
   ]
  },
  {
   "cell_type": "code",
   "execution_count": 55,
   "id": "e3810e53",
   "metadata": {
    "vscode": {
     "languageId": "r"
    }
   },
   "outputs": [],
   "source": [
    "df_summary_21 <- df %>% \n",
    "  filter(Year == 2021) %>%\n",
    "  group_by(Rndrng_Prvdr_State_Abrvtn) %>%\n",
    "  summarise(total_submit=sum(Tot_Submtd_Cvrd_Chrg)/1000000, # unit = $Millon\n",
    "            total_paid = sum(Tot_Pymt_Amt)/1000000,\n",
    "            total_medicare = sum(Tot_Mdcr_Pymt_Amt)/1000000,\n",
    "            ratio_paid_submit = sum(Tot_Pymt_Amt)/sum(Tot_Submtd_Cvrd_Chrg),\n",
    "            ratio_medicare = sum(Tot_Mdcr_Pymt_Amt)/sum(Tot_Pymt_Amt)\n",
    "           ) \n"
   ]
  },
  {
   "cell_type": "code",
   "execution_count": 56,
   "id": "a9a09d55",
   "metadata": {
    "vscode": {
     "languageId": "r"
    }
   },
   "outputs": [
    {
     "data": {
      "text/html": [
       "<table>\n",
       "<thead><tr><th scope=col>Rndrng_Prvdr_State_Abrvtn</th><th scope=col>total_submit</th><th scope=col>total_paid</th><th scope=col>total_medicare</th><th scope=col>ratio_paid_submit</th><th scope=col>ratio_medicare</th></tr></thead>\n",
       "<tbody>\n",
       "\t<tr><td>MD        </td><td> 4324.0859</td><td>4007.8839 </td><td>3700.7187 </td><td>0.9268743 </td><td>0.9233598 </td></tr>\n",
       "\t<tr><td>WY        </td><td>  583.0662</td><td> 220.8512 </td><td> 198.3222 </td><td>0.3787756 </td><td>0.8979901 </td></tr>\n",
       "\t<tr><td>MT        </td><td> 1192.7049</td><td> 410.5575 </td><td> 363.6703 </td><td>0.3442239 </td><td>0.8857961 </td></tr>\n",
       "\t<tr><td>MA        </td><td>10583.0435</td><td>4328.3341 </td><td>3815.4155 </td><td>0.4089877 </td><td>0.8814975 </td></tr>\n",
       "\t<tr><td>MO        </td><td>10899.2469</td><td>2551.7448 </td><td>2240.2582 </td><td>0.2341212 </td><td>0.8779319 </td></tr>\n",
       "</tbody>\n",
       "</table>\n"
      ],
      "text/latex": [
       "\\begin{tabular}{r|llllll}\n",
       " Rndrng\\_Prvdr\\_State\\_Abrvtn & total\\_submit & total\\_paid & total\\_medicare & ratio\\_paid\\_submit & ratio\\_medicare\\\\\n",
       "\\hline\n",
       "\t MD         &  4324.0859 & 4007.8839  & 3700.7187  & 0.9268743  & 0.9233598 \\\\\n",
       "\t WY         &   583.0662 &  220.8512  &  198.3222  & 0.3787756  & 0.8979901 \\\\\n",
       "\t MT         &  1192.7049 &  410.5575  &  363.6703  & 0.3442239  & 0.8857961 \\\\\n",
       "\t MA         & 10583.0435 & 4328.3341  & 3815.4155  & 0.4089877  & 0.8814975 \\\\\n",
       "\t MO         & 10899.2469 & 2551.7448  & 2240.2582  & 0.2341212  & 0.8779319 \\\\\n",
       "\\end{tabular}\n"
      ],
      "text/markdown": [
       "\n",
       "| Rndrng_Prvdr_State_Abrvtn | total_submit | total_paid | total_medicare | ratio_paid_submit | ratio_medicare |\n",
       "|---|---|---|---|---|---|\n",
       "| MD         |  4324.0859 | 4007.8839  | 3700.7187  | 0.9268743  | 0.9233598  |\n",
       "| WY         |   583.0662 |  220.8512  |  198.3222  | 0.3787756  | 0.8979901  |\n",
       "| MT         |  1192.7049 |  410.5575  |  363.6703  | 0.3442239  | 0.8857961  |\n",
       "| MA         | 10583.0435 | 4328.3341  | 3815.4155  | 0.4089877  | 0.8814975  |\n",
       "| MO         | 10899.2469 | 2551.7448  | 2240.2582  | 0.2341212  | 0.8779319  |\n",
       "\n"
      ],
      "text/plain": [
       "  Rndrng_Prvdr_State_Abrvtn total_submit total_paid total_medicare\n",
       "1 MD                         4324.0859   4007.8839  3700.7187     \n",
       "2 WY                          583.0662    220.8512   198.3222     \n",
       "3 MT                         1192.7049    410.5575   363.6703     \n",
       "4 MA                        10583.0435   4328.3341  3815.4155     \n",
       "5 MO                        10899.2469   2551.7448  2240.2582     \n",
       "  ratio_paid_submit ratio_medicare\n",
       "1 0.9268743         0.9233598     \n",
       "2 0.3787756         0.8979901     \n",
       "3 0.3442239         0.8857961     \n",
       "4 0.4089877         0.8814975     \n",
       "5 0.2341212         0.8779319     "
      ]
     },
     "metadata": {},
     "output_type": "display_data"
    }
   ],
   "source": [
    "df_summary_21%>%top_n(5, wt = ratio_medicare)%>% arrange(desc(ratio_medicare))"
   ]
  },
  {
   "cell_type": "code",
   "execution_count": 57,
   "id": "904b6c90",
   "metadata": {
    "vscode": {
     "languageId": "r"
    }
   },
   "outputs": [
    {
     "data": {
      "text/html": [
       "<table>\n",
       "<thead><tr><th scope=col>Rndrng_Prvdr_State_Abrvtn</th><th scope=col>total_submit</th><th scope=col>total_paid</th><th scope=col>total_medicare</th><th scope=col>ratio_paid_submit</th><th scope=col>ratio_medicare</th></tr></thead>\n",
       "<tbody>\n",
       "\t<tr><td>DC       </td><td> 2994.844</td><td> 701.4520</td><td> 536.0083</td><td>0.2342199</td><td>0.7641411</td></tr>\n",
       "\t<tr><td>HI       </td><td> 1231.660</td><td> 422.2494</td><td> 331.6609</td><td>0.3428296</td><td>0.7854622</td></tr>\n",
       "\t<tr><td>PA       </td><td>29192.029</td><td>5773.8048</td><td>4608.2471</td><td>0.1977870</td><td>0.7981300</td></tr>\n",
       "\t<tr><td>TN       </td><td>11878.998</td><td>2709.8974</td><td>2171.3734</td><td>0.2281251</td><td>0.8012751</td></tr>\n",
       "\t<tr><td>AL       </td><td> 8665.756</td><td>1755.3703</td><td>1408.4710</td><td>0.2025640</td><td>0.8023783</td></tr>\n",
       "</tbody>\n",
       "</table>\n"
      ],
      "text/latex": [
       "\\begin{tabular}{r|llllll}\n",
       " Rndrng\\_Prvdr\\_State\\_Abrvtn & total\\_submit & total\\_paid & total\\_medicare & ratio\\_paid\\_submit & ratio\\_medicare\\\\\n",
       "\\hline\n",
       "\t DC        &  2994.844 &  701.4520 &  536.0083 & 0.2342199 & 0.7641411\\\\\n",
       "\t HI        &  1231.660 &  422.2494 &  331.6609 & 0.3428296 & 0.7854622\\\\\n",
       "\t PA        & 29192.029 & 5773.8048 & 4608.2471 & 0.1977870 & 0.7981300\\\\\n",
       "\t TN        & 11878.998 & 2709.8974 & 2171.3734 & 0.2281251 & 0.8012751\\\\\n",
       "\t AL        &  8665.756 & 1755.3703 & 1408.4710 & 0.2025640 & 0.8023783\\\\\n",
       "\\end{tabular}\n"
      ],
      "text/markdown": [
       "\n",
       "| Rndrng_Prvdr_State_Abrvtn | total_submit | total_paid | total_medicare | ratio_paid_submit | ratio_medicare |\n",
       "|---|---|---|---|---|---|\n",
       "| DC        |  2994.844 |  701.4520 |  536.0083 | 0.2342199 | 0.7641411 |\n",
       "| HI        |  1231.660 |  422.2494 |  331.6609 | 0.3428296 | 0.7854622 |\n",
       "| PA        | 29192.029 | 5773.8048 | 4608.2471 | 0.1977870 | 0.7981300 |\n",
       "| TN        | 11878.998 | 2709.8974 | 2171.3734 | 0.2281251 | 0.8012751 |\n",
       "| AL        |  8665.756 | 1755.3703 | 1408.4710 | 0.2025640 | 0.8023783 |\n",
       "\n"
      ],
      "text/plain": [
       "  Rndrng_Prvdr_State_Abrvtn total_submit total_paid total_medicare\n",
       "1 DC                         2994.844     701.4520   536.0083     \n",
       "2 HI                         1231.660     422.2494   331.6609     \n",
       "3 PA                        29192.029    5773.8048  4608.2471     \n",
       "4 TN                        11878.998    2709.8974  2171.3734     \n",
       "5 AL                         8665.756    1755.3703  1408.4710     \n",
       "  ratio_paid_submit ratio_medicare\n",
       "1 0.2342199         0.7641411     \n",
       "2 0.3428296         0.7854622     \n",
       "3 0.1977870         0.7981300     \n",
       "4 0.2281251         0.8012751     \n",
       "5 0.2025640         0.8023783     "
      ]
     },
     "metadata": {},
     "output_type": "display_data"
    }
   ],
   "source": [
    "df_summary_21%>%top_n(-5, wt = ratio_medicare)%>% arrange(ratio_medicare)"
   ]
  },
  {
   "cell_type": "code",
   "execution_count": 42,
   "id": "76585ae3",
   "metadata": {
    "vscode": {
     "languageId": "r"
    }
   },
   "outputs": [],
   "source": [
    "library(ggplot2)"
   ]
  },
  {
   "cell_type": "code",
   "execution_count": 58,
   "id": "b61f7158",
   "metadata": {
    "vscode": {
     "languageId": "r"
    }
   },
   "outputs": [],
   "source": [
    "df_summary_21_rm_na <- df_summary_21 %>% filter(!is.na(ratio_medicare))"
   ]
  },
  {
   "cell_type": "code",
   "execution_count": 77,
   "id": "f696ca61",
   "metadata": {
    "vscode": {
     "languageId": "r"
    }
   },
   "outputs": [
    {
     "data": {
      "image/png": "[encoded data removed]",
      "text/plain": [
       "plot without title"
      ]
     },
     "metadata": {},
     "output_type": "display_data"
    }
   ],
   "source": [
    "plot_state <-  ggplot(df_summary_21_rm_na, aes(x = reorder(Rndrng_Prvdr_State_Abrvtn, ratio_medicare), y=ratio_medicare)) +\n",
    "    geom_bar(stat=\"identity\", position=\"identity\", fill=ifelse(df_summary_21_rm_na$Rndrng_Prvdr_State_Abrvtn == \"MD\", \"black\", \"lightgrey\")) +\n",
    "    geom_hline(yintercept = 0, size = 1, colour=\"#333333\") +\n",
    "    coord_flip() + \n",
    "    theme_minimal() +\n",
    "    theme( axis.text.x = element_text(face=\"bold\", color='black', size=8),\n",
    "          axis.text.y = element_text(face=\"bold\", color='black', size=8, hjust = 0))+\n",
    "    xlab(\"\") + ylab(\"\")+ \n",
    "    labs(title = \"  Medicare Payment Rate in 2021\", subtitle = \"Maryland ranks the first in USA\")+\n",
    "    theme(plot.title = element_text(hjust = 0.1, color='black', size=12, face=\"bold.italic\"), plot.subtitle = element_text(hjust = 0.1, size=7, color = 'darkgrey', face = \"bold.italic\"))\n",
    "plot_state"
   ]
  },
  {
   "cell_type": "markdown",
   "id": "cded0b52",
   "metadata": {},
   "source": [
    "# Year trend"
   ]
  },
  {
   "cell_type": "code",
   "execution_count": 34,
   "id": "c1ac22e5",
   "metadata": {
    "vscode": {
     "languageId": "r"
    }
   },
   "outputs": [
    {
     "data": {
      "text/html": [
       "<table>\n",
       "<thead><tr><th scope=col>Rndrng_Prvdr_CCN</th><th scope=col>Rndrng_Prvdr_Org_Name</th><th scope=col>Rndrng_Prvdr_St</th><th scope=col>Rndrng_Prvdr_City</th><th scope=col>Rndrng_Prvdr_Zip5</th><th scope=col>Rndrng_Prvdr_State_Abrvtn</th><th scope=col>Tot_Submtd_Cvrd_Chrg</th><th scope=col>Tot_Pymt_Amt</th><th scope=col>Tot_Mdcr_Pymt_Amt</th><th scope=col>Tot_Dschrgs</th><th scope=col>...</th><th scope=col>Bene_CC_Dbts_Pct</th><th scope=col>Bene_CC_Hyplpdma_Pct</th><th scope=col>Bene_CC_Hyprtnsn_Pct</th><th scope=col>Bene_CC_IHD_Pct</th><th scope=col>Bene_CC_Opo_Pct</th><th scope=col>Bene_CC_RAOA_Pct</th><th scope=col>Bene_CC_Sz_Pct</th><th scope=col>Bene_CC_Strok_Pct</th><th scope=col>Bene_Avg_Risk_Scre</th><th scope=col>Year</th></tr></thead>\n",
       "<tbody>\n",
       "\t<tr><td>10001                           </td><td>SOUTHEAST ALABAMA MEDICAL CENTER</td><td>1108 ROSS CLARK CIRCLE          </td><td>DOTHAN                          </td><td>36301                           </td><td>AL                              </td><td>365240728                       </td><td>75848592                        </td><td>65634615                        </td><td>6996                            </td><td>...                             </td><td>0.479286422                     </td><td>0.748860258                     </td><td>0.75                            </td><td>0.595837463                     </td><td>0.1296333                       </td><td>0.578196234                     </td><td>0.088800793                     </td><td>0.18592666                      </td><td>2.086595113                     </td><td>2018                            </td></tr>\n",
       "\t<tr><td>10005                           </td><td>MARSHALL MEDICAL CENTER SOUTH   </td><td>2505 U S HIGHWAY 431 NORTH      </td><td>BOAZ                            </td><td>35957                           </td><td>AL                              </td><td> 58327634                       </td><td>24745522                        </td><td>19899502                        </td><td>3071                            </td><td>...                             </td><td>0.438157895                     </td><td>0.666666667                     </td><td>0.75                            </td><td>0.535964912                     </td><td>0.114473684                     </td><td>0.585087719                     </td><td>0.075877193                     </td><td>0.154385965                     </td><td>1.761785808                     </td><td>2018                            </td></tr>\n",
       "\t<tr><td>10006                           </td><td>NORTH ALABAMA MEDICAL CENTER    </td><td>1701 VETERANS DRIVE             </td><td>FLORENCE                        </td><td>35630                           </td><td>AL                              </td><td>216511653                       </td><td>46577016                        </td><td>38613206                        </td><td>5178                            </td><td>...                             </td><td>0.4409115                       </td><td>0.725490196                     </td><td>0.75                            </td><td>0.609167992                     </td><td>0.1118177                       </td><td>0.563063063                     </td><td>0.05590885                      </td><td>0.142289348                     </td><td>1.889106769                     </td><td>2018                            </td></tr>\n",
       "\t<tr><td>10007                           </td><td>MIZELL MEMORIAL HOSPITAL        </td><td>702 N MAIN ST                   </td><td>OPP                             </td><td>36467                           </td><td>AL                              </td><td>  9790291                       </td><td> 4604338                        </td><td> 3832272                        </td><td> 707                            </td><td>...                             </td><td>0.431211499                     </td><td>0.556468173                     </td><td>0.75                            </td><td>0.605749487                     </td><td>0.09650924                      </td><td>0.53798768                      </td><td>0.135523614                     </td><td>0.151950719                     </td><td>1.803546271                     </td><td>2018                            </td></tr>\n",
       "\t<tr><td>10008                           </td><td>CRENSHAW COMMUNITY HOSPITAL     </td><td>101 HOSPITAL CIRCLE             </td><td>LUVERNE                         </td><td>36049                           </td><td>AL                              </td><td>  3100435                       </td><td> 1424941                        </td><td> 1209627                        </td><td> 171                            </td><td>...                             </td><td>0.417910448                     </td><td>0.582089552                     </td><td>0.75                            </td><td>0.567164179                     </td><td>0.067164179                     </td><td>0.559701493                     </td><td>0.097014925                     </td><td>0.119402985                     </td><td>1.731700249                     </td><td>2018                            </td></tr>\n",
       "\t<tr><td>10011                           </td><td>ST VINCENT'S EAST               </td><td>50 MEDICAL PARK EAST DRIVE      </td><td>BIRMINGHAM                      </td><td>35235                           </td><td>AL                              </td><td>163559892                       </td><td>34234753                        </td><td>28624702                        </td><td>2932                            </td><td>...                             </td><td>0.450801907                     </td><td>0.680104031                     </td><td>0.75                            </td><td>0.576939749                     </td><td>0.081924577                     </td><td>0.44863459                      </td><td>0.098396186                     </td><td>0.133506719                     </td><td>2.052724473                     </td><td>2018                            </td></tr>\n",
       "</tbody>\n",
       "</table>\n"
      ],
      "text/latex": [
       "\\begin{tabular}{r|llllllllllllllllllllllllllllllllllllllllllllll}\n",
       " Rndrng\\_Prvdr\\_CCN & Rndrng\\_Prvdr\\_Org\\_Name & Rndrng\\_Prvdr\\_St & Rndrng\\_Prvdr\\_City & Rndrng\\_Prvdr\\_Zip5 & Rndrng\\_Prvdr\\_State\\_Abrvtn & Tot\\_Submtd\\_Cvrd\\_Chrg & Tot\\_Pymt\\_Amt & Tot\\_Mdcr\\_Pymt\\_Amt & Tot\\_Dschrgs & ... & Bene\\_CC\\_Dbts\\_Pct & Bene\\_CC\\_Hyplpdma\\_Pct & Bene\\_CC\\_Hyprtnsn\\_Pct & Bene\\_CC\\_IHD\\_Pct & Bene\\_CC\\_Opo\\_Pct & Bene\\_CC\\_RAOA\\_Pct & Bene\\_CC\\_Sz\\_Pct & Bene\\_CC\\_Strok\\_Pct & Bene\\_Avg\\_Risk\\_Scre & Year\\\\\n",
       "\\hline\n",
       "\t 10001                            & SOUTHEAST ALABAMA MEDICAL CENTER & 1108 ROSS CLARK CIRCLE           & DOTHAN                           & 36301                            & AL                               & 365240728                        & 75848592                         & 65634615                         & 6996                             & ...                              & 0.479286422                      & 0.748860258                      & 0.75                             & 0.595837463                      & 0.1296333                        & 0.578196234                      & 0.088800793                      & 0.18592666                       & 2.086595113                      & 2018                            \\\\\n",
       "\t 10005                            & MARSHALL MEDICAL CENTER SOUTH    & 2505 U S HIGHWAY 431 NORTH       & BOAZ                             & 35957                            & AL                               &  58327634                        & 24745522                         & 19899502                         & 3071                             & ...                              & 0.438157895                      & 0.666666667                      & 0.75                             & 0.535964912                      & 0.114473684                      & 0.585087719                      & 0.075877193                      & 0.154385965                      & 1.761785808                      & 2018                            \\\\\n",
       "\t 10006                            & NORTH ALABAMA MEDICAL CENTER     & 1701 VETERANS DRIVE              & FLORENCE                         & 35630                            & AL                               & 216511653                        & 46577016                         & 38613206                         & 5178                             & ...                              & 0.4409115                        & 0.725490196                      & 0.75                             & 0.609167992                      & 0.1118177                        & 0.563063063                      & 0.05590885                       & 0.142289348                      & 1.889106769                      & 2018                            \\\\\n",
       "\t 10007                            & MIZELL MEMORIAL HOSPITAL         & 702 N MAIN ST                    & OPP                              & 36467                            & AL                               &   9790291                        &  4604338                         &  3832272                         &  707                             & ...                              & 0.431211499                      & 0.556468173                      & 0.75                             & 0.605749487                      & 0.09650924                       & 0.53798768                       & 0.135523614                      & 0.151950719                      & 1.803546271                      & 2018                            \\\\\n",
       "\t 10008                            & CRENSHAW COMMUNITY HOSPITAL      & 101 HOSPITAL CIRCLE              & LUVERNE                          & 36049                            & AL                               &   3100435                        &  1424941                         &  1209627                         &  171                             & ...                              & 0.417910448                      & 0.582089552                      & 0.75                             & 0.567164179                      & 0.067164179                      & 0.559701493                      & 0.097014925                      & 0.119402985                      & 1.731700249                      & 2018                            \\\\\n",
       "\t 10011                            & ST VINCENT'S EAST                & 50 MEDICAL PARK EAST DRIVE       & BIRMINGHAM                       & 35235                            & AL                               & 163559892                        & 34234753                         & 28624702                         & 2932                             & ...                              & 0.450801907                      & 0.680104031                      & 0.75                             & 0.576939749                      & 0.081924577                      & 0.44863459                       & 0.098396186                      & 0.133506719                      & 2.052724473                      & 2018                            \\\\\n",
       "\\end{tabular}\n"
      ],
      "text/markdown": [
       "\n",
       "| Rndrng_Prvdr_CCN | Rndrng_Prvdr_Org_Name | Rndrng_Prvdr_St | Rndrng_Prvdr_City | Rndrng_Prvdr_Zip5 | Rndrng_Prvdr_State_Abrvtn | Tot_Submtd_Cvrd_Chrg | Tot_Pymt_Amt | Tot_Mdcr_Pymt_Amt | Tot_Dschrgs | ... | Bene_CC_Dbts_Pct | Bene_CC_Hyplpdma_Pct | Bene_CC_Hyprtnsn_Pct | Bene_CC_IHD_Pct | Bene_CC_Opo_Pct | Bene_CC_RAOA_Pct | Bene_CC_Sz_Pct | Bene_CC_Strok_Pct | Bene_Avg_Risk_Scre | Year |\n",
       "|---|---|---|---|---|---|---|---|---|---|---|---|---|---|---|---|---|---|---|---|---|\n",
       "| 10001                            | SOUTHEAST ALABAMA MEDICAL CENTER | 1108 ROSS CLARK CIRCLE           | DOTHAN                           | 36301                            | AL                               | 365240728                        | 75848592                         | 65634615                         | 6996                             | ...                              | 0.479286422                      | 0.748860258                      | 0.75                             | 0.595837463                      | 0.1296333                        | 0.578196234                      | 0.088800793                      | 0.18592666                       | 2.086595113                      | 2018                             |\n",
       "| 10005                            | MARSHALL MEDICAL CENTER SOUTH    | 2505 U S HIGHWAY 431 NORTH       | BOAZ                             | 35957                            | AL                               |  58327634                        | 24745522                         | 19899502                         | 3071                             | ...                              | 0.438157895                      | 0.666666667                      | 0.75                             | 0.535964912                      | 0.114473684                      | 0.585087719                      | 0.075877193                      | 0.154385965                      | 1.761785808                      | 2018                             |\n",
       "| 10006                            | NORTH ALABAMA MEDICAL CENTER     | 1701 VETERANS DRIVE              | FLORENCE                         | 35630                            | AL                               | 216511653                        | 46577016                         | 38613206                         | 5178                             | ...                              | 0.4409115                        | 0.725490196                      | 0.75                             | 0.609167992                      | 0.1118177                        | 0.563063063                      | 0.05590885                       | 0.142289348                      | 1.889106769                      | 2018                             |\n",
       "| 10007                            | MIZELL MEMORIAL HOSPITAL         | 702 N MAIN ST                    | OPP                              | 36467                            | AL                               |   9790291                        |  4604338                         |  3832272                         |  707                             | ...                              | 0.431211499                      | 0.556468173                      | 0.75                             | 0.605749487                      | 0.09650924                       | 0.53798768                       | 0.135523614                      | 0.151950719                      | 1.803546271                      | 2018                             |\n",
       "| 10008                            | CRENSHAW COMMUNITY HOSPITAL      | 101 HOSPITAL CIRCLE              | LUVERNE                          | 36049                            | AL                               |   3100435                        |  1424941                         |  1209627                         |  171                             | ...                              | 0.417910448                      | 0.582089552                      | 0.75                             | 0.567164179                      | 0.067164179                      | 0.559701493                      | 0.097014925                      | 0.119402985                      | 1.731700249                      | 2018                             |\n",
       "| 10011                            | ST VINCENT'S EAST                | 50 MEDICAL PARK EAST DRIVE       | BIRMINGHAM                       | 35235                            | AL                               | 163559892                        | 34234753                         | 28624702                         | 2932                             | ...                              | 0.450801907                      | 0.680104031                      | 0.75                             | 0.576939749                      | 0.081924577                      | 0.44863459                       | 0.098396186                      | 0.133506719                      | 2.052724473                      | 2018                             |\n",
       "\n"
      ],
      "text/plain": [
       "  Rndrng_Prvdr_CCN Rndrng_Prvdr_Org_Name            Rndrng_Prvdr_St           \n",
       "1 10001            SOUTHEAST ALABAMA MEDICAL CENTER 1108 ROSS CLARK CIRCLE    \n",
       "2 10005            MARSHALL MEDICAL CENTER SOUTH    2505 U S HIGHWAY 431 NORTH\n",
       "3 10006            NORTH ALABAMA MEDICAL CENTER     1701 VETERANS DRIVE       \n",
       "4 10007            MIZELL MEMORIAL HOSPITAL         702 N MAIN ST             \n",
       "5 10008            CRENSHAW COMMUNITY HOSPITAL      101 HOSPITAL CIRCLE       \n",
       "6 10011            ST VINCENT'S EAST                50 MEDICAL PARK EAST DRIVE\n",
       "  Rndrng_Prvdr_City Rndrng_Prvdr_Zip5 Rndrng_Prvdr_State_Abrvtn\n",
       "1 DOTHAN            36301             AL                       \n",
       "2 BOAZ              35957             AL                       \n",
       "3 FLORENCE          35630             AL                       \n",
       "4 OPP               36467             AL                       \n",
       "5 LUVERNE           36049             AL                       \n",
       "6 BIRMINGHAM        35235             AL                       \n",
       "  Tot_Submtd_Cvrd_Chrg Tot_Pymt_Amt Tot_Mdcr_Pymt_Amt Tot_Dschrgs ...\n",
       "1 365240728            75848592     65634615          6996        ...\n",
       "2  58327634            24745522     19899502          3071        ...\n",
       "3 216511653            46577016     38613206          5178        ...\n",
       "4   9790291             4604338      3832272           707        ...\n",
       "5   3100435             1424941      1209627           171        ...\n",
       "6 163559892            34234753     28624702          2932        ...\n",
       "  Bene_CC_Dbts_Pct Bene_CC_Hyplpdma_Pct Bene_CC_Hyprtnsn_Pct Bene_CC_IHD_Pct\n",
       "1 0.479286422      0.748860258          0.75                 0.595837463    \n",
       "2 0.438157895      0.666666667          0.75                 0.535964912    \n",
       "3 0.4409115        0.725490196          0.75                 0.609167992    \n",
       "4 0.431211499      0.556468173          0.75                 0.605749487    \n",
       "5 0.417910448      0.582089552          0.75                 0.567164179    \n",
       "6 0.450801907      0.680104031          0.75                 0.576939749    \n",
       "  Bene_CC_Opo_Pct Bene_CC_RAOA_Pct Bene_CC_Sz_Pct Bene_CC_Strok_Pct\n",
       "1 0.1296333       0.578196234      0.088800793    0.18592666       \n",
       "2 0.114473684     0.585087719      0.075877193    0.154385965      \n",
       "3 0.1118177       0.563063063      0.05590885     0.142289348      \n",
       "4 0.09650924      0.53798768       0.135523614    0.151950719      \n",
       "5 0.067164179     0.559701493      0.097014925    0.119402985      \n",
       "6 0.081924577     0.44863459       0.098396186    0.133506719      \n",
       "  Bene_Avg_Risk_Scre Year\n",
       "1 2.086595113        2018\n",
       "2 1.761785808        2018\n",
       "3 1.889106769        2018\n",
       "4 1.803546271        2018\n",
       "5 1.731700249        2018\n",
       "6 2.052724473        2018"
      ]
     },
     "metadata": {},
     "output_type": "display_data"
    }
   ],
   "source": [
    "head(df)"
   ]
  },
  {
   "cell_type": "code",
   "execution_count": 43,
   "id": "8f42d6f9",
   "metadata": {
    "vscode": {
     "languageId": "r"
    }
   },
   "outputs": [],
   "source": [
    "df_summary_year <- df %>% \n",
    "    filter(!is.na(Tot_Mdcr_Pymt_Amt) & !is.na(Tot_Pymt_Amt))%>%\n",
    "    group_by(Year) %>%\n",
    "    summarise(total_submit=sum(Tot_Submtd_Cvrd_Chrg)/1000000, # unit = $Millon\n",
    "            total_paid = sum(Tot_Pymt_Amt)/1000000,\n",
    "            total_medicare = sum(Tot_Mdcr_Pymt_Amt)/1000000,\n",
    "            ratio_paid_submit = sum(Tot_Pymt_Amt)/sum(Tot_Submtd_Cvrd_Chrg),\n",
    "            ratio_medicare = sum(Tot_Mdcr_Pymt_Amt)/sum(Tot_Pymt_Amt)\n",
    "           ) \n"
   ]
  },
  {
   "cell_type": "code",
   "execution_count": 44,
   "id": "9acb89b0",
   "metadata": {
    "vscode": {
     "languageId": "r"
    }
   },
   "outputs": [
    {
     "data": {
      "text/html": [
       "<table>\n",
       "<thead><tr><th scope=col>Year</th><th scope=col>total_submit</th><th scope=col>total_paid</th><th scope=col>total_medicare</th><th scope=col>ratio_paid_submit</th><th scope=col>ratio_medicare</th></tr></thead>\n",
       "<tbody>\n",
       "\t<tr><td>2018     </td><td>594189.9 </td><td>134939.0 </td><td>113209.3 </td><td>0.2270975</td><td>0.8389662</td></tr>\n",
       "\t<tr><td>2019     </td><td>613463.4 </td><td>136958.2 </td><td>114818.1 </td><td>0.2232541</td><td>0.8383444</td></tr>\n",
       "\t<tr><td>2020     </td><td>568277.1 </td><td>127486.6 </td><td>107749.7 </td><td>0.2243388</td><td>0.8451843</td></tr>\n",
       "\t<tr><td>2021     </td><td>579874.1 </td><td>128664.0 </td><td>108279.3 </td><td>0.2218827</td><td>0.8415661</td></tr>\n",
       "</tbody>\n",
       "</table>\n"
      ],
      "text/latex": [
       "\\begin{tabular}{r|llllll}\n",
       " Year & total\\_submit & total\\_paid & total\\_medicare & ratio\\_paid\\_submit & ratio\\_medicare\\\\\n",
       "\\hline\n",
       "\t 2018      & 594189.9  & 134939.0  & 113209.3  & 0.2270975 & 0.8389662\\\\\n",
       "\t 2019      & 613463.4  & 136958.2  & 114818.1  & 0.2232541 & 0.8383444\\\\\n",
       "\t 2020      & 568277.1  & 127486.6  & 107749.7  & 0.2243388 & 0.8451843\\\\\n",
       "\t 2021      & 579874.1  & 128664.0  & 108279.3  & 0.2218827 & 0.8415661\\\\\n",
       "\\end{tabular}\n"
      ],
      "text/markdown": [
       "\n",
       "| Year | total_submit | total_paid | total_medicare | ratio_paid_submit | ratio_medicare |\n",
       "|---|---|---|---|---|---|\n",
       "| 2018      | 594189.9  | 134939.0  | 113209.3  | 0.2270975 | 0.8389662 |\n",
       "| 2019      | 613463.4  | 136958.2  | 114818.1  | 0.2232541 | 0.8383444 |\n",
       "| 2020      | 568277.1  | 127486.6  | 107749.7  | 0.2243388 | 0.8451843 |\n",
       "| 2021      | 579874.1  | 128664.0  | 108279.3  | 0.2218827 | 0.8415661 |\n",
       "\n"
      ],
      "text/plain": [
       "  Year total_submit total_paid total_medicare ratio_paid_submit ratio_medicare\n",
       "1 2018 594189.9     134939.0   113209.3       0.2270975         0.8389662     \n",
       "2 2019 613463.4     136958.2   114818.1       0.2232541         0.8383444     \n",
       "3 2020 568277.1     127486.6   107749.7       0.2243388         0.8451843     \n",
       "4 2021 579874.1     128664.0   108279.3       0.2218827         0.8415661     "
      ]
     },
     "metadata": {},
     "output_type": "display_data"
    }
   ],
   "source": [
    "df_summary_year"
   ]
  },
  {
   "cell_type": "markdown",
   "id": "ff26a09d",
   "metadata": {},
   "source": [
    "The ratio_paid_submit and ratio_medicare both decreased slightly over the span of 2018 to 2021."
   ]
  }
 ],
 "metadata": {
  "kernelspec": {
   "display_name": "R",
   "language": "R",
   "name": "ir"
  },
  "language_info": {
   "codemirror_mode": "r",
   "file_extension": ".r",
   "mimetype": "text/x-r-source",
   "name": "R",
   "pygments_lexer": "r",
   "version": "3.6.1"
  }
 },
 "nbformat": 4,
 "nbformat_minor": 5
}
